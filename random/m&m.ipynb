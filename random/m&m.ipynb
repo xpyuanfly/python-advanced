{
 "cells": [
  {
   "cell_type": "markdown",
   "metadata": {},
   "source": [
    "M&M豆是有各种颜色的糖果巧克力豆。制造M&M豆的Mars公司会不时变更不同颜色巧克力豆之间的混合比例。\n",
    "1995年，他们推出了蓝色的M&M豆。在此前一袋普通的M&M豆中，颜色的搭配为：30%褐色，20%黄色，20%红色，10%绿色，10%橙色，10%黄褐色。这之后变成了：24%蓝色，20%绿色，16%橙色，14%黄色，13%红色，13%褐色。\n",
    "假设我的一个朋友有两袋M&M豆，他告诉我一袋是1994年，一带是1996年。\n",
    "但他没告诉我具体那个袋子是哪一年的，他从每个袋子里各取了一个M&M豆给我。一个是黄色，一个是绿色的。那么黄色豆来自1994年的袋子的概率是多少？"
   ]
  },
  {
   "cell_type": "code",
   "execution_count": 3,
   "metadata": {},
   "outputs": [
    {
     "name": "stdout",
     "output_type": "stream",
     "text": [
      "0.7401098493282862 0.7407407407407407\n"
     ]
    }
   ],
   "source": [
    "import time\n",
    "import random\n",
    "# print(time.strftime(\"%Y-%m-%d %X\",time.localtime()))\n",
    "dou = {1994:{'褐色':30,'黄色':20,'红色':20,'绿色':10,'橙色':10,'黄褐':30},\n",
    "        1996:{'蓝色':24,'绿色':20,'橙色':16,'黄色':14,'红色':13,'褐色':13}}\n",
    "num = 10000\n",
    "list_1994 = ['褐色']*30*num+['黄色']*20*num+['红色']*20*num+['绿色']*10*num+['橙色']*10*num+['黄褐']*10*num\n",
    "list_1996 = ['蓝色']*24*num+['绿色']*20*num+['橙色']*16*num+['黄色']*14*num+['红色']*13*num+['褐色']*13*num\n",
    "random.shuffle(list_1994)\n",
    "random.shuffle(list_1996)\n",
    "count_all = 0\n",
    "count_key = 0\n",
    "for key in range(100 * num):\n",
    "    if list_1994[key] == '黄色' and list_1996[key] == '绿色':\n",
    "        count_all += 1\n",
    "        count_key += 1\n",
    "    if list_1994[key] == '绿色' and list_1996[key] == '黄色':\n",
    "        count_all += 1\n",
    "print(count_key / count_all,20/27)\n",
    "\n",
    "# 理论值= 20% * 20% / (14% * 10% + 20%* 20%) = 400 / (140+400)= 40/54 =20/27\n",
    "# print(time.strftime(\"%Y-%m-%d %X\",time.localtime()))\n",
    "    \n",
    "    # ...\n",
    "    # 0.7407064573459715 0.7407407407407407\n",
    "    # 20/27是理论答案"
   ]
  }
 ],
 "metadata": {
  "kernelspec": {
   "display_name": "Python 3.9.12 ('base')",
   "language": "python",
   "name": "python3"
  },
  "language_info": {
   "codemirror_mode": {
    "name": "ipython",
    "version": 3
   },
   "file_extension": ".py",
   "mimetype": "text/x-python",
   "name": "python",
   "nbconvert_exporter": "python",
   "pygments_lexer": "ipython3",
   "version": "3.9.12"
  },
  "orig_nbformat": 4,
  "vscode": {
   "interpreter": {
    "hash": "a4dded33d7e5587329f3b5bd298582320440e731ec97d683ac8324bdf803f54d"
   }
  }
 },
 "nbformat": 4,
 "nbformat_minor": 2
}
