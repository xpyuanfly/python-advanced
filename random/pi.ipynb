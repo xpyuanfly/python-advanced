{
 "cells": [
  {
   "cell_type": "markdown",
   "metadata": {},
   "source": [
    "random库概述\n",
    "\n",
    "random库是使用随机数的Python标准库\n",
    "-伪随机数：采用梅森旋转算法生成的（伪）随机序列中元素\n",
    "-random库主要用于生成随机数\n",
    "-使用random库：import random\n",
    "\n",
    "random库包括两类函数，常用共8个\n",
    "-基本随机数函数：seed()，random()\n",
    "-扩展随机数函数：\n",
    "randint()，getrandbits(），uniform(），randrange()，choice()，shuffle(）\n",
    "\n",
    "需要掌握的能力\n",
    "-能够利用随机数种子产生“确定“伪随机数\n",
    "-能够产生随机整数\n",
    "-能够对序列类型进行随机操作\n"
   ]
  },
  {
   "cell_type": "code",
   "execution_count": 1,
   "metadata": {},
   "outputs": [
    {
     "name": "stdout",
     "output_type": "stream",
     "text": [
      "圆周率值是: 3.141592653589793\n"
     ]
    }
   ],
   "source": [
    "#CalPiV1.py 公式法：\n",
    "pi = 0\n",
    "N = 100\n",
    "for k in range(N):\n",
    "    pi += 1/pow(16,k)*( \\\n",
    "              4/(8*k+1) - 2/(8*k+4) - \\\n",
    "              1/(8*k+5) - 1/(8*k+6) ) \n",
    "print(\"圆周率值是: {}\".format(pi))"
   ]
  },
  {
   "cell_type": "code",
   "execution_count": 3,
   "metadata": {},
   "outputs": [
    {
     "name": "stdout",
     "output_type": "stream",
     "text": [
      "圆周率值是: 3.139012\n",
      "运行时间是: 0.47562s\n"
     ]
    }
   ],
   "source": [
    "#CalPiV2.py\n",
    "from random import random\n",
    "from time import perf_counter\n",
    "DARTS = 1000*1000\n",
    "hits = 0.0\n",
    "start = perf_counter()\n",
    "for i in range(1, DARTS+1):\n",
    "    x, y = random(), random()\n",
    "    dist = pow(x ** 2 + y ** 2, 0.5)\n",
    "    if dist <= 1.0:\n",
    "        hits = hits + 1\n",
    "pi = 4 * (hits/DARTS)\n",
    "print(\"圆周率值是: {}\".format(pi))\n",
    "print(\"运行时间是: {:.5f}s\".format(perf_counter() - start))"
   ]
  },
  {
   "cell_type": "code",
   "execution_count": 5,
   "metadata": {},
   "outputs": [
    {
     "name": "stdout",
     "output_type": "stream",
     "text": [
      "pi = 3.14119\n",
      "运行时间是: 4.34483s\n"
     ]
    }
   ],
   "source": [
    "import math\n",
    "import random\n",
    "m = 1000*1000*10\n",
    "n = 0\n",
    "start = perf_counter()\n",
    "for i in range(m):\n",
    "\t# x、y为0-1之间的随机数\n",
    "    x = random.random()\n",
    "    y = random.random()\n",
    "    # 若点(x,y) 属于图中1/4圆内 则有效个数+1\n",
    "    if math.sqrt(x**2 + y**2) < 1:\n",
    "        n += 1\n",
    "# 计算pi\n",
    "pi = 4 * n / m\n",
    "print(\"pi = {}\".format(pi))\n",
    "print(\"运行时间是: {:.5f}s\".format(perf_counter() - start))\n",
    "\n",
    "# pi = 3.1508（结果具有随机性 不一定完全一样）\n"
   ]
  }
 ],
 "metadata": {
  "kernelspec": {
   "display_name": "Python 3.9.12 ('base')",
   "language": "python",
   "name": "python3"
  },
  "language_info": {
   "codemirror_mode": {
    "name": "ipython",
    "version": 3
   },
   "file_extension": ".py",
   "mimetype": "text/x-python",
   "name": "python",
   "nbconvert_exporter": "python",
   "pygments_lexer": "ipython3",
   "version": "3.9.12"
  },
  "orig_nbformat": 4,
  "vscode": {
   "interpreter": {
    "hash": "a4dded33d7e5587329f3b5bd298582320440e731ec97d683ac8324bdf803f54d"
   }
  }
 },
 "nbformat": 4,
 "nbformat_minor": 2
}
