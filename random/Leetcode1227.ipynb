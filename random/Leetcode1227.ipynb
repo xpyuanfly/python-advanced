{
 "cells": [
  {
   "cell_type": "markdown",
   "metadata": {},
   "source": [
    "有 n 位乘客即将登机，飞机正好有 n 个座位。第一位乘客的票丢了，他随便选了一个座位坐下。\n",
    "剩下的乘客将会：如果他们自己的座位还空着，就坐到自己的座位上， 当他们自己的座位被占用时，随机选择其他座位，第 n 位乘客坐在自己的座位上的概率是多少？\n",
    "\n",
    "示例 1：输入：n = 1 输出：1.00000 解释：第一个人只会坐在自己的位置上。\n",
    "\n",
    "示例 2：输入: n = 2 输出: 0.50000 解释：在第一个人选好座位坐下后，第二个人坐在自己的座位上的概率是 0.5。\n",
    "\n",
    "提示：1 <= n <= 10^5\n",
    "用random 模拟求解"
   ]
  },
  {
   "cell_type": "markdown",
   "metadata": {},
   "source": [
    "解题思路[1]\n",
    "对于第一个乘客来说 他有三种选择：\n",
    "\n",
    "坐在正确的（自己的位置）, 那么后面的乘客都不会乱，所以第n个乘客可以坐到自己的位置, 1/n * 1.\n",
    "坐在第n个乘客的位置，那么第n个乘客肯定无法坐到自己的位置, 1/n * 0.\n",
    "坐在[1,n-1]之间的某个位置K.\n",
    "对于第K个乘客而言，自己的位置K已经被乘客1给占了，而[2，K-1]的乘客先于K乘客 上飞机，能找到自己的位置并坐下，所以当K乘客上飞机时，留给他的选择是\n",
    "\n",
    "第1个座位，以及[K+1,n]的座位。\n",
    "\n",
    "此时K乘客同样有3个选择：\n",
    "\n",
    "如果他坐在正确的座位，那么后面的乘客都不会乱，第n个乘客可以坐到自己的位置，只不过此时对于K乘客而言，正确的座位就是座位1。\n",
    "坐在第n个乘客的位置，那么第n个乘客肯定无法坐到自己的位置\n",
    "坐在[K+1,n-1]之间的某个位置。\n",
    "可以发现对于第一个乘客和第K个乘客，他们面临的选择是一样的，只不过问题的规模不一样。第K个乘客时，问题的规模只有n-K+1. (为何， 上面已经解释过了，对于第K个乘客而言，自己的位置K已经被乘客1给占了，而[2，K-1]的乘客先于K乘客 上飞机，能找到自己的位置并坐下)。\n",
    "\n",
    "所以此题公式为：\n",
    "\n",
    "f(1)=1\n",
    "\n",
    "f(2)=0.5\n",
    "\n",
    "f(3)=1/3 + 1/3 * 1/2  = 0.5\n",
    "\n",
    "f(4)=1/4 + 1/4*(1/3+ 1/3 * 1/2  ) + 1/4* 1/2 = 1/4 + 1/4 * f(3) + 1/4* f(2)=0.5\n",
    "\n",
    "f(5)=1/5 + 1/5 * f(4) + 1/5 * f(3) + 1/5 * f(2)=0.5\n",
    "\n",
    "...\n",
    "\n",
    "f(n)=1/n + 1/n * f(n-1) + 1/5 * f(n-2) + ... + 1/n * f(2) =0.5\n",
    " "
   ]
  },
  {
   "cell_type": "code",
   "execution_count": 63,
   "metadata": {},
   "outputs": [
    {
     "data": {
      "text/plain": [
       "0.49899799599198397"
      ]
     },
     "execution_count": 63,
     "metadata": {},
     "output_type": "execute_result"
    }
   ],
   "source": [
    "#暴力模拟法\n",
    "import random\n",
    "def simulate_bruteforce(n):    \n",
    "    \"\"\"    Simulates one round. Unbounded time complexity.    \n",
    "    :param n: total number of seats    \n",
    "    :return: True if last one has last seat, otherwise False    \n",
    "    \"\"\"    \n",
    "    seats = [False for _ in range(n)]    \n",
    "    for i in range(n-1):       \n",
    "        if i == 0:  # first one, always random            \n",
    "            seats[random.randint(0, n - 1)] = True        \n",
    "        else:            \n",
    "            if not seats[i]:  # i-th has his seat                \n",
    "                seats[i] = True            \n",
    "            else:                \n",
    "                while True:                    \n",
    "                    rnd = random.randint(0, n - 1) # random until no conflicts                    \n",
    "                    if not seats[rnd]:                        \n",
    "                        seats[rnd] = True                        \n",
    "                        break    \n",
    "    return not seats[n-1]\n",
    "ans = [simulate_bruteforce(i) for i in range(2,1000) ] *1000\n",
    "sum(ans )/len(ans)\n",
    "    "
   ]
  },
  {
   "cell_type": "code",
   "execution_count": 58,
   "metadata": {},
   "outputs": [
    {
     "data": {
      "text/plain": [
       "0.5"
      ]
     },
     "execution_count": 58,
     "metadata": {},
     "output_type": "execute_result"
    }
   ],
   "source": [
    "#标准答案\n",
    "class Solution:    \n",
    "    def nthPersonGetsNthSeat(self, n: int) -> float:        \n",
    "        return 1.0 if n == 1 else 0.5\n",
    "\n",
    "ans = Solution().nthPersonGetsNthSeat(50)\n",
    "ans"
   ]
  },
  {
   "cell_type": "code",
   "execution_count": 64,
   "metadata": {},
   "outputs": [
    {
     "data": {
      "text/plain": [
       "0.5033006601320265"
      ]
     },
     "execution_count": 64,
     "metadata": {},
     "output_type": "execute_result"
    }
   ],
   "source": [
    "def simulate_online(n: int) -> bool:    \n",
    "    \"\"\"    Simulates one round of complexity O(N).    \n",
    "    :param n: total number of seats    \n",
    "    :return: True if last one has last seat, otherwise False    \n",
    "    \"\"\"    \n",
    "    seats = [i for i in range(n)]    \n",
    "    def swap(i, j):        \n",
    "        tmp = seats[i]        \n",
    "        seats[i] = seats[j]        \n",
    "        seats[j] = tmp    \n",
    "    # for each person, the seats array idx available are [i, n-1]    \n",
    "    for i in range(n-1):        \n",
    "        if i == 0:  # first one, always random            \n",
    "            rnd = random.randint(0, n - 1)            \n",
    "            swap(rnd, 0)        \n",
    "        else:            \n",
    "            if seats[i] == i:  # i-th still has his seat                \n",
    "                pass           \n",
    "            else:                \n",
    "                rnd = random.randint(i, n - 1)  # selects idx from [i, n-1]                \n",
    "                swap(rnd, i)    \n",
    "    return seats[n-1] == n - 1\n",
    "            \n",
    "ans = [simulate_online(i) for i in range(2,10000) ] *1000\n",
    "sum(ans )/len(ans)"
   ]
  },
  {
   "cell_type": "code",
   "execution_count": 65,
   "metadata": {},
   "outputs": [
    {
     "data": {
      "text/plain": [
       "0.503500700140028"
      ]
     },
     "execution_count": 65,
     "metadata": {},
     "output_type": "execute_result"
    }
   ],
   "source": [
    "def simulate(n: int) -> bool:    \n",
    "    \"\"\"    Simulates one round of complexity O(N).    \n",
    "    :param n: total number of seats    \n",
    "    :return: True if last one has last seat, otherwise False    \n",
    "    \"\"\"    \n",
    "    seats = [False for _ in range(n)]    \n",
    "    # for each person, the seats array idx available are [i, n-1]    \n",
    "    for i in range(n-1):        \n",
    "        if i == 0:  # first one, always random            \n",
    "            rnd = random.randint(0, n - 1)            \n",
    "            seats[rnd] = True        \n",
    "        else:            \n",
    "            if not seats[i]:  # i-th still has his seat                \n",
    "                seats[i] = True            \n",
    "            else:                # 0 must not be available, now we have 0 and [i+1, n-1],                \n",
    "                rnd = random.randint(i, n - 1)                \n",
    "                if rnd == i:                    \n",
    "                    seats[0] = True                \n",
    "                else:                    \n",
    "                    seats[rnd] = True    \n",
    "    return not seats[n-1]\n",
    "\n",
    "ans = [simulate(i) for i in range(2,10000) ] *1000\n",
    "sum(ans )/len(ans)"
   ]
  },
  {
   "cell_type": "code",
   "execution_count": null,
   "metadata": {},
   "outputs": [],
   "source": [
    "# 罗毅扬 best\n",
    "import random\n",
    "n = 100#人数\n",
    "k = 100000#次数\n",
    "sum = 0#统计次数\n",
    "for i in range(k):\n",
    "    x = 1#表明第一个乘客开始\n",
    "    while True:\n",
    "        x = random.randint(x+1,n+1)\n",
    "        if x == n+1:\n",
    "            sum+=1\n",
    "            break\n",
    "        elif x == n:\n",
    "            break\n",
    "        else:\n",
    "            None\n",
    "print(sum/k)#输出结果"
   ]
  }
 ],
 "metadata": {
  "kernelspec": {
   "display_name": "Python 3.9.12 ('base')",
   "language": "python",
   "name": "python3"
  },
  "language_info": {
   "codemirror_mode": {
    "name": "ipython",
    "version": 3
   },
   "file_extension": ".py",
   "mimetype": "text/x-python",
   "name": "python",
   "nbconvert_exporter": "python",
   "pygments_lexer": "ipython3",
   "version": "3.9.12"
  },
  "orig_nbformat": 4,
  "vscode": {
   "interpreter": {
    "hash": "a4dded33d7e5587329f3b5bd298582320440e731ec97d683ac8324bdf803f54d"
   }
  }
 },
 "nbformat": 4,
 "nbformat_minor": 2
}
