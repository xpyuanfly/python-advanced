{
 "cells": [
  {
   "cell_type": "markdown",
   "metadata": {},
   "source": [
    "1. 安装 anaconda/miniconda\n",
    "2. 认识pip/pip3包管理器 conda包管理器\n",
    "3. 认识ipython,notebook,jupyter-lab\n",
    "4. IDE：vscode，安装必备插件Python extension for Visual Studio Code：with rich support for the Python language (for all actively supported versions of the language: >=3.7),，包含 Pylance and Jupyter extension\n",
    "5. WSL\n",
    "6. 安装一些其他插件：markdown pdf markdown preview，vscode-icons"
   ]
  },
  {
   "cell_type": "markdown",
   "metadata": {},
   "source": [
    "1. https://www.liaoxuefeng.com/wiki/1016959663602400，廖雪峰\n",
    "2. https://docs.python.org/3.10/ 官方文档\n",
    "3. 巧用help()，送参：module名，function名    "
   ]
  }
 ],
 "metadata": {
  "kernelspec": {
   "display_name": "Python 3.10.5 64-bit",
   "language": "python",
   "name": "python3"
  },
  "language_info": {
   "name": "python",
   "version": "3.10.5"
  },
  "orig_nbformat": 4,
  "vscode": {
   "interpreter": {
    "hash": "369f2c481f4da34e4445cda3fffd2e751bd1c4d706f27375911949ba6bb62e1c"
   }
  }
 },
 "nbformat": 4,
 "nbformat_minor": 2
}
