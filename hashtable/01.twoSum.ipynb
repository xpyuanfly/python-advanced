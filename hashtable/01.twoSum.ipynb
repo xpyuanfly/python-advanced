{
 "cells": [
  {
   "cell_type": "code",
   "execution_count": 6,
   "metadata": {},
   "outputs": [],
   "source": [
    "class Solution_2(object):\n",
    "    # Hashtable\n",
    "    def twoSum(self, nums, target):\n",
    "        nums_dict = {}\n",
    "        for inx, number in enumerate(nums):\n",
    "            complement = target - number\n",
    "            if number in nums_dict:\n",
    "                return nums_dict[number] , inx\n",
    "            nums_dict[complement] = inx\n",
    "# [1,2]\n",
    "# 3\n",
    "# [3,2,4]\n",
    "# 6\n",
    "#  number + complement =target \n",
    "#  (number, complement) = pair 配对\n",
    "#  2 + 4 = 6\n",
    "#  令 2 number ，4则为2的complement\n",
    "#  so , save the complement = target - number to the dict\n",
    "#  when we search with the number \n",
    "#  dict=\n",
    "#  { 3: 0\n",
    "#    4: 1    \n",
    "#  }\n",
    "#  search with 4, the proved\n"
   ]
  },
  {
   "cell_type": "code",
   "execution_count": 10,
   "metadata": {},
   "outputs": [
    {
     "data": {
      "text/plain": [
       "(1, 2)"
      ]
     },
     "execution_count": 10,
     "metadata": {},
     "output_type": "execute_result"
    }
   ],
   "source": [
    "Solution_2().twoSum([3,2,4],6)"
   ]
  }
 ],
 "metadata": {
  "kernelspec": {
   "display_name": "Python 3.9.12 ('base')",
   "language": "python",
   "name": "python3"
  },
  "language_info": {
   "codemirror_mode": {
    "name": "ipython",
    "version": 3
   },
   "file_extension": ".py",
   "mimetype": "text/x-python",
   "name": "python",
   "nbconvert_exporter": "python",
   "pygments_lexer": "ipython3",
   "version": "3.9.12"
  },
  "orig_nbformat": 4,
  "vscode": {
   "interpreter": {
    "hash": "a4dded33d7e5587329f3b5bd298582320440e731ec97d683ac8324bdf803f54d"
   }
  }
 },
 "nbformat": 4,
 "nbformat_minor": 2
}
