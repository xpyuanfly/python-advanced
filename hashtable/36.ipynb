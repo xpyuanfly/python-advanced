{
 "cells": [
  {
   "cell_type": "markdown",
   "metadata": {},
   "source": [
    "请你判断一个 9 x 9 的数独是否有效。只需要 根据以下规则 ，验证已经填入的数字是否有效即可。\n",
    "\n",
    "数字 1-9 在每一行只能出现一次。\n",
    "数字 1-9 在每一列只能出现一次。\n",
    "数字 1-9 在每一个以粗实线分隔的 3x3 宫内只能出现一次。（请参考示例图）\n",
    " \n",
    "\n",
    "注意：\n",
    "\n",
    "一个有效的数独（部分已被填充）不一定是可解的。\n",
    "只需要根据以上规则，验证已经填入的数字是否有效即可。\n",
    "空白格用 '.' 表示。\n",
    "\n",
    "来源：力扣（LeetCode）\n",
    "链接：https://leetcode.cn/problems/valid-sudoku"
   ]
  },
  {
   "cell_type": "code",
   "execution_count": 30,
   "metadata": {},
   "outputs": [
    {
     "name": "stdout",
     "output_type": "stream",
     "text": [
      "ls1:False\n",
      "ls2:True\n",
      "ls3:True\n"
     ]
    }
   ],
   "source": [
    "class Solution(object):\n",
    "    def isValidSudoku(self, board):\n",
    "        # check for rows\n",
    "        for row in board:\n",
    "            row_hash = {}\n",
    "            for c in row:\n",
    "                if c != \".\" and c in row_hash:\n",
    "                    return False\n",
    "                row_hash[c] = 1\n",
    "\n",
    "        # check for cols\n",
    "        for i in range(9):\n",
    "            col_hash = {}\n",
    "            for row in board:\n",
    "                if row[i] != \".\" and row[i] in col_hash:\n",
    "                    return False\n",
    "                col_hash[row[i]] = 1\n",
    "\n",
    "        # check for panel\n",
    "        for i in range(0, 9, 3):\n",
    "            for j in range(0, 9, 3):\n",
    "                count = 0\n",
    "                panel_hash = {}\n",
    "                while(count < 9):\n",
    "                    c = board[i + count // 3][j + count % 3]\n",
    "                    count += 1\n",
    "                    if c != \".\" and c in panel_hash:\n",
    "                        return False\n",
    "                    panel_hash[c] = 1\n",
    "\n",
    "        return True\n",
    "\n",
    "\"\"\"\n",
    "[\"..4...63.\",\".........\",\"5......9.\",\"...56....\",\"4.3.....1\",\"...7.....\",\"...5.....\",\".........\",\".........\"]\n",
    "[\".87654321\",\"2........\",\"3........\",\"4........\",\"5........\",\"6........\",\"7........\",\"8........\",\"9........\"]\n",
    "\"\"\"\n",
    "\n",
    "ls1 = [\"..4...63.\",\".........\",\"5......9.\",\"...56....\",\"4.3.....1\",\"...7.....\",\"...5.....\",\".........\",\".........\"]\n",
    "ls2 = [\".87654321\",\"2........\",\"3........\",\"4........\",\"5........\",\"6........\",\"7........\",\"8........\",\"9........\"]\n",
    "\n",
    "board = [[\"5\",\"3\",\".\",\".\",\"7\",\".\",\".\",\".\",\".\"]\n",
    ",[\"6\",\".\",\".\",\"1\",\"9\",\"5\",\".\",\".\",\".\"]\n",
    ",[\".\",\"9\",\"8\",\".\",\".\",\".\",\".\",\"6\",\".\"]\n",
    ",[\"8\",\".\",\".\",\".\",\"6\",\".\",\".\",\".\",\"3\"]\n",
    ",[\"4\",\".\",\".\",\"8\",\".\",\"3\",\".\",\".\",\"1\"]\n",
    ",[\"7\",\".\",\".\",\".\",\"2\",\".\",\".\",\".\",\"6\"]\n",
    ",[\".\",\"6\",\".\",\".\",\".\",\".\",\"2\",\"8\",\".\"]\n",
    ",[\".\",\".\",\".\",\"4\",\"1\",\"9\",\".\",\".\",\"5\"]\n",
    ",[\".\",\".\",\".\",\".\",\"8\",\".\",\".\",\"7\",\"9\"]]\n",
    "\n",
    "ls3 = [ ''.join(item) for item in board ]\n",
    "# print(ls3)\n",
    "\n",
    "print(\"{}:{}\".format(\"ls1\",Solution().isValidSudoku(ls1)))\n",
    "print(\"{}:{}\".format(\"ls2\",Solution().isValidSudoku(ls2)))\n",
    "print(\"{}:{}\".format(\"ls3\",Solution().isValidSudoku(board)))"
   ]
  },
  {
   "cell_type": "code",
   "execution_count": 29,
   "metadata": {},
   "outputs": [
    {
     "name": "stdout",
     "output_type": "stream",
     "text": [
      "board:False\n"
     ]
    }
   ],
   "source": [
    "#郭源代码\n",
    "board = [[\".\",\".\",\"4\",\".\",\".\",\".\",\"6\",\"3\",\".\"],\n",
    "         [\".\",\".\",\".\",\".\",\".\",\".\",\".\",\".\",\".\"],\n",
    "         [\"5\",\".\",\".\",\".\",\".\",\".\",\".\",\"9\",\".\"],\n",
    "         [\".\",\".\",\".\",\"5\",\"6\",\".\",\".\",\".\",\".\"],\n",
    "         [\"4\",\".\",\"3\",\".\",\".\",\".\",\".\",\".\",\"1\"],\n",
    "         [\".\",\".\",\".\",\"7\",\".\",\".\",\".\",\".\",\".\"],\n",
    "         [\".\",\".\",\".\",\"5\",\".\",\".\",\".\",\".\",\".\"],\n",
    "         [\".\",\".\",\".\",\".\",\".\",\".\",\".\",\".\",\".\"],\n",
    "         [\".\",\".\",\".\",\".\",\".\",\".\",\".\",\".\",\".\"]]\n",
    "\n",
    "def shudu(a):\n",
    "    for i in range(9):\n",
    "        d1={'1':0,'2':0,'3':0,'4':0,'5':0,'6':0,'7':0,'8':0,'9':0,'.':0,}\n",
    "        d2={'1':0,'2':0,'3':0,'4':0,'5':0,'6':0,'7':0,'8':0,'9':0,'.':0,}\n",
    "        for j in range(9):\n",
    "            if a[i][j]=='.' or d1[a[i][j]]==0:\n",
    "                d1[a[i][j]]+=1\n",
    "            else:\n",
    "                return False\n",
    "            if a[j][i]=='.' or d2[a[j][i]]==0:\n",
    "                d2[a[j][i]]+=1\n",
    "            else:\n",
    "                return False\n",
    "            if i%3==0 and j%3==0:\n",
    "                d3={'1':0,'2':0,'3':0,'4':0,'5':0,'6':0,'7':0,'8':0,'9':0,'.':0,}\n",
    "                for m in range(i,i+3):\n",
    "                    for n in range(j,j+3):\n",
    "                        if a[m][n]=='.' or d3[a[m][n]]==0:\n",
    "                            d3[a[m][n]]+=1\n",
    "                        else:\n",
    "                            return False\n",
    "    return True\n",
    "print(\"{}:{}\".format(\"board\",shudu(board)))"
   ]
  },
  {
   "cell_type": "code",
   "execution_count": 28,
   "metadata": {},
   "outputs": [
    {
     "name": "stdout",
     "output_type": "stream",
     "text": [
      "board:False\n"
     ]
    }
   ],
   "source": [
    "#郭源代码 改造 为d1，d2，d3 没有初始值\n",
    "def shudu(a):\n",
    "    for i in range(9):\n",
    "        # d1={'1':0,'2':0,'3':0,'4':0,'5':0,'6':0,'7':0,'8':0,'9':0,'.':0,}\n",
    "        # d2={'1':0,'2':0,'3':0,'4':0,'5':0,'6':0,'7':0,'8':0,'9':0,'.':0,} \n",
    "        d1 = {}\n",
    "        d2 = {}\n",
    "        # O(1)\n",
    "        for j in range(9):\n",
    "            if a[i][j]!='.' and a[i][j] in d1:\n",
    "                return False\n",
    "            else:\n",
    "                d1[a[i][j]] = 1\n",
    "                \n",
    "            \n",
    "            # if a[i][j]=='.' or d1[a[i][j]]==0:\n",
    "            #     d1[a[i][j]]+=1\n",
    "            # else:\n",
    "            #     return False\n",
    "            \n",
    "            if a[j][i]!='.' and a[j][i] in d2:\n",
    "                return False\n",
    "            else:\n",
    "                d2[a[j][i]] = 1\n",
    "           \n",
    "            # if a[j][i]=='.' or d2[a[j][i]]==0:\n",
    "            #     d2[a[j][i]]+=1\n",
    "            # else:\n",
    "            #     return False\n",
    "            \n",
    "            if i%3==0 and j%3==0:\n",
    "                # d3={'1':0,'2':0,'3':0,'4':0,'5':0,'6':0,'7':0,'8':0,'9':0,'.':0,}\n",
    "                d3 = {}\n",
    "                for m in range(i,i+3):\n",
    "                    for n in range(j,j+3):                        \n",
    "                        # if a[m][n]=='.' or d3[a[m][n]]==0:\n",
    "                        #     d3[a[m][n]]+=1\n",
    "                        # else:\n",
    "                        #     return False\n",
    "                        if a[m][n]!='.' and a[m][n] in d3:\n",
    "                            return False\n",
    "                        else:\n",
    "                            d3[a[m][n]] = 1\n",
    "        \n",
    "    return True\n",
    "print(\"{}:{}\".format(\"board\",shudu(board)))"
   ]
  },
  {
   "cell_type": "markdown",
   "metadata": {},
   "source": []
  }
 ],
 "metadata": {
  "kernelspec": {
   "display_name": "Python 3.9.12 ('base')",
   "language": "python",
   "name": "python3"
  },
  "language_info": {
   "codemirror_mode": {
    "name": "ipython",
    "version": 3
   },
   "file_extension": ".py",
   "mimetype": "text/x-python",
   "name": "python",
   "nbconvert_exporter": "python",
   "pygments_lexer": "ipython3",
   "version": "3.9.12"
  },
  "orig_nbformat": 4,
  "vscode": {
   "interpreter": {
    "hash": "a4dded33d7e5587329f3b5bd298582320440e731ec97d683ac8324bdf803f54d"
   }
  }
 },
 "nbformat": 4,
 "nbformat_minor": 2
}
