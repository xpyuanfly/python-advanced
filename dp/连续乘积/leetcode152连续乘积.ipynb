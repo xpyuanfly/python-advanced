{
 "cells": [
  {
   "cell_type": "markdown",
   "metadata": {},
   "source": [
    "给你一个整数数组 nums ，请你找出数组中乘积最大的非空连续子数组（该子数组中至少包含一个数字），并返回该子数组所对应的乘积。"
   ]
  },
  {
   "cell_type": "code",
   "execution_count": null,
   "metadata": {},
   "outputs": [],
   "source": [
    "class Solution:\n",
    "    def maxProduct(self, nums):\n",
    "        zc1 = 1\n",
    "        zc2 = 1\n",
    "        maxNum = nums[0]\n",
    "\n",
    "        for n in nums:\n",
    "            if n > 0 :\n",
    "                \n",
    "                zc1 *= n\n",
    "                zc2 *= n\n",
    "                \n",
    "                if zc1 >= maxNum:\n",
    "                    maxNum = zc1\n",
    "            elif n == 0:\n",
    "                if zc1 < 0:\n",
    "                    zc1 = 0\n",
    "                    zc2 = 0\n",
    "                else:\n",
    "                    zc1 = 1\n",
    "                    zc2 = 1\n",
    "            elif n < 0:\n",
    "                if zc1 != zc2:\n",
    "                    zc2 *= n\n",
    "                    zc1 = zc2\n",
    "\n",
    "                    if zc1 >= maxNum:\n",
    "                        maxNum = zc1\n",
    "                else:\n",
    "                    zc1 *= n\n",
    "                    zc2 *= n\n",
    "                    if zc1 >= maxNum:\n",
    "                        maxNum = zc1\n",
    "\n",
    "        return maxNum"
   ]
  },
  {
   "cell_type": "code",
   "execution_count": 27,
   "metadata": {},
   "outputs": [
    {
     "data": {
      "text/plain": [
       "6"
      ]
     },
     "execution_count": 27,
     "metadata": {},
     "output_type": "execute_result"
    }
   ],
   "source": [
    "s = Solution()\n",
    "nums = [2,3,-2,4]\n",
    "s.maxProduct(nums)"
   ]
  }
 ],
 "metadata": {
  "kernelspec": {
   "display_name": "Python 3.9.12 ('base')",
   "language": "python",
   "name": "python3"
  },
  "language_info": {
   "codemirror_mode": {
    "name": "ipython",
    "version": 3
   },
   "file_extension": ".py",
   "mimetype": "text/x-python",
   "name": "python",
   "nbconvert_exporter": "python",
   "pygments_lexer": "ipython3",
   "version": "3.9.12"
  },
  "orig_nbformat": 4,
  "vscode": {
   "interpreter": {
    "hash": "1b686bce94f1f5e3a877538288a78f4cd7ad55f299eaf18263d0af458c697d30"
   }
  }
 },
 "nbformat": 4,
 "nbformat_minor": 2
}
