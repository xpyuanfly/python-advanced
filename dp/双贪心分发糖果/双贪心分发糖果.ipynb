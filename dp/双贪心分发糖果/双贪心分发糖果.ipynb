{
 "cells": [
  {
   "cell_type": "code",
   "execution_count": null,
   "id": "f39c7b72-a914-4a77-a833-43a474c0a4c2",
   "metadata": {},
   "outputs": [],
   "source": [
    "class Solution:\n",
    "    def candy(self, ratings):\n",
    "        n=len(ratings)\n",
    "        left=[0]*n\n",
    "        for i in range(n):\n",
    "            if i>0 and ratings[i-1]<ratings[i]:\n",
    "                left[i]=left[i-1]+1\n",
    "            else:\n",
    "                left[i]=1\n",
    "        right=res=0\n",
    "        for i in range(n-1,-1,-1):\n",
    "            if i<n-1 and ratings[i]>ratings[i+1]:\n",
    "                right=right+1\n",
    "            else:\n",
    "                right=1\n",
    "            res+=max(left[i],right)\n",
    "        return res"
   ]
  }
 ],
 "metadata": {
  "kernelspec": {
   "display_name": "Python 3 (ipykernel)",
   "language": "python",
   "name": "python3"
  },
  "language_info": {
   "codemirror_mode": {
    "name": "ipython",
    "version": 3
   },
   "file_extension": ".py",
   "mimetype": "text/x-python",
   "name": "python",
   "nbconvert_exporter": "python",
   "pygments_lexer": "ipython3",
   "version": "3.8.13"
  }
 },
 "nbformat": 4,
 "nbformat_minor": 5
}
