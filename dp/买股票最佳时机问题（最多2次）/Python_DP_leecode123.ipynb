{
 "cells": [
  {
   "cell_type": "code",
   "execution_count": 1,
   "id": "9b30df64",
   "metadata": {},
   "outputs": [
    {
     "name": "stdout",
     "output_type": "stream",
     "text": [
      "6\n",
      "6\n"
     ]
    }
   ],
   "source": [
    "# 6)给定一个数组，它的第 i 个元素是一支给定的股票在第 i 天的价格。\n",
    "# 设计一个算法来计算你所能获取的最大利润。你最多可以完成 两笔 交易。\n",
    "# 注意：你不能同时参与多笔交易（你必须在再次购买前出售掉之前的股票）。\n",
    "# (leecode123)----罗毅扬\n",
    "#方法一：\n",
    "#  dp[天数][是否持有股票][卖出股票次数]\n",
    "# 1.未进行任何操作dp[i][0][0]\n",
    "# 2.持有股票并未卖出过股票 = max(今天买入股票，等于之前状态)\n",
    "# 3.持有股票并卖出过一次股票 = max(今天买入股票，等于之前状态)\n",
    "# 4.未持有股票并卖出过一次股票 = max(今天卖出股票，等于之前状态)\n",
    "# 5.未持有股票并卖出两次股票 = max(今天卖出股票，等于之前状态)\n",
    "# 每一天的末尾，都存在五种可能状态\n",
    "\n",
    "prices = [3,3,5,0,0,3,1,4]\n",
    "def dp1(prices):\n",
    "    if prices == []:\n",
    "        return 0\n",
    "    dp = [[[0,0,0],[0,0,0]] for i in range(0,len(prices))]\n",
    "    dp[0][0][0] = 0\n",
    "    dp[0][1][0] = -prices[0]\n",
    "    dp[0][0][1] = float('-inf')\n",
    "    dp[0][0][2] = float('-inf')\n",
    "    dp[0][1][1] = float('-inf')\n",
    "    for i in range(1,len(prices)):\n",
    "        dp[i][0][0] = 0\n",
    "        dp[i][0][1] = max(dp[i-1][1][0]+prices[i],dp[i-1][0][1])\n",
    "        dp[i][0][2] = max(dp[i-1][1][1]+prices[i],dp[i-1][0][2])\n",
    "        dp[i][1][0] = max(dp[i-1][0][0]-prices[i],dp[i-1][1][0])\n",
    "        dp[i][1][1] = max(dp[i-1][0][1]-prices[i],dp[i-1][1][1])\n",
    "    return max(dp[len(prices)-1][0][2],dp[len(prices)-1][0][1],0)\n",
    "print(dp1(prices))\n",
    "#方法二：\n",
    "def dp2(prices):\n",
    "    n = len(prices)\n",
    "    buy1 = buy2 = -prices[0]\n",
    "    sell1 = sell2 = 0\n",
    "    for i in range(1, n):\n",
    "        buy1 = buy1 if buy1 > -prices[i] else -prices[i]\n",
    "        sell1 = sell1 if sell1 > buy1 + prices[i] else buy1 + prices[i]\n",
    "        buy2 = buy2 if buy2 > sell1 - prices[i] else sell1 - prices[i] \n",
    "        sell2 = sell2 if sell2 > buy2 + prices[i] else buy2 + prices[i]\n",
    "    return sell2\n",
    "print(dp2(prices))"
   ]
  },
  {
   "cell_type": "code",
   "execution_count": null,
   "id": "84e74826",
   "metadata": {},
   "outputs": [],
   "source": []
  }
 ],
 "metadata": {
  "kernelspec": {
   "display_name": "Python 3.10.5 64-bit",
   "language": "python",
   "name": "python3"
  },
  "language_info": {
   "codemirror_mode": {
    "name": "ipython",
    "version": 3
   },
   "file_extension": ".py",
   "mimetype": "text/x-python",
   "name": "python",
   "nbconvert_exporter": "python",
   "pygments_lexer": "ipython3",
   "version": "3.10.5"
  },
  "vscode": {
   "interpreter": {
    "hash": "50460b203e4f2d5e10973aacb5bfb9dab6f00e6ca422ba774fdcf0637eb6c205"
   }
  }
 },
 "nbformat": 4,
 "nbformat_minor": 5
}
