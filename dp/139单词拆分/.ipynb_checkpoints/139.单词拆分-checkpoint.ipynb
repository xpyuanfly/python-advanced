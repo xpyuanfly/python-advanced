{
 "cells": [
  {
   "cell_type": "code",
   "execution_count": 3,
   "id": "214e235e-2833-40d3-81e7-de3cdda9d48c",
   "metadata": {},
   "outputs": [
    {
     "name": "stdout",
     "output_type": "stream",
     "text": [
      "False\n"
     ]
    }
   ],
   "source": [
    "s = \"catsandog\"\n",
    "wordDict = [\"cats\",\"dog\",\"sand\",\"and\",\"cat\"]\n",
    "\n",
    "dp = [False]*(len(s)+1)\n",
    "dp[len(s)] = True\n",
    "\n",
    "for i in range(len(s)-1,-1,-1):\n",
    "    for w in wordDict:\n",
    "        if (i + len(w)) <= len(s) and s[i:i+len(w)]==w:\n",
    "            dp[i] = dp[i+len(w)]\n",
    "        if dp[i]:\n",
    "            break\n",
    "print(dp[0])"
   ]
  },
  {
   "cell_type": "code",
   "execution_count": null,
   "id": "0f8e0c7a-6311-450e-9ed5-13cf0a431f08",
   "metadata": {},
   "outputs": [],
   "source": []
  }
 ],
 "metadata": {
  "kernelspec": {
   "display_name": "Python 3 (ipykernel)",
   "language": "python",
   "name": "python3"
  },
  "language_info": {
   "codemirror_mode": {
    "name": "ipython",
    "version": 3
   },
   "file_extension": ".py",
   "mimetype": "text/x-python",
   "name": "python",
   "nbconvert_exporter": "python",
   "pygments_lexer": "ipython3",
   "version": "3.9.12"
  }
 },
 "nbformat": 4,
 "nbformat_minor": 5
}
