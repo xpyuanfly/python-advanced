{
 "cells": [
  {
   "cell_type": "code",
   "execution_count": null,
   "id": "b6d346d1-b73c-486f-8aa2-4db5398ac484",
   "metadata": {},
   "outputs": [],
   "source": [
    "class Solution:\n",
    "    def maxSubArray(self, nums: List[int]) -> int:\n",
    "        f=[0 for i in range(len(nums))]\n",
    "        f[0]=nums[0]\n",
    "        for i in range(1,len(nums)):\n",
    "            c1=nums[i]\n",
    "            c2=f[i-1]+nums[i]\n",
    "            f[i]=max(c1,c2)\n",
    "        return max(f)"
   ]
  }
 ],
 "metadata": {
  "kernelspec": {
   "display_name": "Python 3 (ipykernel)",
   "language": "python",
   "name": "python3"
  },
  "language_info": {
   "codemirror_mode": {
    "name": "ipython",
    "version": 3
   },
   "file_extension": ".py",
   "mimetype": "text/x-python",
   "name": "python",
   "nbconvert_exporter": "python",
   "pygments_lexer": "ipython3",
   "version": "3.8.13"
  }
 },
 "nbformat": 4,
 "nbformat_minor": 5
}
