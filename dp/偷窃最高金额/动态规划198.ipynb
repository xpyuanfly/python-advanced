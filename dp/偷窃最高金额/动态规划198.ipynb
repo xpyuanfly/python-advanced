{
 "cells": [
  {
   "cell_type": "code",
   "execution_count": null,
   "id": "48c3c433-a9fa-468a-87f7-e02eba24ec42",
   "metadata": {},
   "outputs": [],
   "source": [
    "#李家宝<liimengyao@qq.com>  6:01:57 PM\n",
    "def rob2(nums):\n",
    "    #3 2 4 1 1 1 7 9\n",
    "    n = len(nums)\n",
    "    memo = [-1]*n\n",
    "    def dfs(i):\n",
    "        if i >= n:\n",
    "            return 0\n",
    "        if i == n-1:\n",
    "            return nums[i]\n",
    "        if memo[i] != -1:\n",
    "            return memo[i]\n",
    "        choice1 = dfs(i+1)\n",
    "        choice2 = dfs(i+2) + nums[i]\n",
    "        # choice3 = dfs(i+3) + nums[i]\n",
    "        # memo[i] = max(choice1, choice2, choice3)\n",
    "        memo[i] = max(choice1, choice2)\n",
    "        return memo[i]\n",
    "    return dfs(0)\n",
    "\n",
    "#李家宝<liimengyao@qq.com>  6:02:12 PM\n",
    "def rob4(nums):\n",
    "    n = len(nums)\n",
    "    dp = [0]*(n+1)\n",
    "    dp[0] = nums[0]\n",
    "    dp[1] = max(nums[0], nums[1])\n",
    "    for i in range(2, n):\n",
    "        dp[i] = max(dp[i-1], dp[i-2]+nums[i])\n",
    "    return dp[n]\n",
    "\n",
    "\n",
    "class Solution:\n",
    "    def rob(self, nums: List[int]) -> int:\n",
    "        n = len(nums)\n",
    "        memo = [-1]*n\n",
    "        def dfs(i):\n",
    "            if i >= n:\n",
    "                return 0\n",
    "            if memo[i] != -1:\n",
    "                return memo[i]\n",
    "            c1 = dfs(i+1)\n",
    "            c2 = dfs(i+2) + nums[i]\n",
    "            memo[i] = max(c1, c2)\n",
    "            return memo[i]\n",
    "        return dfs(0)"
   ]
  }
 ],
 "metadata": {
  "kernelspec": {
   "display_name": "Python 3 (ipykernel)",
   "language": "python",
   "name": "python3"
  },
  "language_info": {
   "codemirror_mode": {
    "name": "ipython",
    "version": 3
   },
   "file_extension": ".py",
   "mimetype": "text/x-python",
   "name": "python",
   "nbconvert_exporter": "python",
   "pygments_lexer": "ipython3",
   "version": "3.8.13"
  }
 },
 "nbformat": 4,
 "nbformat_minor": 5
}
