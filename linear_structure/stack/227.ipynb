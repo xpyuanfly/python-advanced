{
 "cells": [
  {
   "cell_type": "code",
   "execution_count": 1,
   "metadata": {},
   "outputs": [
    {
     "name": "stdout",
     "output_type": "stream",
     "text": [
      "3112\n",
      "11.0\n"
     ]
    },
    {
     "name": "stderr",
     "output_type": "stream",
     "text": [
      "Traceback (most recent call last):\n",
      "  File \"_pydevd_bundle/pydevd_cython.pyx\", line 1081, in _pydevd_bundle.pydevd_cython.PyDBFrame.trace_dispatch\n",
      "  File \"_pydevd_bundle/pydevd_cython.pyx\", line 297, in _pydevd_bundle.pydevd_cython.PyDBFrame.do_wait_suspend\n",
      "  File \"C:\\Users\\yxp\\AppData\\Local\\Programs\\Python\\Python310\\lib\\site-packages\\debugpy\\_vendored\\pydevd\\pydevd.py\", line 2023, in do_wait_suspend\n",
      "    keep_suspended = self._do_wait_suspend(thread, frame, event, arg, suspend_type, from_this_thread, frames_tracker)\n",
      "  File \"C:\\Users\\yxp\\AppData\\Local\\Programs\\Python\\Python310\\lib\\site-packages\\debugpy\\_vendored\\pydevd\\pydevd.py\", line 2059, in _do_wait_suspend\n",
      "    time.sleep(0.01)\n",
      "KeyboardInterrupt\n"
     ]
    },
    {
     "ename": "KeyboardInterrupt",
     "evalue": "",
     "output_type": "error",
     "traceback": [
      "\u001b[1;31m---------------------------------------------------------------------------\u001b[0m",
      "\u001b[1;31mKeyboardInterrupt\u001b[0m                         Traceback (most recent call last)",
      "\u001b[1;32md:\\jupyter_run\\python-advanced\\linear_structure\\stack\\227.ipynb Cell 1\u001b[0m in \u001b[0;36m<cell line: 29>\u001b[1;34m()\u001b[0m\n\u001b[0;32m     <a href='vscode-notebook-cell:/d%3A/jupyter_run/python-advanced/linear_structure/stack/227.ipynb#ch0000000?line=26'>27</a>\u001b[0m \u001b[39mprint\u001b[39m(calculate(\u001b[39m\"\u001b[39m\u001b[39m3112 \u001b[39m\u001b[39m\"\u001b[39m))\n\u001b[0;32m     <a href='vscode-notebook-cell:/d%3A/jupyter_run/python-advanced/linear_structure/stack/227.ipynb#ch0000000?line=27'>28</a>\u001b[0m \u001b[39mprint\u001b[39m(calculate(\u001b[39m\"\u001b[39m\u001b[39m3+ 2 * 2/1 *2\u001b[39m\u001b[39m\"\u001b[39m))\n\u001b[1;32m---> <a href='vscode-notebook-cell:/d%3A/jupyter_run/python-advanced/linear_structure/stack/227.ipynb#ch0000000?line=28'>29</a>\u001b[0m \u001b[39mprint\u001b[39m(calculate(\u001b[39m\"\u001b[39;49m\u001b[39m 14- 3/  2\u001b[39;49m\u001b[39m\"\u001b[39;49m))\n\u001b[0;32m     <a href='vscode-notebook-cell:/d%3A/jupyter_run/python-advanced/linear_structure/stack/227.ipynb#ch0000000?line=29'>30</a>\u001b[0m \u001b[39mprint\u001b[39m(calculate(\u001b[39m\"\u001b[39m\u001b[39m3 + 50 / 2\u001b[39m\u001b[39m\"\u001b[39m))\n",
      "\u001b[1;32md:\\jupyter_run\\python-advanced\\linear_structure\\stack\\227.ipynb Cell 1\u001b[0m in \u001b[0;36mcalculate\u001b[1;34m(s)\u001b[0m\n\u001b[0;32m      <a href='vscode-notebook-cell:/d%3A/jupyter_run/python-advanced/linear_structure/stack/227.ipynb#ch0000000?line=0'>1</a>\u001b[0m \u001b[39mdef\u001b[39;00m \u001b[39mcalculate\u001b[39m(s):\n\u001b[0;32m      <a href='vscode-notebook-cell:/d%3A/jupyter_run/python-advanced/linear_structure/stack/227.ipynb#ch0000000?line=1'>2</a>\u001b[0m     num_stack \u001b[39m=\u001b[39m []\n\u001b[1;32m----> <a href='vscode-notebook-cell:/d%3A/jupyter_run/python-advanced/linear_structure/stack/227.ipynb#ch0000000?line=2'>3</a>\u001b[0m     num \u001b[39m=\u001b[39m \u001b[39m0\u001b[39m\n\u001b[0;32m      <a href='vscode-notebook-cell:/d%3A/jupyter_run/python-advanced/linear_structure/stack/227.ipynb#ch0000000?line=3'>4</a>\u001b[0m     sign \u001b[39m=\u001b[39m \u001b[39m\"\u001b[39m\u001b[39m+\u001b[39m\u001b[39m\"\u001b[39m\n\u001b[0;32m      <a href='vscode-notebook-cell:/d%3A/jupyter_run/python-advanced/linear_structure/stack/227.ipynb#ch0000000?line=4'>5</a>\u001b[0m     \u001b[39mfor\u001b[39;00m i \u001b[39min\u001b[39;00m \u001b[39mrange\u001b[39m(\u001b[39mlen\u001b[39m(s)):\n",
      "\u001b[1;32md:\\jupyter_run\\python-advanced\\linear_structure\\stack\\227.ipynb Cell 1\u001b[0m in \u001b[0;36mcalculate\u001b[1;34m(s)\u001b[0m\n\u001b[0;32m      <a href='vscode-notebook-cell:/d%3A/jupyter_run/python-advanced/linear_structure/stack/227.ipynb#ch0000000?line=0'>1</a>\u001b[0m \u001b[39mdef\u001b[39;00m \u001b[39mcalculate\u001b[39m(s):\n\u001b[0;32m      <a href='vscode-notebook-cell:/d%3A/jupyter_run/python-advanced/linear_structure/stack/227.ipynb#ch0000000?line=1'>2</a>\u001b[0m     num_stack \u001b[39m=\u001b[39m []\n\u001b[1;32m----> <a href='vscode-notebook-cell:/d%3A/jupyter_run/python-advanced/linear_structure/stack/227.ipynb#ch0000000?line=2'>3</a>\u001b[0m     num \u001b[39m=\u001b[39m \u001b[39m0\u001b[39m\n\u001b[0;32m      <a href='vscode-notebook-cell:/d%3A/jupyter_run/python-advanced/linear_structure/stack/227.ipynb#ch0000000?line=3'>4</a>\u001b[0m     sign \u001b[39m=\u001b[39m \u001b[39m\"\u001b[39m\u001b[39m+\u001b[39m\u001b[39m\"\u001b[39m\n\u001b[0;32m      <a href='vscode-notebook-cell:/d%3A/jupyter_run/python-advanced/linear_structure/stack/227.ipynb#ch0000000?line=4'>5</a>\u001b[0m     \u001b[39mfor\u001b[39;00m i \u001b[39min\u001b[39;00m \u001b[39mrange\u001b[39m(\u001b[39mlen\u001b[39m(s)):\n",
      "File \u001b[1;32m_pydevd_bundle/pydevd_cython.pyx:1366\u001b[0m, in \u001b[0;36m_pydevd_bundle.pydevd_cython.SafeCallWrapper.__call__\u001b[1;34m()\u001b[0m\n",
      "File \u001b[1;32m_pydevd_bundle/pydevd_cython.pyx:662\u001b[0m, in \u001b[0;36m_pydevd_bundle.pydevd_cython.PyDBFrame.trace_dispatch\u001b[1;34m()\u001b[0m\n",
      "File \u001b[1;32m_pydevd_bundle/pydevd_cython.pyx:1090\u001b[0m, in \u001b[0;36m_pydevd_bundle.pydevd_cython.PyDBFrame.trace_dispatch\u001b[1;34m()\u001b[0m\n",
      "File \u001b[1;32m_pydevd_bundle/pydevd_cython.pyx:1081\u001b[0m, in \u001b[0;36m_pydevd_bundle.pydevd_cython.PyDBFrame.trace_dispatch\u001b[1;34m()\u001b[0m\n",
      "File \u001b[1;32m_pydevd_bundle/pydevd_cython.pyx:297\u001b[0m, in \u001b[0;36m_pydevd_bundle.pydevd_cython.PyDBFrame.do_wait_suspend\u001b[1;34m()\u001b[0m\n",
      "File \u001b[1;32m~\\AppData\\Local\\Programs\\Python\\Python310\\lib\\site-packages\\debugpy\\_vendored\\pydevd\\pydevd.py:2023\u001b[0m, in \u001b[0;36mPyDB.do_wait_suspend\u001b[1;34m(self, thread, frame, event, arg, exception_type)\u001b[0m\n\u001b[0;32m   2020\u001b[0m             from_this_thread\u001b[39m.\u001b[39mappend(frame_custom_thread_id)\n\u001b[0;32m   2022\u001b[0m     \u001b[39mwith\u001b[39;00m \u001b[39mself\u001b[39m\u001b[39m.\u001b[39m_threads_suspended_single_notification\u001b[39m.\u001b[39mnotify_thread_suspended(thread_id, stop_reason):\n\u001b[1;32m-> 2023\u001b[0m         keep_suspended \u001b[39m=\u001b[39m \u001b[39mself\u001b[39;49m\u001b[39m.\u001b[39;49m_do_wait_suspend(thread, frame, event, arg, suspend_type, from_this_thread, frames_tracker)\n\u001b[0;32m   2025\u001b[0m frames_list \u001b[39m=\u001b[39m \u001b[39mNone\u001b[39;00m\n\u001b[0;32m   2027\u001b[0m \u001b[39mif\u001b[39;00m keep_suspended:\n\u001b[0;32m   2028\u001b[0m     \u001b[39m# This means that we should pause again after a set next statement.\u001b[39;00m\n",
      "File \u001b[1;32m~\\AppData\\Local\\Programs\\Python\\Python310\\lib\\site-packages\\debugpy\\_vendored\\pydevd\\pydevd.py:2059\u001b[0m, in \u001b[0;36mPyDB._do_wait_suspend\u001b[1;34m(self, thread, frame, event, arg, suspend_type, from_this_thread, frames_tracker)\u001b[0m\n\u001b[0;32m   2056\u001b[0m         \u001b[39mself\u001b[39m\u001b[39m.\u001b[39m_call_input_hook()\n\u001b[0;32m   2058\u001b[0m     \u001b[39mself\u001b[39m\u001b[39m.\u001b[39mprocess_internal_commands()\n\u001b[1;32m-> 2059\u001b[0m     time\u001b[39m.\u001b[39;49msleep(\u001b[39m0.01\u001b[39;49m)\n\u001b[0;32m   2061\u001b[0m \u001b[39mself\u001b[39m\u001b[39m.\u001b[39mcancel_async_evaluation(get_current_thread_id(thread), \u001b[39mstr\u001b[39m(\u001b[39mid\u001b[39m(frame)))\n\u001b[0;32m   2063\u001b[0m \u001b[39m# process any stepping instructions\u001b[39;00m\n",
      "\u001b[1;31mKeyboardInterrupt\u001b[0m: "
     ]
    }
   ],
   "source": [
    "def calculate(s):\n",
    "    num_stack = []\n",
    "\n",
    "\n",
    "\n",
    "    num = 0\n",
    "    sign = \"+\"\n",
    "    for i in range(len(s)):\n",
    "        ch = s[i]\n",
    "        if ch.isdigit():\n",
    "            num = num * 10 + ord(ch) - ord('0')\n",
    "        if not ch.isdigit() and ch != \" \" or i == len(s) - 1:\n",
    "            if sign == \"+\":\n",
    "                num_stack.append(num)\n",
    "            elif sign == \"-\":\n",
    "                num_stack.append(-num)\n",
    "            elif sign == \"*\":\n",
    "                num_stack.append(num * num_stack.pop())\n",
    "            else:\n",
    "                tmp = num_stack.pop()\n",
    "                divid = tmp / num\n",
    "                if tmp / num < 0 and tmp % num != 0:\n",
    "                    divid += 1\n",
    "                num_stack.append(divid)\n",
    "            sign = ch\n",
    "            num = 0\n",
    "    return sum(num_stack)\n",
    "\n",
    "\n",
    "print(calculate(\"3112 \"))\n",
    "print(calculate(\"3+ 2 * 2/1 *2\"))\n",
    "print(calculate(\" 14- 3/  2\"))\n",
    "print(calculate(\"3 + 50 / 2\"))"
   ]
  },
  {
   "cell_type": "code",
   "execution_count": null,
   "metadata": {},
   "outputs": [],
   "source": []
  }
 ],
 "metadata": {
  "kernelspec": {
   "display_name": "Python 3.10.5 64-bit",
   "language": "python",
   "name": "python3"
  },
  "language_info": {
   "codemirror_mode": {
    "name": "ipython",
    "version": 3
   },
   "file_extension": ".py",
   "mimetype": "text/x-python",
   "name": "python",
   "nbconvert_exporter": "python",
   "pygments_lexer": "ipython3",
   "version": "3.10.5"
  },
  "orig_nbformat": 4,
  "vscode": {
   "interpreter": {
    "hash": "369f2c481f4da34e4445cda3fffd2e751bd1c4d706f27375911949ba6bb62e1c"
   }
  }
 },
 "nbformat": 4,
 "nbformat_minor": 2
}
