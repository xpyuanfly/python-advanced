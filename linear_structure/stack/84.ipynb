{
 "cells": [
  {
   "cell_type": "code",
   "execution_count": 1,
   "metadata": {},
   "outputs": [
    {
     "name": "stdout",
     "output_type": "stream",
     "text": [
      "10\n"
     ]
    }
   ],
   "source": [
    "def largestRectangleArea(heights):\n",
    "    \"\"\"\n",
    "    :type heights: List[int]\n",
    "    :rtype: int\n",
    "    \"\"\"\n",
    "    # Add a bar of height 0 after the tail.\n",
    "    heights.append(0)\n",
    "    size = len(heights)\n",
    "    stack = [0]  # no_decrease_stack\n",
    "    max_size = heights[0]\n",
    "\n",
    "    i = 0\n",
    "    while i < size:\n",
    "        cur_num = heights[i]\n",
    "        # If the height of current bar is higher than the stack top,\n",
    "        # or the stack is empty, push current index to stack\n",
    "        if (not stack or cur_num > heights[stack[-1]]):\n",
    "            stack.append(i)\n",
    "            i += 1\n",
    "\n",
    "        # The current height is lower or same than the top,\n",
    "        # then pop until current height is higher than the top.\n",
    "        else:\n",
    "            index = stack.pop()\n",
    "            height = heights[index]\n",
    "            if stack:\n",
    "                width = i - stack[-1] - 1\n",
    "            else:\n",
    "                width = i\n",
    "            max_size = max(max_size, width * height)\n",
    "\n",
    "    return max_size\n",
    "\n",
    "\n",
    "print(largestRectangleArea([2, 1, 5, 6, 2, 3]))\n"
   ]
  },
  {
   "cell_type": "code",
   "execution_count": 4,
   "metadata": {},
   "outputs": [
    {
     "name": "stdout",
     "output_type": "stream",
     "text": [
      "10\n"
     ]
    }
   ],
   "source": [
    "from typing import List\n",
    "class Solution:\n",
    "    def largeArea(self,heights:List[int])->int:\n",
    "        size=len(heights)\n",
    "        res=0\n",
    "        #先放入哨兵节点，这样循环不需要做非空判断\n",
    "        heights=[0]+heights+[0]\n",
    "        stack=[0]\n",
    "        size += 2\n",
    "        \n",
    "        for i in  range(1,size): # O(n*m)\n",
    "            while heights[i]<heights[stack[-1]]:\n",
    "                curr_height=heights[stack.pop()]\n",
    "                curr_width=i-stack[-1]-1\n",
    "                res= max(res,curr_height*curr_width)\n",
    "            stack.append(i)\n",
    "        return res\n",
    "if __name__=='__main__':\n",
    "    heights=[2,1,5,6,2,3] #单调增栈\n",
    "    solution=Solution()\n",
    "    res=solution.largeArea(heights)\n",
    "    print(res)"
   ]
  },
  {
   "cell_type": "code",
   "execution_count": null,
   "metadata": {},
   "outputs": [],
   "source": []
  }
 ],
 "metadata": {
  "kernelspec": {
   "display_name": "Python 3.10.5 64-bit",
   "language": "python",
   "name": "python3"
  },
  "language_info": {
   "codemirror_mode": {
    "name": "ipython",
    "version": 3
   },
   "file_extension": ".py",
   "mimetype": "text/x-python",
   "name": "python",
   "nbconvert_exporter": "python",
   "pygments_lexer": "ipython3",
   "version": "3.10.5"
  },
  "orig_nbformat": 4,
  "vscode": {
   "interpreter": {
    "hash": "369f2c481f4da34e4445cda3fffd2e751bd1c4d706f27375911949ba6bb62e1c"
   }
  }
 },
 "nbformat": 4,
 "nbformat_minor": 2
}
