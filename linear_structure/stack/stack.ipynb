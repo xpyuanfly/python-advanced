{
 "cells": [
  {
   "cell_type": "markdown",
   "id": "2266879a-986e-458f-bf62-af8fc56dc40d",
   "metadata": {},
   "source": [
    "栈抽象数据类型；\n",
    "\n",
    "Python 中 List 的操作方法。\n",
    "\n",
    "栈抽象数据类型\n",
    "抽象数据类型“栈”是一个有次序的数据集。 在栈中，数据项的加入和移除都仅发生在同一端，这一端被称为栈顶，相对地，把另一端称为栈底。\n",
    "\n",
    "距离栈底越近的数据项， 留在栈中的时间就越长，而最新加入栈的数据项会被最先移除。这种次序通常称为“后进先出”（ LIFO ）\n",
    "\n",
    "抽象数据类型“栈”定义为如下的操作：\n",
    "\n",
    "Stack()创建一个新的空栈。它不需要参数，并返回一个空栈。\n",
    "\n",
    "push(item)将新项添加到堆栈的顶部。它需要参数 item 并且没有返回值。\n",
    "\n",
    "pop()从栈顶删除项目。它不需要参数，返回 item。栈被修改。\n",
    "\n",
    "peek()返回栈顶的项，不删除它。它不需要参数。堆栈不被修改。\n",
    "\n",
    "is_empty()测试看栈是否为空。它不需要参数，返回一个布尔值。\n",
    "\n",
    "size()返回栈的项目数。它不需要参数，返回一个整数。\n",
    "\n",
    "\n",
    "List 的操作方法\n",
    "列表（ List ）是 Python 中最基本的数据结构。List 中的每个元素都分配有索引，第一个索引是 0，第二个索引是 1，依此类推。\n",
    "\n",
    "List 可以进行的操作包括增加元素，删除元素，检查成员等。借助 List 的append()和pop()，用户可以方便地实现栈的压入和弹出。\n",
    "\n",
    "编程要求\n",
    "在右侧编辑器 Begin - End 之间补充代码，使用 List 实现栈。\n",
    "具体要求为：补充完整is_empty()、push()、pop() 和size()四个函数\n",
    "分别实现判断栈是否为空、出栈、入栈和统计栈的项目数四个功能。"
   ]
  },
  {
   "cell_type": "code",
   "execution_count": 8,
   "id": "4159f2ba-7dba-43db-818d-362b6cc09182",
   "metadata": {},
   "outputs": [
    {
     "name": "stdout",
     "output_type": "stream",
     "text": [
      "7\n",
      "['1', '2', '3', '4', '5', '6', '7']\n",
      "7 6 5 4 3 2 1 "
     ]
    }
   ],
   "source": [
    "# -*- coding: utf-8 -*-\n",
    "'''请在Begin-End之间补充代码, 完成Stack类'''  \n",
    "class Stack():  \n",
    "    # 创建空列表实现栈  \n",
    "    def __init__(self):   \n",
    "        self.__list = []  \n",
    "    # 判断是否为空，输出为True或False  \n",
    "    def is_empty(self):   \n",
    "        # ********** Begin ********** #  \n",
    "        return self.__list == []  \n",
    "        # ********** End ********** #     \n",
    "    # 压栈，添加元素  \n",
    "    def push(self,item):   \n",
    "        # ********** Begin ********** #  \n",
    "        self.__list.append(item)  \n",
    "        # ********** End ********** #    \n",
    "    # 弹栈，弹出最后压入栈的元素  \n",
    "    def pop(self):   \n",
    "        # ********** Begin ********** #  \n",
    "        if self.is_empty():  \n",
    "            return   \n",
    "        else:  \n",
    "            return self.__list.pop()  \n",
    "        # ********** End ********** #    \n",
    "    # 栈的长度  \n",
    "    def size(self):  \n",
    "        # ********** Begin ********** #  \n",
    "        return len(self.__list)  \n",
    "        # ********** End ********** #     \n",
    "    def __repr__(self):\n",
    "        return str(self.__list)\n",
    "    \n",
    "if __name__ == \"__main__\":  \n",
    "    stack = Stack()   # ==> Stack(self,'123') ==> __init__(self,'123')\n",
    "    nums = '1234567'\n",
    "    # 将nums中的元素依次入栈  \n",
    "    for num in nums:  \n",
    "        stack.push(num)  \n",
    "    # 打印栈的长度  \n",
    "    print(stack.size())\n",
    "    print(stack)  \n",
    "    # 将栈中元素依次弹出  \n",
    "    while not stack.is_empty():  \n",
    "        print(stack.pop(), end = ' ')  "
   ]
  },
  {
   "cell_type": "code",
   "execution_count": null,
   "id": "4b03708a",
   "metadata": {},
   "outputs": [],
   "source": []
  }
 ],
 "metadata": {
  "kernelspec": {
   "display_name": "Python 3.8.13 ('base')",
   "language": "python",
   "name": "python3"
  },
  "language_info": {
   "codemirror_mode": {
    "name": "ipython",
    "version": 3
   },
   "file_extension": ".py",
   "mimetype": "text/x-python",
   "name": "python",
   "nbconvert_exporter": "python",
   "pygments_lexer": "ipython3",
   "version": "3.8.13"
  },
  "vscode": {
   "interpreter": {
    "hash": "ca091608d44dc08bfc212ab9efe45736a1dc0fc5d2c0d0a9cccce5866f8fffa4"
   }
  }
 },
 "nbformat": 4,
 "nbformat_minor": 5
}
