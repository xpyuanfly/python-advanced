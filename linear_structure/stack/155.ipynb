{
 "cells": [
  {
   "cell_type": "code",
   "execution_count": 2,
   "metadata": {},
   "outputs": [
    {
     "name": "stdout",
     "output_type": "stream",
     "text": [
      "1\n",
      "2\n",
      "3\n"
     ]
    }
   ],
   "source": [
    "class MinStack(object):\n",
    "    # According to:\n",
    "    # https://leetcode.com/discuss/45373/c-using-two-stacks-quite-short-and-easy-to-understand\n",
    "    def __init__(self):\n",
    "        self.stack_d = []\n",
    "        self.stack_m = []\n",
    "\n",
    "    def push(self, x):\n",
    "        self.stack_d.append(x)\n",
    "        if not self.stack_m or x <= self.getMin():\n",
    "            self.stack_m.append(x)\n",
    "\n",
    "    def pop(self):\n",
    "        if self.top() == self.getMin():\n",
    "            self.stack_m.pop()\n",
    "        self.stack_d.pop()\n",
    "\n",
    "    def top(self):\n",
    "        return self.stack_d[-1]\n",
    "\n",
    "    def getMin(self):\n",
    "        return self.stack_m[-1]\n",
    "\n",
    "\n",
    "if __name__ == '__main__':\n",
    "    one_stack = MinStack()\n",
    "    one_stack.push(3)\n",
    "    one_stack.push(4)\n",
    "    one_stack.push(2)\n",
    "    one_stack.push(1)\n",
    "\n",
    "    print(one_stack.getMin())\n",
    "    one_stack.pop()\n",
    "    print(one_stack.getMin())\n",
    "    one_stack.pop()\n",
    "    print(one_stack.getMin())\n",
    "    one_stack.push(0)\n"
   ]
  },
  {
   "cell_type": "markdown",
   "metadata": {},
   "source": [
    "1，时间复杂度低，空间复杂度较高：\n",
    "在存储数据进入时，采取二维list[ [val,minval] , [val,minval] ]的形式存储，为了方便getmin函数的使用，只需返回self.items[-1][1]\n",
    "或者\n",
    "仍采取一维list，但是每次push时需多存储一个数据min(self.items[-2],val)（当前最小val），但是pop每次需要推出两个，top函数需返回self.items[-2]，getmin函数也就只需返回self.items[-1]\n",
    "再或者\n",
    "定义两个list，minList与normalList\n",
    "2，时间复杂度高，空间复杂度低：\n",
    "采取list储存，使用min函数遍历list从而获取minval"
   ]
  }
 ],
 "metadata": {
  "kernelspec": {
   "display_name": "Python 3.10.5 64-bit",
   "language": "python",
   "name": "python3"
  },
  "language_info": {
   "codemirror_mode": {
    "name": "ipython",
    "version": 3
   },
   "file_extension": ".py",
   "mimetype": "text/x-python",
   "name": "python",
   "nbconvert_exporter": "python",
   "pygments_lexer": "ipython3",
   "version": "3.10.5"
  },
  "orig_nbformat": 4,
  "vscode": {
   "interpreter": {
    "hash": "369f2c481f4da34e4445cda3fffd2e751bd1c4d706f27375911949ba6bb62e1c"
   }
  }
 },
 "nbformat": 4,
 "nbformat_minor": 2
}
