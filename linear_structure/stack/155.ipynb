{
 "cells": [
  {
   "cell_type": "code",
   "execution_count": 2,
   "metadata": {},
   "outputs": [
    {
     "name": "stdout",
     "output_type": "stream",
     "text": [
      "1\n",
      "2\n",
      "3\n"
     ]
    }
   ],
   "source": [
    "class MinStack(object):\n",
    "    # According to:\n",
    "    # https://leetcode.com/discuss/45373/c-using-two-stacks-quite-short-and-easy-to-understand\n",
    "    def __init__(self):\n",
    "        self.stack_d = []\n",
    "        self.stack_m = []\n",
    "\n",
    "    def push(self, x):\n",
    "        self.stack_d.append(x)\n",
    "        if not self.stack_m or x <= self.getMin():\n",
    "            self.stack_m.append(x)\n",
    "\n",
    "    def pop(self):\n",
    "        if self.top() == self.getMin():\n",
    "            self.stack_m.pop()\n",
    "        self.stack_d.pop()\n",
    "\n",
    "    def top(self):\n",
    "        return self.stack_d[-1]\n",
    "\n",
    "    def getMin(self):\n",
    "        return self.stack_m[-1]\n",
    "\n",
    "\n",
    "if __name__ == '__main__':\n",
    "    one_stack = MinStack()\n",
    "    one_stack.push(3)\n",
    "    one_stack.push(4)\n",
    "    one_stack.push(2)\n",
    "    one_stack.push(1)\n",
    "\n",
    "    print(one_stack.getMin())\n",
    "    one_stack.pop()\n",
    "    print(one_stack.getMin())\n",
    "    one_stack.pop()\n",
    "    print(one_stack.getMin())\n",
    "    one_stack.push(0)\n"
   ]
  },
  {
   "cell_type": "code",
   "execution_count": null,
   "metadata": {},
   "outputs": [],
   "source": []
  }
 ],
 "metadata": {
  "kernelspec": {
   "display_name": "Python 3.10.5 64-bit",
   "language": "python",
   "name": "python3"
  },
  "language_info": {
   "codemirror_mode": {
    "name": "ipython",
    "version": 3
   },
   "file_extension": ".py",
   "mimetype": "text/x-python",
   "name": "python",
   "nbconvert_exporter": "python",
   "pygments_lexer": "ipython3",
   "version": "3.10.5"
  },
  "orig_nbformat": 4,
  "vscode": {
   "interpreter": {
    "hash": "369f2c481f4da34e4445cda3fffd2e751bd1c4d706f27375911949ba6bb62e1c"
   }
  }
 },
 "nbformat": 4,
 "nbformat_minor": 2
}
