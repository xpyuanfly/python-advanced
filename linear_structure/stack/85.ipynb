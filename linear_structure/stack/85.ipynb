{
 "cells": [
  {
   "cell_type": "code",
   "execution_count": 2,
   "metadata": {},
   "outputs": [
    {
     "data": {
      "text/plain": [
       "9"
      ]
     },
     "execution_count": 2,
     "metadata": {},
     "output_type": "execute_result"
    }
   ],
   "source": [
    "def maximalRectangle(matrix):\n",
    "    \"\"\"\n",
    "    :type matrix: List[list[str]]\n",
    "    :rtype: int\n",
    "    \"\"\"\n",
    "\n",
    "    if not matrix:\n",
    "        return 0\n",
    "\n",
    "    m_rows = len(matrix)\n",
    "    n_cols = len(matrix[0])\n",
    "\n",
    "    # Pre-process: to make every row be a histogram\n",
    "    process_matrix = [[0 for col in range(n_cols)] for row in range(m_rows)]\n",
    "    for row in range(m_rows):\n",
    "        for col in range(n_cols):\n",
    "            if row == 0:\n",
    "                if matrix[row][col] == \"1\":\n",
    "                    process_matrix[row][col] = 1\n",
    "\n",
    "            else:\n",
    "                num = 1 if matrix[row][col] == \"1\" else 0\n",
    "                process_matrix[row][col] = num * (num + process_matrix[row-1][col])\n",
    "\n",
    "    # Find every max size of row.\n",
    "    max_size = 0\n",
    "    for row in range(m_rows):\n",
    "        max_row_size = largestRectangleArea(process_matrix[row])\n",
    "        max_size = max(max_row_size, max_size)\n",
    "    return max_size\n",
    "\n",
    "# Find the largest rectangle in a histogram\n",
    "\n",
    "\n",
    "def largestRectangleArea(heights):\n",
    "    # Add a bar of height 0 after the tail.\n",
    "    heights.append(0)\n",
    "    size = len(heights)\n",
    "    stack = [0] #no_decrease_stack\n",
    "    max_size = heights[0]\n",
    "\n",
    "    i = 0\n",
    "    while i < size:\n",
    "        cur_num = heights[i]\n",
    "        # If the height of current bar is higher than the stack top,\n",
    "        # or the stack is empty, push current index to stack\n",
    "        if (not stack or cur_num > heights[stack[-1]]):\n",
    "            stack.append(i)\n",
    "            i += 1\n",
    "\n",
    "        # The current height is lower or same than the top,\n",
    "        # then pop until current height is higher than the top.\n",
    "        else:\n",
    "            index = stack.pop()\n",
    "            height = heights[index]\n",
    "            if stack:\n",
    "                width = i - stack[-1] - 1\n",
    "            else:\n",
    "                width = i\n",
    "            max_size = max(max_size, width * height)\n",
    "\n",
    "    return max_size\n",
    "\n",
    "\n",
    "maximalRectangle([[\"0\", \"1\", \"1\", \"0\"], \n",
    "                  [\"1\", \"1\", \"0\", \"1\"],\n",
    "                  [\"1\", \"1\", \"1\", \"1\"],\n",
    "                  [\"0\", \"1\", \"1\", \"1\"], \n",
    "                  [\"1\", \"1\", \"1\", \"1\"]])\n"
   ]
  },
  {
   "cell_type": "code",
   "execution_count": 1,
   "metadata": {},
   "outputs": [
    {
     "name": "stdout",
     "output_type": "stream",
     "text": [
      "6\n"
     ]
    }
   ],
   "source": [
    "# 李家宝代码\n",
    "matrix = [[\"1\",\"0\",\"1\",\"0\",\"0\"],\n",
    "         [\"1\",\"0\",\"1\",\"1\",\"1\"],\n",
    "         [\"1\",\"1\",\"1\",\"1\",\"1\"],\n",
    "         [\"1\",\"0\",\"0\",\"1\",\"0\"]]\n",
    "\n",
    "def maxRetangle(matrix):\n",
    "    if not matrix:\n",
    "        return 0\n",
    "    m, n = len(matrix), len(matrix[0])\n",
    "    tmp = [0]*(n+1)\n",
    "    s = 0\n",
    "    for i in range(m):\n",
    "        for j in range(n):\n",
    "            tmp[j] = tmp[j]+1 if matrix[i][j]==\"1\" else 0\n",
    "\n",
    "        stk = [-1]\n",
    "        for k, v in enumerate(tmp):\n",
    "            while stk and tmp[stk[-1]] > v:\n",
    "                index = stk.pop()\n",
    "                s = max(s, tmp[index]*(k - stk[-1] - 1))\n",
    "            stk.append(k)\n",
    "    return s\n",
    "\n",
    "print(maxRetangle(matrix))"
   ]
  }
 ],
 "metadata": {
  "kernelspec": {
   "display_name": "Python 3.9.12 ('base')",
   "language": "python",
   "name": "python3"
  },
  "language_info": {
   "codemirror_mode": {
    "name": "ipython",
    "version": 3
   },
   "file_extension": ".py",
   "mimetype": "text/x-python",
   "name": "python",
   "nbconvert_exporter": "python",
   "pygments_lexer": "ipython3",
   "version": "3.9.12"
  },
  "orig_nbformat": 4,
  "vscode": {
   "interpreter": {
    "hash": "a4dded33d7e5587329f3b5bd298582320440e731ec97d683ac8324bdf803f54d"
   }
  }
 },
 "nbformat": 4,
 "nbformat_minor": 2
}
