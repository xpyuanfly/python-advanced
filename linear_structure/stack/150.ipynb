{
 "cells": [
  {
   "cell_type": "markdown",
   "metadata": {},
   "source": [
    "根据 逆波兰表示法，求表达式的值。\n",
    "\n",
    "有效的算符包括 +、-、*、/ 。每个运算对象可以是整数，也可以是另一个逆波兰表达式。\n",
    "\n",
    "注意 两个整数之间的除法只保留整数部分。\n",
    "\n",
    "可以保证给定的逆波兰表达式总是有效的。换句话说，表达式总会得出有效数值且不存在除数为 0 的情况。\n",
    "\n",
    " \n",
    "\n",
    "示例 1：\n",
    "\n",
    "输入：tokens = [\"2\",\"1\",\"+\",\"3\",\"*\"]\n",
    "输出：9\n",
    "解释：该算式转化为常见的中缀算术表达式为：((2 + 1) * 3) = 9\n",
    "示例 2：\n",
    "\n",
    "输入：tokens = [\"4\",\"13\",\"5\",\"/\",\"+\"]\n",
    "输出：6\n",
    "解释：该算式转化为常见的中缀算术表达式为：(4 + (13 / 5)) = 6\n",
    "示例 3：\n",
    "\n",
    "输入：tokens = [\"10\",\"6\",\"9\",\"3\",\"+\",\"-11\",\"*\",\"/\",\"*\",\"17\",\"+\",\"5\",\"+\"]\n",
    "输出：22\n",
    "解释：该算式转化为常见的中缀算术表达式为：\n",
    "  ((10 * (6 / ((9 + 3) * -11))) + 17) + 5\n",
    "= ((10 * (6 / (12 * -11))) + 17) + 5\n",
    "= ((10 * (6 / -132)) + 17) + 5\n",
    "= ((10 * 0) + 17) + 5\n",
    "= (0 + 17) + 5\n",
    "= 17 + 5\n",
    "= 22\n",
    "\n",
    "来源：力扣（LeetCode）\n",
    "链接：https://leetcode.cn/problems/evaluate-reverse-polish-notation\n",
    "著作权归领扣网络所有。商业转载请联系官方授权，非商业转载请注明出处。"
   ]
  },
  {
   "cell_type": "code",
   "execution_count": 2,
   "metadata": {},
   "outputs": [
    {
     "name": "stdout",
     "output_type": "stream",
     "text": [
      "9\n",
      "6.6\n",
      "-1.7142857142857142\n"
     ]
    }
   ],
   "source": [
    "def evalRPN(tokens):\n",
    "    value_stack = [] # push <=> append      pop <=> pop \n",
    "    for token in tokens:\n",
    "        if token in \"+-*/\":\n",
    "            operand_2 = value_stack.pop()\n",
    "            operand_1 = value_stack.pop()\n",
    "            negative = 1\n",
    "            if operand_1 * operand_2 < 0:\n",
    "                negative = -1\n",
    "\n",
    "            if token == \"+\":\n",
    "                result = operand_1 + operand_2\n",
    "            elif token == \"-\":\n",
    "                result = operand_1 - operand_2\n",
    "            elif token == \"*\":\n",
    "                result = operand_1 * operand_2\n",
    "                # Leetcode think 12/-7 = -1, 12/-13 = 0\n",
    "            elif token == \"/\":\n",
    "                result = abs(operand_1) / abs(operand_2) * negative\n",
    "\n",
    "            value_stack.append(result)\n",
    "        else:\n",
    "            value_stack.append(int(token))\n",
    "    return value_stack[-1]\n",
    "\n",
    "if __name__ == '__main__':\n",
    "    # stack = Stack()\n",
    "    \n",
    "    tokens = [\"2\",\"1\",\"+\",\"3\",\"*\"]\n",
    "    print(evalRPN(tokens))\n",
    "    \n",
    "    tokens = [\"4\", \"13\", \"5\", \"/\", \"+\"]\n",
    "    print(evalRPN(tokens))\n",
    "    \n",
    "    tokens = [\"12\", \"-7\", \"/\"]\n",
    "    print(evalRPN(tokens))\n",
    "    "
   ]
  },
  {
   "cell_type": "code",
   "execution_count": null,
   "metadata": {},
   "outputs": [],
   "source": []
  }
 ],
 "metadata": {
  "kernelspec": {
   "display_name": "Python 3.8.13 ('base')",
   "language": "python",
   "name": "python3"
  },
  "language_info": {
   "codemirror_mode": {
    "name": "ipython",
    "version": 3
   },
   "file_extension": ".py",
   "mimetype": "text/x-python",
   "name": "python",
   "nbconvert_exporter": "python",
   "pygments_lexer": "ipython3",
   "version": "3.8.13"
  },
  "orig_nbformat": 4,
  "vscode": {
   "interpreter": {
    "hash": "ca091608d44dc08bfc212ab9efe45736a1dc0fc5d2c0d0a9cccce5866f8fffa4"
   }
  }
 },
 "nbformat": 4,
 "nbformat_minor": 2
}
