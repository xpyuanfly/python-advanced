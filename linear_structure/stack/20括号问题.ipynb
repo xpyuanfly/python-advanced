{
 "cells": [
  {
   "cell_type": "markdown",
   "id": "402bf9db-094c-4b92-8568-55ae60a26ff4",
   "metadata": {},
   "source": [
    "编写程序检查该字符串的括号是否成对出现\n",
    "\n",
    "根据提示，判断字符串是否有效，即字符串中括号是否成对出现。若是，则输出 True ，否则输出 False 。\n",
    "其中字符串的字符只包含三种括号，花括号{}、中括号[]、圆括号()，即它仅由 (、)、[、]、{、}六个字符组成。\n",
    "\n",
    "提示\n",
    "\n",
    "S1：遍历输入的括号序列，如果是左括号，进入S2，如果是右括号，进入S3；\n",
    "\n",
    "S2：如果当前遍历到左括号，则入栈；\n",
    "\n",
    "S3：如果当前遍历到右括号，则出栈一个元素，看其是否与当前的右括号组成一对，如果不是，则匹配失败。或者在出栈过程中发生异常（从空栈中出栈），也匹配失败；\n",
    "\n",
    "S4：若能顺利遍历完成，检查栈中是否还有剩余元素，如果有，则匹配失败；如果没有，则匹配成功。\n",
    "\n",
    "测试说明\n",
    "平台会对你编写的代码进行测试，比对你输出的数值与实际正确数值，只有所有数据全部计算正确才能通过测试：\n",
    "\n",
    "测试输入：{ [ ] ( ) }\n",
    "预期输出：True\n",
    "\n",
    "测试输入：[ ( { } [ ] ) ]\n",
    "预期输出：True"
   ]
  },
  {
   "cell_type": "code",
   "execution_count": 6,
   "id": "5a8c0fb7-f266-4b40-8373-6eaffbecd249",
   "metadata": {},
   "outputs": [
    {
     "name": "stdout",
     "output_type": "stream",
     "text": [
      "True\n"
     ]
    }
   ],
   "source": [
    "# -*- coding: utf-8 -*-\n",
    "\n",
    "class Stack():\n",
    "    # 创建空列表实现栈\n",
    "    def __init__(self): \n",
    "        self.__list = []   \n",
    "    # 判断是否为空\n",
    "    def is_empty(self): \n",
    "        return self.__list == []\n",
    "    # 压栈，添加元素\n",
    "    def push(self,item): \n",
    "        self.__list.append(item)\n",
    "    # 弹栈，弹出最后压入栈的元素\n",
    "    def pop(self): \n",
    "        if self.is_empty():\n",
    "            return \n",
    "        else:\n",
    "            return self.__list.pop() \n",
    "        \n",
    "'''请在Begin-End之间补充完成代码, 完成syntaxChecker函数, 解决括号匹配问题'''\n",
    "def syntaxChecker(strList):  \n",
    "    ### strList: 字符串列表  \n",
    "    stack = Stack()  \n",
    "    left = '([{'     # 左括号  \n",
    "    right = ')]}'    # 右括号  \n",
    "    flag = True      # 标志位  \n",
    "    # ********** Begin ********** #  \n",
    "    # 遍历输入  \n",
    "    for i in strList:  \n",
    "        # 左括号,入栈  \n",
    "        if i in left:  \n",
    "            stack.push(i)  \n",
    "        # 右括号，出栈  \n",
    "        elif i in right:   \n",
    "            #出栈异常，左括号为空，存在右括号，不匹配  \n",
    "            if stack.is_empty():   \n",
    "                flag = False  \n",
    "                break  \n",
    "            else:  \n",
    "                j = stack.pop()  \n",
    "                # 左右不匹配，False  \n",
    "                if left.find(j) != right.find(i):   \n",
    "                    flag = False  \n",
    "                    break  \n",
    "    # 遍历后，栈非空，说明说明左括号个数大于右括号，不匹配  \n",
    "    if not stack.is_empty:  \n",
    "        flag = False  \n",
    "    # ********** End ********** #   \n",
    "    return flag\n",
    "\n",
    "if __name__ == \"__main__\":\n",
    "    # strList = input().split()\n",
    "    strList = '(x+y)=[3]'\n",
    "    result = syntaxChecker(strList)\n",
    "    print(result)"
   ]
  },
  {
   "cell_type": "code",
   "execution_count": 1,
   "id": "51c325eb-0deb-45e2-9a0b-8ee7b3f72eb0",
   "metadata": {},
   "outputs": [
    {
     "name": "stdout",
     "output_type": "stream",
     "text": [
      "[1, 2, 3, 4, 5, 6, 7, 8, 9, 153, 370, 371, 407, 1634, 8208, 9474, 54748, 92727, 93084]\n"
     ]
    }
   ],
   "source": [
    "def self_pow_num(up_num):\n",
    "    ans = []\n",
    "    for num in range(1,up_num+1):\n",
    "        pos_num = len(str(num))\n",
    "        part_num_list = [num//10**(pos)%10 for pos in range(pos_num)]\n",
    "        sum_num = sum([x**pos_num for x in part_num_list])\n",
    "        if sum_num == num:\n",
    "            yield num\n",
    "        else:\n",
    "            continue\n",
    "print(list(self_pow_num(100000)))"
   ]
  },
  {
   "cell_type": "code",
   "execution_count": null,
   "id": "2898fbc1",
   "metadata": {},
   "outputs": [],
   "source": []
  }
 ],
 "metadata": {
  "kernelspec": {
   "display_name": "Python 3 (ipykernel)",
   "language": "python",
   "name": "python3"
  },
  "language_info": {
   "codemirror_mode": {
    "name": "ipython",
    "version": 3
   },
   "file_extension": ".py",
   "mimetype": "text/x-python",
   "name": "python",
   "nbconvert_exporter": "python",
   "pygments_lexer": "ipython3",
   "version": "3.8.13"
  },
  "vscode": {
   "interpreter": {
    "hash": "ca091608d44dc08bfc212ab9efe45736a1dc0fc5d2c0d0a9cccce5866f8fffa4"
   }
  }
 },
 "nbformat": 4,
 "nbformat_minor": 5
}
