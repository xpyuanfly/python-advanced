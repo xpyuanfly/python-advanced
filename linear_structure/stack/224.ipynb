{
 "cells": [
  {
   "cell_type": "code",
   "execution_count": 2,
   "metadata": {},
   "outputs": [
    {
     "name": "stdout",
     "output_type": "stream",
     "text": [
      "2\n",
      "3\n",
      "2\n",
      "23\n"
     ]
    }
   ],
   "source": [
    "def calculate(s):\n",
    "    # s = \"\".join(s.split(\" \"))     # Erase the redundant space\n",
    "    sign = 1\n",
    "    sign_stack = [1]\n",
    "    num, result = 0, 0\n",
    "    for ch in s:\n",
    "        if ch == \" \":\n",
    "            pass\n",
    "        elif ch == \"(\":\n",
    "            sign_stack.append(sign)\n",
    "        elif ch in \"+-\":\n",
    "            result += num * sign\n",
    "            sign = sign_stack[-1] * (1 if ch == \"+\" else -1)\n",
    "            num = 0\n",
    "        elif ch == \")\":\n",
    "            sign_stack.pop()\n",
    "        else:\n",
    "            num = num * 10 + int(ch)\n",
    "    result += num * sign\n",
    "    return result\n",
    "\n",
    "# print(calculate(\" 1234 \"))\n",
    "print(calculate(\"1 + 1\"))\n",
    "print(calculate(\" 2-1 + 2 \"))\n",
    "print(calculate(\" 2  - (1+2-(1+2))\"))\n",
    "print(calculate(\"(1+(4+5+2)-3)+(6+8)\"))\n",
    "\n"
   ]
  },
  {
   "cell_type": "code",
   "execution_count": null,
   "metadata": {},
   "outputs": [],
   "source": []
  }
 ],
 "metadata": {
  "kernelspec": {
   "display_name": "Python 3.10.5 64-bit",
   "language": "python",
   "name": "python3"
  },
  "language_info": {
   "codemirror_mode": {
    "name": "ipython",
    "version": 3
   },
   "file_extension": ".py",
   "mimetype": "text/x-python",
   "name": "python",
   "nbconvert_exporter": "python",
   "pygments_lexer": "ipython3",
   "version": "3.10.5"
  },
  "orig_nbformat": 4,
  "vscode": {
   "interpreter": {
    "hash": "369f2c481f4da34e4445cda3fffd2e751bd1c4d706f27375911949ba6bb62e1c"
   }
  }
 },
 "nbformat": 4,
 "nbformat_minor": 2
}
