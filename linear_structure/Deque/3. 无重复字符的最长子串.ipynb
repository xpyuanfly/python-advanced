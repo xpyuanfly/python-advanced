{
 "cells": [
  {
   "cell_type": "markdown",
   "metadata": {},
   "source": [
    "给定一个字符串 s ，请你找出其中不含有重复字符的 最长子串 的长度。\n",
    "\n",
    "示例 1:\n",
    "输入: s = \"abcabcbb\"\n",
    "输出: 3 \n",
    "解释: 因为无重复字符的最长子串是 \"abc\"，所以其长度为 3。\n",
    "\n",
    "示例 2:\n",
    "输入: s = \"bbbbb\"\n",
    "输出: 1\n",
    "解释: 因为无重复字符的最长子串是 \"b\"，所以其长度为 1。\n",
    "\n",
    "示例 3:\n",
    "输入: s = \"pwwkew\"\n",
    "输出: 3\n",
    "解释: 因为无重复字符的最长子串是 \"wke\"，所以其长度为 3。\n",
    "     请注意，你的答案必须是 子串 的长度，\"pwke\" 是一个子序列，不是子串。\n",
    "\n",
    "链接：https://leetcode.cn/problems/longest-substring-without-repeating-characters"
   ]
  },
  {
   "cell_type": "code",
   "execution_count": 2,
   "metadata": {},
   "outputs": [
    {
     "name": "stdout",
     "output_type": "stream",
     "text": [
      "['c']\n"
     ]
    }
   ],
   "source": [
    "from collections import deque\n",
    "def maxSlidingWindow(nums, k):\n",
    "    # 基本情况\n",
    "    n = len(nums)\n",
    "    if n * k == 0:\n",
    "        return []\n",
    "    if k == 1:\n",
    "        return nums\n",
    "\n",
    "    def clean_deque(i):\n",
    "        # 从滑动窗口移出元素\n",
    "        if deq and deq[0] == i - k:  # 当窗口有k个元素时，加入元素时要同时从左边移出元素\n",
    "            deq.popleft()\n",
    "\n",
    "        # 从双端队列中移出比nums[i]小的元素索引\n",
    "        # 目的：方便索引最大值吧？\n",
    "        while deq and nums[i] > nums[deq[-1]]:\n",
    "            deq.pop()\n",
    "\n",
    "    # 初始化双端队列：滑动窗口中存放数组的索引！\n",
    "    deq = deque()\n",
    "    max_idx = 0\n",
    "    for i in range(k):\n",
    "        clean_deque(i)\n",
    "        deq.append(i)\n",
    "        # 计算初始滑动窗口中的最大值\n",
    "        if nums[i] > nums[max_idx]:\n",
    "            max_idx = i\n",
    "    output = [nums[max_idx]]  # 初始滑动窗口的最大值\n",
    "\n",
    "    # 滑动该滑动窗口，同时输出最大值\n",
    "    for i in range(k, n):\n",
    "        clean_deque(i)\n",
    "        deq.append(i)\n",
    "        output.append(nums[deq[0]])\n",
    "    return output\n",
    "\n",
    "print(maxSlidingWindow(\"abcabcbb\",len(\"abcabcbb\")))"
   ]
  },
  {
   "cell_type": "code",
   "execution_count": 4,
   "metadata": {},
   "outputs": [
    {
     "name": "stdout",
     "output_type": "stream",
     "text": [
      "4\n"
     ]
    }
   ],
   "source": [
    "# 这道题主要用到思路是：滑动窗口\n",
    "# 什么是滑动窗口？\n",
    "# 其实就是一个队列,比如例题中的 abcabcbb，进入这个队列（窗口）为 abc 满足题目要求，当再进入 a，队列变成了 abca，这时候不满足要求。所以，我们要移动这个队列！\n",
    "# 如何移动？\n",
    "# 我们只要把队列的左边的元素移出就行了，直到满足题目要求！\n",
    "# 一直维持这样的队列，找出队列出现最长的长度时候，求出解！\n",
    "# 时间复杂度：O(n)\n",
    "\n",
    "def lengthOfLongestSubstring(s: str) -> int:\n",
    "    len_s1 = 0\n",
    "    max_s1 = 0\n",
    "    lookup = set()  # 注意set()的用法！\n",
    "    left = 0\n",
    "    for i in range(len(s)):\n",
    "        len_s1 += 1\n",
    "        while s[i] in lookup:\n",
    "            lookup.remove(s[left])\n",
    "            left += 1\n",
    "            len_s1 -= 1\n",
    "        lookup.add(s[i])\n",
    "        if max_s1 < len_s1:\n",
    "            max_s1 = len_s1\n",
    "    return max_s1\n",
    "print(lengthOfLongestSubstring(\"abcabcdbb\"))"
   ]
  },
  {
   "cell_type": "markdown",
   "metadata": {},
   "source": [
    "滑动窗口题目:\n",
    "\n",
    "[3. 无重复字符的最长子串](https://leetcode-cn.com/problems/longest-substring-without-repeating-characters/)\n",
    "\n",
    "[30. 串联所有单词的子串](https://leetcode-cn.com/problems/substring-with-concatenation-of-all-words/)\n",
    "\n",
    "[76. 最小覆盖子串](https://leetcode-cn.com/problems/minimum-window-substring/)\n",
    "\n",
    "[159. 至多包含两个不同字符的最长子串](https://leetcode-cn.com/problems/longest-substring-with-at-most-two-distinct-characters/)\n",
    "\n",
    "[209. 长度最小的子数组](https://leetcode-cn.com/problems/minimum-size-subarray-sum/)\n",
    "\n",
    "[239. 滑动窗口最大值](https://leetcode-cn.com/problems/sliding-window-maximum/)\n",
    "\n",
    "[567. 字符串的排列](https://leetcode-cn.com/problems/permutation-in-string/)\n",
    "\n",
    "[632. 最小区间](https://leetcode-cn.com/problems/smallest-range/)\n",
    "\n",
    "[727. 最小窗口子序列](https://leetcode-cn.com/problems/minimum-window-subsequence/)\n"
   ]
  },
  {
   "cell_type": "code",
   "execution_count": 3,
   "metadata": {},
   "outputs": [
    {
     "name": "stdout",
     "output_type": "stream",
     "text": [
      "5\n"
     ]
    }
   ],
   "source": [
    "#周子翔code\n",
    "from collections import deque\n",
    "class Solution:\n",
    "    def lengthOfLongestSubstring(self, s):\n",
    "        deq = deque()\n",
    "        maxlen = 0\n",
    "\n",
    "        for c in s:\n",
    "            if c not in deq:\n",
    "                deq.append(c)\n",
    "                maxlen = max(len(deq),maxlen)\n",
    "            else:\n",
    "                deq.append(c)\n",
    "                t=deq.index(c)\n",
    "                for i in range(t+1):\n",
    "                    deq.popleft()\n",
    "        return maxlen\n",
    "\n",
    "print(Solution().lengthOfLongestSubstring('abcdabdcdfet'))"
   ]
  }
 ],
 "metadata": {
  "kernelspec": {
   "display_name": "Python 3.8.13 ('base')",
   "language": "python",
   "name": "python3"
  },
  "language_info": {
   "codemirror_mode": {
    "name": "ipython",
    "version": 3
   },
   "file_extension": ".py",
   "mimetype": "text/x-python",
   "name": "python",
   "nbconvert_exporter": "python",
   "pygments_lexer": "ipython3",
   "version": "3.8.13"
  },
  "orig_nbformat": 4,
  "vscode": {
   "interpreter": {
    "hash": "ca091608d44dc08bfc212ab9efe45736a1dc0fc5d2c0d0a9cccce5866f8fffa4"
   }
  }
 },
 "nbformat": 4,
 "nbformat_minor": 2
}
