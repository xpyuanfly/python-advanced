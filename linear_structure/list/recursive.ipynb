{
 "cells": [
  {
   "cell_type": "code",
   "execution_count": 10,
   "metadata": {},
   "outputs": [
    {
     "name": "stdout",
     "output_type": "stream",
     "text": [
      "[5, 7, 10, 15, 17, 21, 24, 27, 30, 36, 45, 50]\n"
     ]
    }
   ],
   "source": [
    "# coding=utf-8\n",
    "def quick_sort(array, start, end):\n",
    "    if start >= end:\n",
    "        return\n",
    "    mid_data, left, right = array[start], start, end\n",
    "    while left < right:\n",
    "        while array[right] >= mid_data and left < right:\n",
    "            right -= 1\n",
    "        array[left] = array[right]\n",
    "        while array[left] < mid_data and left < right:\n",
    "            left += 1\n",
    "        array[right] = array[left]\n",
    "    array[left] = mid_data\n",
    "    quick_sort(array, start, left-1)\n",
    "    quick_sort(array, left+1, end)\n",
    "     \n",
    " \n",
    "if __name__ == '__main__':\n",
    "    array = [10, 17, 50, 7, 30, 24, 27, 45, 15, 5, 36, 21]\n",
    "    quick_sort(array, 0, len(array)-1)\n",
    "    print(array)"
   ]
  },
  {
   "cell_type": "code",
   "execution_count": 9,
   "metadata": {},
   "outputs": [
    {
     "name": "stdout",
     "output_type": "stream",
     "text": [
      "[5, 7, 10, 15, 17, 21, 24, 27, 30, 36, 45, 50]\n"
     ]
    }
   ],
   "source": [
    "def quicksqt(ls):\n",
    "    if len(ls) <= 1:\n",
    "        return ls\n",
    "    mid = ls[0]\n",
    "    left = quicksqt([i for i in ls[1:] if i<mid])\n",
    "    right = quicksqt([i for i in ls[1:] if i>mid])\n",
    "    return left + [mid] + right\n",
    "\n",
    "array = [10, 17, 50, 7, 30, 24, 27, 45, 15, 5, 36, 21]\n",
    "array=quicksqt(array)\n",
    "print(array)"
   ]
  },
  {
   "cell_type": "code",
   "execution_count": 12,
   "metadata": {},
   "outputs": [
    {
     "name": "stdout",
     "output_type": "stream",
     "text": [
      "[5, 7, 10, 2, 8, 9, 3, 1, 6, 4]\n",
      "[1, 2, 3, 4, 5, 6, 7, 8, 9, 10]\n"
     ]
    }
   ],
   "source": [
    "import random\n",
    "ls = list(range(1,11))\n",
    "random.shuffle(ls)\n",
    "print(ls)\n",
    "quick_sort(ls,0,len(ls)-1)\n",
    "print(ls)"
   ]
  }
 ],
 "metadata": {
  "kernelspec": {
   "display_name": "Python 3.8.13 ('base')",
   "language": "python",
   "name": "python3"
  },
  "language_info": {
   "codemirror_mode": {
    "name": "ipython",
    "version": 3
   },
   "file_extension": ".py",
   "mimetype": "text/x-python",
   "name": "python",
   "nbconvert_exporter": "python",
   "pygments_lexer": "ipython3",
   "version": "3.8.13"
  },
  "orig_nbformat": 4,
  "vscode": {
   "interpreter": {
    "hash": "ca091608d44dc08bfc212ab9efe45736a1dc0fc5d2c0d0a9cccce5866f8fffa4"
   }
  }
 },
 "nbformat": 4,
 "nbformat_minor": 2
}
