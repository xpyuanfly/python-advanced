{
 "cells": [
  {
   "cell_type": "code",
   "execution_count": 1,
   "metadata": {},
   "outputs": [
    {
     "name": "stdout",
     "output_type": "stream",
     "text": [
      "[5, 7, 10, 15, 17, 21, 24, 27, 30, 36, 45, 50]\n"
     ]
    }
   ],
   "source": [
    "# coding=utf-8\n",
    "def quick_sort(array, start, end):\n",
    "    if start >= end:\n",
    "        return\n",
    "    mid_data, left, right = array[start], start, end\n",
    "    while left < right:\n",
    "        while array[right] >= mid_data and left < right:\n",
    "            right -= 1\n",
    "        array[left] = array[right]\n",
    "        while array[left] < mid_data and left < right:\n",
    "            left += 1\n",
    "        array[right] = array[left]\n",
    "    array[left] = mid_data\n",
    "    quick_sort(array, start, left-1)\n",
    "    quick_sort(array, left+1, end)\n",
    "     \n",
    " \n",
    "if __name__ == '__main__':\n",
    "    array = [10, 17, 50, 7, 30, 24, 27, 45, 15, 5, 36, 21]\n",
    "    quick_sort(array, 0, len(array)-1)\n",
    "    print(array)"
   ]
  },
  {
   "cell_type": "code",
   "execution_count": 9,
   "metadata": {},
   "outputs": [
    {
     "name": "stdout",
     "output_type": "stream",
     "text": [
      "[5, 7, 10, 15, 17, 21, 24, 27, 30, 36, 45, 50]\n"
     ]
    }
   ],
   "source": [
    "def quicksqt(ls):\n",
    "    if len(ls) <= 1:\n",
    "        return ls\n",
    "    mid = ls[0]\n",
    "    left = quicksqt([i for i in ls[1:] if i<mid])\n",
    "    right = quicksqt([i for i in ls[1:] if i>mid])\n",
    "    return left + [mid] + right\n",
    "\n",
    "array = [10, 17, 50, 7, 30, 24, 27, 45, 15, 5, 36, 21]\n",
    "array=quicksqt(array)\n",
    "print(array)"
   ]
  },
  {
   "cell_type": "code",
   "execution_count": null,
   "metadata": {},
   "outputs": [],
   "source": []
  }
 ],
 "metadata": {
  "kernelspec": {
   "display_name": "Python 3.10.5 64-bit",
   "language": "python",
   "name": "python3"
  },
  "language_info": {
   "codemirror_mode": {
    "name": "ipython",
    "version": 3
   },
   "file_extension": ".py",
   "mimetype": "text/x-python",
   "name": "python",
   "nbconvert_exporter": "python",
   "pygments_lexer": "ipython3",
   "version": "3.10.5"
  },
  "orig_nbformat": 4,
  "vscode": {
   "interpreter": {
    "hash": "369f2c481f4da34e4445cda3fffd2e751bd1c4d706f27375911949ba6bb62e1c"
   }
  }
 },
 "nbformat": 4,
 "nbformat_minor": 2
}
