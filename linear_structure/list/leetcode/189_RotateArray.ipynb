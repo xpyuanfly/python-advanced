{
 "cells": [
  {
   "cell_type": "code",
   "execution_count": 2,
   "id": "7d438055-cb56-4efb-80e8-8c11688b57b1",
   "metadata": {},
   "outputs": [
    {
     "data": {
      "text/plain": [
       "[5, 6, 7, 1, 2, 3, 4]"
      ]
     },
     "execution_count": 2,
     "metadata": {},
     "output_type": "execute_result"
    }
   ],
   "source": [
    "nums = [1,2,3,4,5,6,7]\n",
    "k = 3\n",
    "\n",
    "for i in range(0,k):\n",
    "    pop = nums.pop(-1)\n",
    "    nums.insert(0,pop)\n",
    "nums\n"
   ]
  },
  {
   "cell_type": "code",
   "execution_count": 20,
   "id": "f0476b2b",
   "metadata": {},
   "outputs": [
    {
     "data": {
      "text/plain": [
       "[5, 6, 7, 1, 2, 3, 4]"
      ]
     },
     "execution_count": 20,
     "metadata": {},
     "output_type": "execute_result"
    }
   ],
   "source": [
    "nums = [1,2,3,4,5,6,7]\n",
    "k = 3\n",
    "l = len(nums)\n",
    "\n",
    "dic = dict(enumerate(nums))\n",
    "\n",
    "new_dic = {}\n",
    "for item in dic.items():\n",
    "    new_dic[(item[0]+k)%l]=item[1]\n",
    "    \n",
    "finalres = sorted(new_dic.items(), key = lambda x : x[0])\n",
    "\n",
    "nums = [i[1] for i in finalres]\n",
    "nums"
   ]
  },
  {
   "cell_type": "code",
   "execution_count": 10,
   "id": "8ad10ac8",
   "metadata": {},
   "outputs": [
    {
     "data": {
      "text/plain": [
       "[(3, 1), (4, 2), (5, 3), (6, 4), (0, 5), (1, 6), (2, 7)]"
      ]
     },
     "execution_count": 10,
     "metadata": {},
     "output_type": "execute_result"
    }
   ],
   "source": [
    "nums = [1,2,3,4,5,6,7]\n",
    "k = 3\n",
    "l = len(nums)\n",
    "\n",
    "ls = [  ((i+k)%l, j) for i,j in enumerate(nums)]\n",
    "ls.sort()\n",
    "nums[:] = [i[1] for i in ls]\n",
    "nums\n",
    "     "
   ]
  },
  {
   "cell_type": "code",
   "execution_count": 12,
   "id": "c7ed8f5f",
   "metadata": {},
   "outputs": [
    {
     "data": {
      "text/plain": [
       "[5, 6, 7, 1, 2, 3, 4]"
      ]
     },
     "execution_count": 12,
     "metadata": {},
     "output_type": "execute_result"
    }
   ],
   "source": [
    "nums = [1,2,3,4,5,6,7]\n",
    "k = 3\n",
    "l = len(nums)\n",
    "\n",
    "label = -1\n",
    "count =0\n",
    "\n",
    "for i,j in enumerate(nums):\n",
    "    if (i+k)%l == 0:\n",
    "        label = count\n",
    "        break\n",
    "    count+=1\n",
    "\n",
    "nums[:] = nums[label:] + nums[:label]\n",
    "nums"
   ]
  },
  {
   "cell_type": "code",
   "execution_count": null,
   "id": "b8f8f217",
   "metadata": {},
   "outputs": [],
   "source": []
  }
 ],
 "metadata": {
  "kernelspec": {
   "display_name": "Python 3.10.5 64-bit",
   "language": "python",
   "name": "python3"
  },
  "language_info": {
   "codemirror_mode": {
    "name": "ipython",
    "version": 3
   },
   "file_extension": ".py",
   "mimetype": "text/x-python",
   "name": "python",
   "nbconvert_exporter": "python",
   "pygments_lexer": "ipython3",
   "version": "3.10.5"
  },
  "vscode": {
   "interpreter": {
    "hash": "369f2c481f4da34e4445cda3fffd2e751bd1c4d706f27375911949ba6bb62e1c"
   }
  }
 },
 "nbformat": 4,
 "nbformat_minor": 5
}
