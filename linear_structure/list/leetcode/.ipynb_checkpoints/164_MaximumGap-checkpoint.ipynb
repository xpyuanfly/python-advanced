{
 "cells": [
  {
   "cell_type": "code",
   "execution_count": 9,
   "id": "af3f336b-f087-40a4-ba93-5d95b8447874",
   "metadata": {},
   "outputs": [
    {
     "data": {
      "text/plain": [
       "10"
      ]
     },
     "execution_count": 9,
     "metadata": {},
     "output_type": "execute_result"
    }
   ],
   "source": [
    "nums = [3,6,9,1,12,25,15]\n",
    "\n",
    "nums.sort()\n",
    "ls  = [nums[i+1]-nums[i] for i in range(len(nums) - 1) ]\n",
    "# for i in range(len(nums) - 1):\n",
    "#     print(nums[i+1]-nums[i])\n",
    "\n",
    "max(ls)\n"
   ]
  },
  {
   "cell_type": "code",
   "execution_count": 10,
   "id": "6722f9b0-e41d-4765-9de8-f75da9e43625",
   "metadata": {},
   "outputs": [
    {
     "data": {
      "text/plain": [
       "10"
      ]
     },
     "execution_count": 10,
     "metadata": {},
     "output_type": "execute_result"
    }
   ],
   "source": [
    "if not nums:\n",
    "    print(0)\n",
    "\n",
    "max_num = max(nums)\n",
    "bucket = [[] for i in range(10)]\n",
    "exp = 1\n",
    "while max_num // exp > 0:\n",
    "    for num in nums:\n",
    "        bucket[(num // exp) % 10].append(num)\n",
    "    nums = []\n",
    "    for each in bucket:\n",
    "        nums.extend(each)\n",
    "    bucket = [[] for i in range(10)]\n",
    "    exp *= 10\n",
    "\n",
    "max_gap = 0\n",
    "for i in range(1, len(nums)):\n",
    "    max_gap = max(max_gap, nums[i] - nums[i - 1])\n",
    "max_gap"
   ]
  },
  {
   "cell_type": "code",
   "execution_count": null,
   "id": "f517dd09-18de-4594-a166-4993f74d9c22",
   "metadata": {},
   "outputs": [],
   "source": []
  }
 ],
 "metadata": {
  "kernelspec": {
   "display_name": "Python 3 (ipykernel)",
   "language": "python",
   "name": "python3"
  },
  "language_info": {
   "codemirror_mode": {
    "name": "ipython",
    "version": 3
   },
   "file_extension": ".py",
   "mimetype": "text/x-python",
   "name": "python",
   "nbconvert_exporter": "python",
   "pygments_lexer": "ipython3",
   "version": "3.8.13"
  },
  "toc-autonumbering": true,
  "toc-showcode": true
 },
 "nbformat": 4,
 "nbformat_minor": 5
}
