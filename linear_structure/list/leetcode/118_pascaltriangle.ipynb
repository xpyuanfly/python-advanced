{
 "cells": [
  {
   "cell_type": "code",
   "execution_count": 6,
   "id": "e69c6a23-9b59-41f0-97bc-4968cab10944",
   "metadata": {},
   "outputs": [
    {
     "data": {
      "text/plain": [
       "[[1], [1, 1], [1, 2, 1], [1, 3, 3, 1], [1, 4, 6, 4, 1]]"
      ]
     },
     "execution_count": 6,
     "metadata": {},
     "output_type": "execute_result"
    }
   ],
   "source": [
    "input =5 \n",
    "ls = [ [1] ]\n",
    "for i in range(2,input+1):\n",
    "    ls.append([])\n",
    "    ls[-1].append( ls[-2][0] )\n",
    "    for j in range(i-2):\n",
    "        ls[-1].append( ls[-2][j]+ ls[-2][j+1])\n",
    "    ls[-1].append( ls[-2][-1] )\n",
    "ls"
   ]
  },
  {
   "cell_type": "code",
   "execution_count": null,
   "id": "57670084-af13-4cb8-8d3f-ade763d146ef",
   "metadata": {},
   "outputs": [],
   "source": []
  }
 ],
 "metadata": {
  "kernelspec": {
   "display_name": "Python 3.10.5 64-bit",
   "language": "python",
   "name": "python3"
  },
  "language_info": {
   "codemirror_mode": {
    "name": "ipython",
    "version": 3
   },
   "file_extension": ".py",
   "mimetype": "text/x-python",
   "name": "python",
   "nbconvert_exporter": "python",
   "pygments_lexer": "ipython3",
   "version": "3.10.5"
  },
  "vscode": {
   "interpreter": {
    "hash": "369f2c481f4da34e4445cda3fffd2e751bd1c4d706f27375911949ba6bb62e1c"
   }
  }
 },
 "nbformat": 4,
 "nbformat_minor": 5
}
