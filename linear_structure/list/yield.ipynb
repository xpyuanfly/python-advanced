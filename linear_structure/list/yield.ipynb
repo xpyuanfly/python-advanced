{
 "cells": [
  {
   "cell_type": "markdown",
   "id": "cc39da43-e835-46e7-a05f-ed3d7d68efdc",
   "metadata": {},
   "source": [
    "yield是内建关键词"
   ]
  },
  {
   "cell_type": "code",
   "execution_count": null,
   "id": "a4822a3c",
   "metadata": {},
   "outputs": [],
   "source": [
    "def generate_square(n):\n",
    "    i = 0\n",
    "    while i < n:\n",
    "        yield i * i\n",
    "        i += 1\n",
    "\n",
    "result = generate_square(10)\n",
    "# next(result)  <=> result.__next__() implement 2 method ( protocal: __iter__() __next__() )\n",
    "print(list(result))\n",
    "next(result)"
   ]
  },
  {
   "cell_type": "code",
   "execution_count": 2,
   "id": "e90c894d",
   "metadata": {},
   "outputs": [
    {
     "name": "stdout",
     "output_type": "stream",
     "text": [
      "[0, 1, 4, 9, 16, 25, 36, 49, 64, 81]\n"
     ]
    }
   ],
   "source": [
    "# 上面的这段代码会计算0-9的平方并打印出来。\n",
    "\n",
    "# 那么问题来了，这段代码和下面的这段代码有什么区别呢？\n",
    "\n",
    "def generate_square(n):\n",
    "    i = 0\n",
    "    result = []\n",
    "    while i < n:\n",
    "        result.append(i * i)\n",
    "        i += 1\n",
    "    return result\n",
    "\n",
    "result = generate_square(10)\n",
    "print(result)"
   ]
  },
  {
   "cell_type": "markdown",
   "id": "cc544846",
   "metadata": {},
   "source": [
    "这里的关键点是，前一段代码使用了yield关键字。\n",
    "\n",
    "那么yield是什么呢？要理解yield，还得从容器开始说起。\n",
    "\n",
    "容器（container）\n",
    "像列表（list）、集合（set）、序列（tuple）、字典（dict）都是容器。\n",
    "简单的说，容器是一种把多个元素组织在一起的数据结构，可以逐个迭代获取其中的元素。容器可以用in来判断容器中是否包含某个元素，如\n",
    "\n",
    "'a' in {'a', 'b', 'c'} # 输出 True\n",
    "'a' in {'a': 1, 'b': 2} # 输出 True\n",
    "'a' in set(['a', 'b', 'c']) # 输出 True\n",
    "\n",
    "大多数的容器都是可迭代对象，可以使用某种方式访问容器中的每一个元素。\n",
    "\n",
    "迭代器（iterator）\n",
    "实现了__iter__和__next__方法的对象都称为迭代器。\n",
    "\n",
    "迭代器是一个有状态的对象，在调用next() 的时候返回下一个值，如果容器中没有更多元素了，则抛出StopIteration异常。\n",
    "\n",
    "看下面的例子"
   ]
  },
  {
   "cell_type": "code",
   "execution_count": 7,
   "id": "516e6662",
   "metadata": {},
   "outputs": [
    {
     "name": "stdout",
     "output_type": "stream",
     "text": [
      "a\n",
      "b\n",
      "c\n"
     ]
    },
    {
     "ename": "StopIteration",
     "evalue": "",
     "output_type": "error",
     "traceback": [
      "\u001b[1;31m---------------------------------------------------------------------------\u001b[0m",
      "\u001b[1;31mStopIteration\u001b[0m                             Traceback (most recent call last)",
      "\u001b[1;32md:\\jupyter_run\\python-advanced\\linear_structure\\list\\yield.ipynb Cell 5\u001b[0m in \u001b[0;36m<cell line: 6>\u001b[1;34m()\u001b[0m\n\u001b[0;32m      <a href='vscode-notebook-cell:/d%3A/jupyter_run/python-advanced/linear_structure/list/yield.ipynb#ch0000004?line=3'>4</a>\u001b[0m \u001b[39mprint\u001b[39m(\u001b[39mnext\u001b[39m(it))\n\u001b[0;32m      <a href='vscode-notebook-cell:/d%3A/jupyter_run/python-advanced/linear_structure/list/yield.ipynb#ch0000004?line=4'>5</a>\u001b[0m \u001b[39mprint\u001b[39m(\u001b[39mnext\u001b[39m(it))\n\u001b[1;32m----> <a href='vscode-notebook-cell:/d%3A/jupyter_run/python-advanced/linear_structure/list/yield.ipynb#ch0000004?line=5'>6</a>\u001b[0m \u001b[39mprint\u001b[39m(\u001b[39mnext\u001b[39;49m(it))\n",
      "\u001b[1;31mStopIteration\u001b[0m: "
     ]
    }
   ],
   "source": [
    "a = ['a', 'b', 'c']\n",
    "it = a.__iter__()\n",
    "print(next(it))\n",
    "print(next(it))\n",
    "print(next(it))\n",
    "print(next(it))"
   ]
  },
  {
   "cell_type": "code",
   "execution_count": 4,
   "id": "c155d4df",
   "metadata": {},
   "outputs": [
    {
     "name": "stdout",
     "output_type": "stream",
     "text": [
      "1\n",
      "2\n",
      "3\n",
      "5\n",
      "8\n",
      "13\n",
      "21\n",
      "34\n",
      "55\n",
      "89\n"
     ]
    }
   ],
   "source": [
    "#为更好地理解迭代器的内部运行机制，我们再来看一个斐波那契数列的例子\n",
    "\n",
    "class Fib:\n",
    "    def __init__(self):\n",
    "        self.prev = 0\n",
    "        self.curr = 1\n",
    "\n",
    "    def __iter__(self):\n",
    "        return self\n",
    "\n",
    "    def __next__(self):\n",
    "        self.curr, self.prev = self.prev + self.curr, self.curr\n",
    "        return self.curr\n",
    "\n",
    "fib = Fib()\n",
    "for i in range(10):\n",
    "    print(next(fib))"
   ]
  },
  {
   "cell_type": "markdown",
   "id": "294437a1",
   "metadata": {},
   "source": [
    "只要不断地调用next() 方法，上面的生成器可以生成一个无限长的斐波那契数列。\n",
    "\n",
    "迭代器是一种Lasy Load的模式，只有在调用时才生成值，没有调用的时候就等待下一次调用。\n",
    "\n",
    "\n",
    "生成器和yield\n",
    "生成器其实是一种特殊的迭代器，但是不需要像迭代器一样实现__iter__和__next__方法，只需要使用关键字yield就可以。\n",
    "\n",
    "我们来实现一个同样的斐波那契数列，但这次使用的是生成器\n"
   ]
  },
  {
   "cell_type": "code",
   "execution_count": 5,
   "id": "18c02290",
   "metadata": {},
   "outputs": [
    {
     "name": "stdout",
     "output_type": "stream",
     "text": [
      "1\n",
      "1\n",
      "2\n",
      "3\n",
      "5\n",
      "8\n",
      "13\n",
      "21\n",
      "34\n",
      "55\n"
     ]
    }
   ],
   "source": [
    "def fib():\n",
    "    prev, curr = 0, 1\n",
    "    while True:\n",
    "        yield curr\n",
    "        curr, prev = prev + curr, curr\n",
    "\n",
    "f = fib()\n",
    "for i in range(10):\n",
    "    print(next(f))"
   ]
  },
  {
   "cell_type": "markdown",
   "id": "7ad2786f",
   "metadata": {},
   "source": [
    "上面的 fib 函数中没有 return 关键字。\n",
    "当运行 f = fib() 的时候，它返回的是一个生成器对象。\n",
    "在调用 fib() 的时候并不会运行 fib 函数中的代码，只有在调用 next() 的时候才会真正运行其中的代码。\n",
    "\n",
    "两种方式实现的generate_square函数，一个使用了yield关键字，一个使用了列表保存所有的值并返回列表，两者的区别在什么地方？\n",
    "\n",
    "对于前一种实现方式，使用了生成器，在调用函数的时候不会一次性生成所有的元素，而是在每次调用 next() 才生成一个元素；而后一种方式，在调用函数的时候就生成了所有元素，相比之下，更耗费内存和CPU。\n",
    "\n",
    "\n",
    "\n",
    "看到这里，大家是不是理解了yield关键字呢？\n",
    "\n",
    "那么给大家出一个思考题：下面的代码为什么第二次调用next打印None呢？\n",
    "\n"
   ]
  },
  {
   "cell_type": "code",
   "execution_count": 11,
   "id": "9b7117db",
   "metadata": {},
   "outputs": [
    {
     "name": "stdout",
     "output_type": "stream",
     "text": [
      "1\n",
      "None\n"
     ]
    }
   ],
   "source": [
    "def echo(n):\n",
    "    while True:\n",
    "        n = yield n\n",
    "\n",
    "g = echo(1)\n",
    "print(next(g))\n",
    "print(next(g))"
   ]
  },
  {
   "cell_type": "markdown",
   "id": "9980440f",
   "metadata": {},
   "source": [
    "yield的机制是暂停运行过程输出当前结果并保留状态，状态包括上次终止的位置和终止时的数值。\n",
    "下一次next()时从上一次终止的地方开始，因为yield之后没有任何语句所以打印结果是None\n",
    "\n",
    "\n",
    "首先，先把yield看做“return”，这个是直观的，它首先是个return。"
   ]
  },
  {
   "cell_type": "code",
   "execution_count": 13,
   "id": "894bd15b",
   "metadata": {},
   "outputs": [
    {
     "name": "stdout",
     "output_type": "stream",
     "text": [
      "starting...\n",
      "4\n",
      "********************\n",
      "res: None\n",
      "4\n"
     ]
    }
   ],
   "source": [
    "def foo():\n",
    "    print(\"starting...\")\n",
    "    while True:\n",
    "        res = yield 4\n",
    "        print(\"res:\",res)\n",
    "g = foo()\n",
    "print(next(g))\n",
    "print(\"*\"*20)\n",
    "print(next(g))\n",
    "# print(g.send(7))"
   ]
  },
  {
   "cell_type": "markdown",
   "metadata": {},
   "source": [
    "相当于代码单步调试：\n",
    "\n",
    "1.程序开始执行以后，因为foo函数中有yield关键字，所以foo函数并不会真的执行，而是先得到一个生成器g(相当于一个对象)\n",
    "\n",
    "2.直到调用next方法，foo函数正式开始执行，先执行foo函数中的print方法，然后进入while循环\n",
    "\n",
    "3.程序遇到yield关键字，然后把yield想想成return,return了一个4之后，程序停止，并没有执行赋值给res操作，此时next(g)语句执行完成，所以输出的前两行（第一个是while上面的print的结果,第二个是return出的结果）是执行print(next(g))的结果，\n",
    "\n",
    "4.程序执行print(\"*\"*20)，输出20个*\n",
    "\n",
    "5.又开始执行下面的print(next(g)),这个时候和上面那个差不多，不过不同的是，这个时候是从刚才那个next程序停止的地方开始执行的，也就是要执行res的赋值操作，这时候要注意，这个时候赋值操作的右边是没有值的（因为刚才那个是return出去了，并没有给赋值操作的左边传参数），所以这个时候res赋值是None,所以接着下面的输出就是res:None,\n",
    "\n",
    "6.程序会继续在while里执行，又一次碰到yield,这个时候同样return 出4，然后程序停止，print函数输出的4就是这次return出的4.\n",
    "\n",
    " \n",
    "带yield的函数是一个生成器，而不是一个函数了，这个生成器有一个函数就是next函数，next就相当于“下一步”生成哪个数，\n",
    "这一次的next开始的地方是接着上一次的next停止的地方执行的，所以调用next的时候，生成器并不会从foo函数的开始执行，只是接着上一步停止的地方开始，\n",
    "然后遇到yield后，return出要生成的数，此步就结束。"
   ]
  },
  {
   "cell_type": "code",
   "execution_count": 15,
   "id": "20c46fd8",
   "metadata": {},
   "outputs": [
    {
     "data": {
      "text/plain": [
       "True"
      ]
     },
     "execution_count": 15,
     "metadata": {},
     "output_type": "execute_result"
    }
   ],
   "source": [
    "8208 == 8**4 + 2**4 + 8**4"
   ]
  },
  {
   "cell_type": "code",
   "execution_count": 4,
   "id": "b74889b4",
   "metadata": {},
   "outputs": [
    {
     "data": {
      "text/plain": [
       "[1, 1, 2, 3, 5]"
      ]
     },
     "execution_count": 4,
     "metadata": {},
     "output_type": "execute_result"
    }
   ],
   "source": [
    "def fib(x):\n",
    "    a ,b= 1,1\n",
    "    for i in range(x):\n",
    "        yield a\n",
    "        a ,b = b,a+b\n",
    "        \n",
    "\n",
    "list(fib(5))"
   ]
  },
  {
   "cell_type": "code",
   "execution_count": 16,
   "id": "d77cb148",
   "metadata": {},
   "outputs": [
    {
     "data": {
      "text/plain": [
       "[1,\n",
       " 2,\n",
       " 3,\n",
       " 4,\n",
       " 5,\n",
       " 6,\n",
       " 7,\n",
       " 8,\n",
       " 9,\n",
       " 153,\n",
       " 370,\n",
       " 371,\n",
       " 407,\n",
       " 1634,\n",
       " 8208,\n",
       " 9474,\n",
       " 54748,\n",
       " 92727,\n",
       " 93084,\n",
       " 548834]"
      ]
     },
     "execution_count": 16,
     "metadata": {},
     "output_type": "execute_result"
    }
   ],
   "source": [
    "def shuixianhua(n):        \n",
    "    for i in range(1,n):\n",
    "        exp = 1\n",
    "        ls = []\n",
    "        while i // exp > 0 :\n",
    "            ls.append(i // exp % 10)\n",
    "            exp *= 10\n",
    "        p = len(ls)\n",
    "        if sum([item**p for item in ls])==i:\n",
    "            yield i\n",
    " \n",
    "list(shuixianhua(1000000))"
   ]
  },
  {
   "cell_type": "code",
   "execution_count": 10,
   "id": "42b862b4",
   "metadata": {},
   "outputs": [
    {
     "data": {
      "text/plain": [
       "[1, 1, 2, 3, 5, 8, 13, 21, 34, 55]"
      ]
     },
     "execution_count": 10,
     "metadata": {},
     "output_type": "execute_result"
    }
   ],
   "source": [
    "def fib(x):\n",
    "    a,b = 1,1\n",
    "    for i in range(x):\n",
    "        yield a # return a, 同时保存当前状态，中断！！！\n",
    "        a , b = b, a+b\n",
    "\n",
    "f = fib(10)\n",
    "list(f)\n",
    " \n"
   ]
  },
  {
   "cell_type": "code",
   "execution_count": null,
   "id": "37c51e6b",
   "metadata": {},
   "outputs": [],
   "source": []
  }
 ],
 "metadata": {
  "kernelspec": {
   "display_name": "Python 3.10.5 64-bit",
   "language": "python",
   "name": "python3"
  },
  "language_info": {
   "codemirror_mode": {
    "name": "ipython",
    "version": 3
   },
   "file_extension": ".py",
   "mimetype": "text/x-python",
   "name": "python",
   "nbconvert_exporter": "python",
   "pygments_lexer": "ipython3",
   "version": "3.10.5"
  },
  "vscode": {
   "interpreter": {
    "hash": "369f2c481f4da34e4445cda3fffd2e751bd1c4d706f27375911949ba6bb62e1c"
   }
  }
 },
 "nbformat": 4,
 "nbformat_minor": 5
}
