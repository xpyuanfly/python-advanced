{
 "cells": [
  {
   "cell_type": "code",
   "execution_count": null,
   "id": "7acda565-3254-4663-8abe-c88c5299ed98",
   "metadata": {},
   "outputs": [],
   "source": [
    "map是内置函数\n",
    "\n",
    "先看map()函数底层封装介绍\n",
    "map(func， *iterables)——> map对象\n",
    "\n",
    "创建一个迭代器，使用来自的参数计算函数每个迭代器。当最短的迭代器耗尽时停止。\n",
    "\n",
    "作用：\n",
    "\n",
    "map(func, lst) ，将传⼊的函数变量 func 作⽤到 lst 变量的每个元素中，并将结果组成新的列表 (Python2)/ 迭代器(Python3) 返回。\n",
    "\n",
    "注意：\n",
    "\n",
    "map()返回的是一个迭代器，直接打印map()的结果是返回的一个对象。\n"
   ]
  }
 ],
 "metadata": {
  "kernelspec": {
   "display_name": "Python 3 (ipykernel)",
   "language": "python",
   "name": "python3"
  },
  "language_info": {
   "codemirror_mode": {
    "name": "ipython",
    "version": 3
   },
   "file_extension": ".py",
   "mimetype": "text/x-python",
   "name": "python",
   "nbconvert_exporter": "python",
   "pygments_lexer": "ipython3",
   "version": "3.8.13"
  }
 },
 "nbformat": 4,
 "nbformat_minor": 5
}
