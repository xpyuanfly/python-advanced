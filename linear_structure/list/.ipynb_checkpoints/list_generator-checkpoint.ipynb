{
 "cells": [
  {
   "cell_type": "code",
   "execution_count": 9,
   "id": "ff4af0d3-1ea4-4708-bb9f-9d7021f89f92",
   "metadata": {},
   "outputs": [
    {
     "data": {
      "text/plain": [
       "[1, 4, 1, 16, 1, 36, 1, 64, 1, 100]"
      ]
     },
     "execution_count": 9,
     "metadata": {},
     "output_type": "execute_result"
    }
   ],
   "source": [
    "ls = []\n",
    "for i in range(1,11):\n",
    "    o = i*i\n",
    "    if o % 2 == 0:\n",
    "        ls.append(o)\n",
    "    else:\n",
    "        ls.append(1)\n",
    "ls"
   ]
  },
  {
   "cell_type": "code",
   "execution_count": 14,
   "id": "2ed5045b-6398-4862-bce1-ac71f6de190f",
   "metadata": {},
   "outputs": [
    {
     "data": {
      "text/plain": [
       "[1, 4, 1, 16, 1, 36, 1, 64, 1]"
      ]
     },
     "execution_count": 14,
     "metadata": {},
     "output_type": "execute_result"
    }
   ],
   "source": [
    "ls = [(item*item if item*item %2 ==0 else 1) for item in range(1,11) if item<10 ]\n",
    "\n",
    "# iterator = (item*item if item*item %2 ==0 else 1) for item in range(1,11) if item<10\n",
    "\n",
    "#列表生成式，可以写出非常简洁的代码 => 并没有性能上的优势，只是简洁\n",
    "# bool ? expression1 : expression2\n",
    "# if bool\n",
    "#     expression1\n",
    "# else\n",
    "#     expression2\n",
    "\n",
    "#  expression1 if bool else expression2\n",
    "# 1 if False else 0\n",
    "ls"
   ]
  },
  {
   "cell_type": "code",
   "execution_count": 11,
   "id": "8a5093f8-bbc5-4fab-8e35-a3a8f2eab50c",
   "metadata": {},
   "outputs": [
    {
     "data": {
      "text/plain": [
       "0"
      ]
     },
     "execution_count": 11,
     "metadata": {},
     "output_type": "execute_result"
    }
   ],
   "source": [
    "1 if False else 0"
   ]
  },
  {
   "cell_type": "code",
   "execution_count": 16,
   "id": "9109c510-099c-4d8a-a18f-74d96f385aee",
   "metadata": {},
   "outputs": [
    {
     "name": "stdout",
     "output_type": "stream",
     "text": [
      "range(1, 10)\n"
     ]
    }
   ],
   "source": [
    "print(range(1,10))"
   ]
  },
  {
   "cell_type": "code",
   "execution_count": null,
   "id": "81162b21-418a-4c0d-9e83-a63c262101c2",
   "metadata": {},
   "outputs": [],
   "source": []
  }
 ],
 "metadata": {
  "kernelspec": {
   "display_name": "Python 3 (ipykernel)",
   "language": "python",
   "name": "python3"
  },
  "language_info": {
   "codemirror_mode": {
    "name": "ipython",
    "version": 3
   },
   "file_extension": ".py",
   "mimetype": "text/x-python",
   "name": "python",
   "nbconvert_exporter": "python",
   "pygments_lexer": "ipython3",
   "version": "3.8.13"
  }
 },
 "nbformat": 4,
 "nbformat_minor": 5
}
