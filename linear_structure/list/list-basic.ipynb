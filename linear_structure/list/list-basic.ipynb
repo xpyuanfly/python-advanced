{
 "cells": [
  {
   "cell_type": "markdown",
   "id": "4cb2c7ac-e73e-4ad1-a690-a3d15173df9f",
   "metadata": {},
   "source": [
    "01. 静态初始化一个空列表list，使用循环向列表中添加 1--10之间的所有整数；\n",
    "02. 向01中创建的列表list中添加一个字符串“XuanGe”\n",
    "03. 删除下标索引为0的元素\n",
    "04. 将下标索引为1的元素改为66\n",
    "05. 输出列表中的第3个元素"
   ]
  },
  {
   "cell_type": "code",
   "execution_count": 24,
   "id": "e1e1f96d-cf00-48f2-a333-dc858a0ddaf9",
   "metadata": {},
   "outputs": [
    {
     "name": "stdout",
     "output_type": "stream",
     "text": [
      "5\n",
      "1\n"
     ]
    }
   ],
   "source": [
    "ls1 = []\n",
    "for i in range(1,10): #exclusive \n",
    "   list.append(ls1,i) #==  ls1.append(i)\n",
    "\n",
    "ls1.append('XuanGe')\n",
    "\n",
    "pop1 = ls1.pop(0)\n",
    "ls1[0] = 66\n",
    "print(ls1[3])\n",
    "print(pop1)"
   ]
  },
  {
   "cell_type": "markdown",
   "id": "9b52c7dc-7795-4f3e-bba9-28b6acffce32",
   "metadata": {},
   "source": [
    "list = [23, 34, 35, 31, 22, 33, 55, 43, 78, 34]\n",
    "\n",
    "01：查询出所有的偶数添加到列表list1中，并将list1排序\n",
    "\n",
    "02：将01中排序的list1通过extend添加list2=[[[3,21],2],[4],3],取出元素21"
   ]
  },
  {
   "cell_type": "code",
   "execution_count": 3,
   "id": "c9f910de-6322-4e6a-990f-817dd2a5989e",
   "metadata": {},
   "outputs": [
    {
     "name": "stdout",
     "output_type": "stream",
     "text": [
      "[22, 34, 34, 78]\n"
     ]
    }
   ],
   "source": [
    "list = [23, 34, 35, 31, 22, 33, 55, 43, 78, 34]\n",
    "ls1=[] #句柄 ref\n",
    "for i in list:\n",
    "    if i % 2 == 0 :\n",
    "        ls1.append(i)\n",
    "ls1.sort() \n",
    "sorted(ls1)\n",
    "print(ls1)     \n"
   ]
  },
  {
   "cell_type": "markdown",
   "id": "f8677895-b753-43d3-b897-eb31667c0b2a",
   "metadata": {},
   "source": [
    "01.给定一个字符串str=\"helloworld\",利用所学字符串的切片知识，反转字符串；\n",
    "02.给定一个字符串str=\"my name is baobao\"，将\"\" (空格)替换为\",\" ,并输出显示\n",
    "03.给定一个字符串str=\"HELLO WORLD HELLO PYTHON\"，将str中所有大写字符变为小写\n"
   ]
  }
 ],
 "metadata": {
  "kernelspec": {
   "display_name": "Python 3 (ipykernel)",
   "language": "python",
   "name": "python3"
  },
  "language_info": {
   "codemirror_mode": {
    "name": "ipython",
    "version": 3
   },
   "file_extension": ".py",
   "mimetype": "text/x-python",
   "name": "python",
   "nbconvert_exporter": "python",
   "pygments_lexer": "ipython3",
   "version": "3.10.5"
  },
  "vscode": {
   "interpreter": {
    "hash": "369f2c481f4da34e4445cda3fffd2e751bd1c4d706f27375911949ba6bb62e1c"
   }
  }
 },
 "nbformat": 4,
 "nbformat_minor": 5
}
