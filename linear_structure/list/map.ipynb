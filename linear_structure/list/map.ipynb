{
 "cells": [
  {
   "cell_type": "markdown",
   "id": "7acda565-3254-4663-8abe-c88c5299ed98",
   "metadata": {},
   "source": [
    "map是内置函数\n",
    "\n",
    "先看map()函数底层封装介绍\n",
    "map(func， *iterables)——> map对象\n",
    "\n",
    "创建一个迭代器，使用来自的参数计算函数每个迭代器。当最短的迭代器耗尽时停止。\n",
    "\n",
    "作用：\n",
    "\n",
    "map(func, lst) ，将传⼊的函数变量 func 作⽤到 lst 变量的每个元素中，并将结果组成新的列表 (Python2)/ 迭代器(Python3) 返回。\n",
    "\n",
    "注意：\n",
    "\n",
    "map()返回的是一个迭代器，直接打印map()的结果是返回的一个对象。\n"
   ]
  },
  {
   "cell_type": "code",
   "execution_count": null,
   "id": "64ffe768",
   "metadata": {},
   "outputs": [],
   "source": [
    "[ i*2 for i in range(1,100)] #惰性加载"
   ]
  },
  {
   "cell_type": "code",
   "execution_count": 12,
   "id": "6b9043de",
   "metadata": {},
   "outputs": [
    {
     "data": {
      "text/plain": [
       "2"
      ]
     },
     "execution_count": 12,
     "metadata": {},
     "output_type": "execute_result"
    }
   ],
   "source": [
    "ls = list(range(1,100))\n",
    "def pow2(x):\n",
    "    \n",
    "    return x*2\n",
    "mp = map(pow2,ls)\n",
    "next(mp)\n"
   ]
  },
  {
   "cell_type": "code",
   "execution_count": 17,
   "id": "e52de115",
   "metadata": {},
   "outputs": [
    {
     "data": {
      "text/plain": [
       "['Tom', 'Jerry', 'Andy']"
      ]
     },
     "execution_count": 17,
     "metadata": {},
     "output_type": "execute_result"
    }
   ],
   "source": [
    "#1、利用map()函数，把用户输入的不规范的英文名字，变为首字母大写，其他小写的规范名字。输入：[‘tom’,’jerry’,’andy’]，输出：[‘Tom’, ‘Jerry’, ‘Andy’]\n",
    "#2、列表[1,2,3,4,5],请使用map()函数输出[1,4,9,16,25]，并使用列表推导式提取出大于10的数，最终输出[16,25]\n",
    "\n",
    "list(map(lambda x: x.capitalize(), ['tom','jerry','andy']))"
   ]
  },
  {
   "cell_type": "code",
   "execution_count": 20,
   "id": "069343c2",
   "metadata": {},
   "outputs": [
    {
     "data": {
      "text/plain": [
       "[16, 25]"
      ]
     },
     "execution_count": 20,
     "metadata": {},
     "output_type": "execute_result"
    }
   ],
   "source": [
    "ls = list(map(lambda x:x**2,[1,2,3,4,5]))\n",
    "list(filter(lambda x : x>10,ls))"
   ]
  },
  {
   "cell_type": "code",
   "execution_count": 27,
   "id": "e838ed9b",
   "metadata": {},
   "outputs": [],
   "source": [
    "f = lambda x : x*5\n"
   ]
  },
  {
   "cell_type": "code",
   "execution_count": 38,
   "id": "a9b60263",
   "metadata": {},
   "outputs": [
    {
     "data": {
      "text/plain": [
       "3628800"
      ]
     },
     "execution_count": 38,
     "metadata": {},
     "output_type": "execute_result"
    }
   ],
   "source": [
    "#reduce\n",
    "from functools import reduce\n",
    "n=10\n",
    "reduce(lambda x,y : x*y ,range(1,n+1))"
   ]
  },
  {
   "cell_type": "code",
   "execution_count": 39,
   "id": "cdb4a99a",
   "metadata": {},
   "outputs": [
    {
     "data": {
      "text/plain": [
       "3628800"
      ]
     },
     "execution_count": 39,
     "metadata": {},
     "output_type": "execute_result"
    }
   ],
   "source": [
    "#n！怎么做\n",
    "def fact(n):\n",
    "    if n ==1 :\n",
    "        return 1\n",
    "    return n*fact(n-1)\n",
    "fact(10)"
   ]
  },
  {
   "cell_type": "code",
   "execution_count": 40,
   "id": "603d59fd",
   "metadata": {},
   "outputs": [
    {
     "data": {
      "text/plain": [
       "['Credit', 'Zoo', 'about', 'bob']"
      ]
     },
     "execution_count": 40,
     "metadata": {},
     "output_type": "execute_result"
    }
   ],
   "source": [
    "sorted(['bob', 'about', 'Zoo', 'Credit'])"
   ]
  },
  {
   "cell_type": "code",
   "execution_count": 42,
   "id": "c44dc09c",
   "metadata": {},
   "outputs": [
    {
     "data": {
      "text/plain": [
       "['about', 'bob', 'Credit', 'Zoo']"
      ]
     },
     "execution_count": 42,
     "metadata": {},
     "output_type": "execute_result"
    }
   ],
   "source": [
    "sorted(['bob', 'about', 'Zoo', 'Credit'],key= lambda x: str.lower(x))\n",
    "#['bob', 'about', 'Zoo', 'Credit']\n",
    "# key = lambda x: str.lower(x) ['bob', 'about', 'zoo', 'credit'] "
   ]
  },
  {
   "cell_type": "code",
   "execution_count": null,
   "id": "ecba47be",
   "metadata": {},
   "outputs": [],
   "source": []
  },
  {
   "cell_type": "markdown",
   "id": "7875d033",
   "metadata": {},
   "source": []
  }
 ],
 "metadata": {
  "kernelspec": {
   "display_name": "Python 3 (ipykernel)",
   "language": "python",
   "name": "python3"
  },
  "language_info": {
   "codemirror_mode": {
    "name": "ipython",
    "version": 3
   },
   "file_extension": ".py",
   "mimetype": "text/x-python",
   "name": "python",
   "nbconvert_exporter": "python",
   "pygments_lexer": "ipython3",
   "version": "3.10.5"
  },
  "vscode": {
   "interpreter": {
    "hash": "369f2c481f4da34e4445cda3fffd2e751bd1c4d706f27375911949ba6bb62e1c"
   }
  }
 },
 "nbformat": 4,
 "nbformat_minor": 5
}
