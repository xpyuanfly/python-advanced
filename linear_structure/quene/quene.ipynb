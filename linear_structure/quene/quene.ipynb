{
 "cells": [
  {
   "cell_type": "code",
   "execution_count": null,
   "id": "47804229-8ac8-4a45-97c5-d05f9523bfd0",
   "metadata": {},
   "outputs": [],
   "source": [
    "队列抽象数据类型；\n",
    "\n",
    "Python 中 List 的操作方法。\n",
    "\n",
    "队列抽象数据类型\n",
    "抽象数据类型 Queue 是一个有次序的数据集合，在队列中，新数据项的添加总发生在一端（通常称为“尾端”），而现存数据项的移除总发生在另一端（通常称为“首端”）。\n",
    "\n",
    "当数据项加入队列， 首先出现在队尾， 随着队首数据项的移除， 它逐渐接近队首。这种次序安排的原则称为“先进先出”（ FIFO：First-in first-out ）。\n",
    "\n",
    "抽象数据类型 Queue 由如下操作定义：\n",
    "\n",
    "Queue()：创建一个空队列对象，无需参数，返回空的队列；\n",
    "\n",
    "enqueue(item)：将数据项添加到队尾，无返回值；\n",
    "\n",
    "dequeue()：从队首移除数据项，无需参数，返回值为队首数据项；\n",
    "\n",
    "is_empty()：测试是否为空队列，无需参数，返回值为布尔值；\n",
    "\n",
    "size()：返回队列中的数据项的个数，无需参数。\n",
    "\n"
   ]
  },
  {
   "cell_type": "code",
   "execution_count": null,
   "id": "5a69ba71-2fa3-4167-a5b7-84225a70e232",
   "metadata": {},
   "outputs": [],
   "source": [
    "# -*- coding: utf-8 -*-  \n",
    "class Queue():  \n",
    "    # 创建空列表实现队列  \n",
    "    def __init__(self):   \n",
    "        self.__list = []     \n",
    "    # 判断是否为空  \n",
    "    def is_empty(self):   \n",
    "        # ********** Begin ********** #  \n",
    "        return self.__list == []  \n",
    "        # ********** End ********** #   \n",
    "    # 从队尾插入  \n",
    "    def enqueue(self,item):  \n",
    "        # ********** Begin ********** #  \n",
    "        self.__list.insert(0, item)  \n",
    "        # ********** End ********** #   \n",
    "    # 从队首弹出  \n",
    "    def dequeue(self):   \n",
    "        # ********** Begin ********** #  \n",
    "        if self.is_empty():  \n",
    "            return   \n",
    "        else:  \n",
    "            return self.__list.pop()   \n",
    "        # ********** End ********** #   \n",
    "    # 队列的长度  \n",
    "    def size(self):  \n",
    "        # ********** Begin ********** #  \n",
    "        return len(self.__list)  \n",
    "        # ********** End ********** #   \n",
    "if __name__ == \"__main__\":  \n",
    "    queue = Queue()   \n",
    "    nums = input().split()  \n",
    "    # 将nums中的元素依次送入队列  \n",
    "    for num in nums:  \n",
    "        queue.enqueue(num)  \n",
    "    print(queue.size())  \n",
    "    # 将队列中的元素依次弹出  \n",
    "    while not queue.is_empty():  \n",
    "        print(queue.dequeue(), end = ' ')  "
   ]
  }
 ],
 "metadata": {
  "kernelspec": {
   "display_name": "Python 3 (ipykernel)",
   "language": "python",
   "name": "python3"
  },
  "language_info": {
   "codemirror_mode": {
    "name": "ipython",
    "version": 3
   },
   "file_extension": ".py",
   "mimetype": "text/x-python",
   "name": "python",
   "nbconvert_exporter": "python",
   "pygments_lexer": "ipython3",
   "version": "3.8.13"
  }
 },
 "nbformat": 4,
 "nbformat_minor": 5
}
