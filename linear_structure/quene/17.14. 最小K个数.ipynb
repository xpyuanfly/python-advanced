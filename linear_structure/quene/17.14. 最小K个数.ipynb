{
 "cells": [
  {
   "cell_type": "markdown",
   "metadata": {},
   "source": [
    "设计一个算法，找出数组中最小的k个数。以任意顺序返回这k个数均可。\n",
    "\n",
    "示例：\n",
    "\n",
    "输入： arr = [1,3,5,7,2,4,6,8], k = 4\n",
    "输出： [1,2,3,4]\n",
    "\n",
    "来源：力扣（LeetCode）\n",
    "链接：https://leetcode.cn/problems/smallest-k-lcci"
   ]
  },
  {
   "cell_type": "code",
   "execution_count": 21,
   "metadata": {},
   "outputs": [
    {
     "name": "stdout",
     "output_type": "stream",
     "text": [
      "[1, 10, 5]\n",
      "[1, 5]\n",
      "[10, 5]\n",
      "1\n",
      "5\n",
      "10\n"
     ]
    }
   ],
   "source": [
    "# 默认小根堆，对所有值取相反数再push进去就可以实现大根堆\n",
    "import heapq as hp\n",
    "ls=[]\n",
    "hp.heappush(ls,5)\n",
    "hp.heappush(ls,10)\n",
    "hp.heappush(ls,1)\n",
    "print(ls)\n",
    "print(hp.nsmallest(2,ls))\n",
    "print(hp.nlargest(2,ls))\n",
    "print(hp.heappop(ls)) #1\n",
    "print(hp.heappop(ls)) #5\n",
    "print(hp.heappop(ls)) #10\n",
    "\n"
   ]
  },
  {
   "cell_type": "code",
   "execution_count": 12,
   "metadata": {},
   "outputs": [],
   "source": [
    "class Maxheap(object):\n",
    "    def __init__(self, maxsize):\n",
    "        self.maxsize = maxsize #堆的大小\n",
    "        self._elements = [0] * maxsize #初始化堆\n",
    "        self._count = 0  #索引\n",
    " \n",
    "    def add(self, value):\n",
    "        if self._count >= self.maxsize:\n",
    "            raise Exception('full')\n",
    "        self._elements[self._count] = value #放到末尾\n",
    "        self._count += 1 #索引加一，这是当前的下一个索引\n",
    "        self._siftup(self._count - 1) #siftup将当前索引值维护到堆的位置\n",
    " \n",
    "    def extract(self):\n",
    "        if self._count <= 0:\n",
    "            raise Exception('empty')\n",
    "        value = self._elements[0] #记录堆顶值\n",
    "        self._count-=1 \n",
    "        self._elements[0] = self._elements[self._count] #末尾移到堆顶\n",
    "        self._siftdown(0)  #从上到下维护堆\n",
    "        return value\n",
    " \n",
    "    def _siftup(self, index):\n",
    "        if index > 0:\n",
    "            parent = (index - 1) // 2 #当前索引的父索引\n",
    "            if self._elements[index] > self._elements[parent]: #当前值大于父，需要替换\n",
    "                self._elements[index], self._elements[parent] = self._elements[parent], self._elements[index]\n",
    "                self._siftup(parent) #加入的值换到了父索引位置，继续向上看是不是比上一层的父更大\n",
    " \n",
    "    def _siftdown(self, index):\n",
    "        left = index * 2 + 1  #左子树索引\n",
    "        right = index * 2 + 2  #右子树索引\n",
    "        new_index = index  #用一个新索引，后面观察需不需要换\n",
    "        if right < self._count:  #有左右子树的情况\n",
    "            if self._elements[left] <= self._elements[index] and self._elements[right] <= self._elements[index]:  #当前比左右都大，不用操作\n",
    "                pass\n",
    "            else:\n",
    "                if self._elements[left] >= self._elements[right]:\n",
    "                    new_index = left #左边更大，且左边大于当前，准备用左边跟当前索引换\n",
    "                else:\n",
    "                    new_index = right\n",
    "        elif left < self._count: #只有左子树\n",
    "            if self._elements[left] >= self._elements[index]:\n",
    "                new_index = left\n",
    "        if new_index != index:  #需要换\n",
    "            self._elements[new_index], self._elements[index] = self._elements[index], self._elements[new_index]\n",
    "            self._siftdown(new_index)\n",
    "\n",
    "\n"
   ]
  },
  {
   "cell_type": "code",
   "execution_count": 17,
   "metadata": {},
   "outputs": [
    {
     "name": "stdout",
     "output_type": "stream",
     "text": [
      "[0, 0, 0, 1, 0, 3, 0, 1, 4, 0]\n"
     ]
    }
   ],
   "source": [
    "#测试代码\n",
    "import random\n",
    "seq = list(range(10))\n",
    "random.shuffle(seq)\n",
    "heap = Maxheap(len(seq))\n",
    "for i in seq:\n",
    "    heap.add(i)\n",
    " \n",
    "res = []\n",
    "for i in range(10):\n",
    "    res.append(heap.extract())\n",
    "    \n",
    "print(heap._elements)"
   ]
  }
 ],
 "metadata": {
  "kernelspec": {
   "display_name": "Python 3.9.12 ('base')",
   "language": "python",
   "name": "python3"
  },
  "language_info": {
   "codemirror_mode": {
    "name": "ipython",
    "version": 3
   },
   "file_extension": ".py",
   "mimetype": "text/x-python",
   "name": "python",
   "nbconvert_exporter": "python",
   "pygments_lexer": "ipython3",
   "version": "3.9.12"
  },
  "orig_nbformat": 4,
  "vscode": {
   "interpreter": {
    "hash": "a4dded33d7e5587329f3b5bd298582320440e731ec97d683ac8324bdf803f54d"
   }
  }
 },
 "nbformat": 4,
 "nbformat_minor": 2
}
