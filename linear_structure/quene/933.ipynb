{
 "cells": [
  {
   "cell_type": "markdown",
   "metadata": {},
   "source": [
    "写一个 RecentCounter 类来计算特定时间范围内最近的请求。\n",
    "\n",
    "请你实现 RecentCounter 类：\n",
    "\n",
    "RecentCounter() 初始化计数器，请求数为 0 。\n",
    "int ping(int t) 在时间 t 添加一个新请求，其中 t 表示以毫秒为单位的某个时间，并返回过去 3000 毫秒内发生的所有请求数（包括新请求）。确切地说，返回在 [t-3000, t] 内发生的请求数。\n",
    "保证 每次对 ping 的调用都使用比之前更大的 t 值。\n",
    "\n",
    "示例 1：\n",
    "\n",
    "输入：\n",
    "[\"RecentCounter\", \"ping\", \"ping\", \"ping\", \"ping\"]\n",
    "[[], [1], [100], [3001], [3002]]\n",
    "输出：\n",
    "[null, 1, 2, 3, 3]\n",
    "\n",
    "解释：\n",
    "RecentCounter recentCounter = new RecentCounter();\n",
    "recentCounter.ping(1);     // requests = [1]，范围是 [-2999,1]，返回 1\n",
    "recentCounter.ping(100);   // requests = [1, 100]，范围是 [-2900,100]，返回 2\n",
    "recentCounter.ping(3001);  // requests = [1, 100, 3001]，范围是 [1,3001]，返回 3\n",
    "recentCounter.ping(3002);  // requests = [1, 100, 3001, 3002]，范围是 [2,3002]，返回 3\n",
    "\n",
    "来源：力扣（LeetCode）\n",
    "链接：https://leetcode.cn/problems/number-of-recent-calls"
   ]
  },
  {
   "cell_type": "code",
   "execution_count": null,
   "metadata": {},
   "outputs": [],
   "source": [
    "class RecentCounter(object):\n",
    "\n",
    "    def __init__(self):\n",
    "        self.queue = []\n",
    "\n",
    "    def ping(self, t):\n",
    "        \"\"\"\n",
    "        :type t: int\n",
    "        :rtype: int\n",
    "        \"\"\"\n",
    "        self.queue.append(t)\n",
    "        while self.queue and self.queue[0] < t - 3000:\n",
    "            self.queue.pop(0)\n",
    "        return len(self.queue)"
   ]
  }
 ],
 "metadata": {
  "kernelspec": {
   "display_name": "Python 3.10.5 64-bit",
   "language": "python",
   "name": "python3"
  },
  "language_info": {
   "name": "python",
   "version": "3.10.5"
  },
  "orig_nbformat": 4,
  "vscode": {
   "interpreter": {
    "hash": "369f2c481f4da34e4445cda3fffd2e751bd1c4d706f27375911949ba6bb62e1c"
   }
  }
 },
 "nbformat": 4,
 "nbformat_minor": 2
}
