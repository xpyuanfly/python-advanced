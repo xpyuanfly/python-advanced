{
 "cells": [
  {
   "cell_type": "code",
   "execution_count": null,
   "id": "a66aeb5a-2443-4e4f-8dab-dcf80d951bd1",
   "metadata": {},
   "outputs": [],
   "source": [
    "约瑟夫环问题\n",
    "约瑟夫问题是个著名的问题：n 个人围成一圈 (3<=n<=100)（从零开始编号），从第一个人开始报数，第 m 个将被杀掉 (1<=m<=n)，最后剩下一个，其余人都将被杀掉 。例如n = 6，m = 5，被杀掉的顺序为：4, 3, 5, 1, 2, 0。\n",
    "\n",
    "编程要求\n",
    "根据提示，在右侧编辑器 Begin - End 之间补充代码，完成 JosephusSolver 函数，求解被杀掉人的顺序。\n",
    "\n",
    "提示：\n",
    "\n",
    "S1：将编号0,…,n−1循环压入队列；\n",
    "\n",
    "S2：设置一个计数器，保存当前次数；\n",
    "\n",
    "S3：当队列的长度大于1时，一直进行循环操作 S4；\n",
    "\n",
    "S4：从队首取一个人出队，如果这个人报数正好是 m 那么就被杀掉，然后下一个人继续从1开始报数。如果不是 m 的话在重新入队，计数器继续 +1。"
   ]
  },
  {
   "cell_type": "code",
   "execution_count": null,
   "id": "9e939d78-b5d1-4447-b852-4c2dbbc2c403",
   "metadata": {},
   "outputs": [],
   "source": [
    "# -*- coding: utf-8 -*-\n",
    "class Queue():  \n",
    "    # 创建空列表实现队列  \n",
    "    def __init__(self):   \n",
    "        self.__list = []     \n",
    "    # 判断是否为空  \n",
    "    def is_empty(self):   \n",
    "        return self.__list == []  \n",
    "    # 从队尾插入  \n",
    "    def enqueue(self,item):   \n",
    "        self.__list.insert(0, item)  \n",
    "    # 从队首弹出  \n",
    "    def dequeue(self):  \n",
    "        if self.is_empty():  \n",
    "            return   \n",
    "        else:  \n",
    "            return self.__list.pop()   \n",
    "    # 队列长度  \n",
    "    def size(self):   \n",
    "        return len(self.__list)  \n",
    "def JosephusSolver(n, m):  \n",
    "    queue = Queue()  \n",
    "    result = []  \n",
    "    # ********** Begin ********** #  \n",
    "    t = 1 # 计数  \n",
    "    # 依次压入队中  \n",
    "    for i in range(n):   \n",
    "        queue.enqueue(i)  \n",
    "    # 当队列数大于1时，进行循环  \n",
    "    while queue.size() > 1:  \n",
    "        # 当计数满m次时，重置计数器t，弹出队首元素，并保存到result中  \n",
    "        if t == m:   \n",
    "            x = queue.dequeue() # 弹出x  \n",
    "            result.append(x)  \n",
    "            t = 1  \n",
    "        # 否则，将队首元素重新放到队尾，增加计数次数  \n",
    "        else:   \n",
    "            x = queue.dequeue()  \n",
    "            queue.enqueue(x)  \n",
    "            t += 1  \n",
    "    # 完成循环后，弹出队列的余下的唯一元素  \n",
    "    x = queue.dequeue() # 弹出x  \n",
    "    result.append(x)  \n",
    "    # ********** End ********** #  \n",
    "    return result  \n",
    "if __name__ == \"__main__\":      \n",
    "    n = int(input())  \n",
    "    m = int(input())  \n",
    "    print(JosephusSolver(n,m))  "
   ]
  }
 ],
 "metadata": {
  "kernelspec": {
   "display_name": "Python 3 (ipykernel)",
   "language": "python",
   "name": "python3"
  },
  "language_info": {
   "codemirror_mode": {
    "name": "ipython",
    "version": 3
   },
   "file_extension": ".py",
   "mimetype": "text/x-python",
   "name": "python",
   "nbconvert_exporter": "python",
   "pygments_lexer": "ipython3",
   "version": "3.8.13"
  }
 },
 "nbformat": 4,
 "nbformat_minor": 5
}
