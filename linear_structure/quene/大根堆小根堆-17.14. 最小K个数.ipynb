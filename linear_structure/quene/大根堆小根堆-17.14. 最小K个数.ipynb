{
 "cells": [
  {
   "cell_type": "markdown",
   "metadata": {},
   "source": [
    "设计一个算法，找出数组中最小的k个数。以任意顺序返回这k个数均可。\n",
    "\n",
    "示例：\n",
    "\n",
    "输入： arr = [1,3,5,7,2,4,6,8], k = 4\n",
    "输出： [1,2,3,4]\n",
    "\n",
    "来源：力扣（LeetCode）\n",
    "链接：https://leetcode.cn/problems/smallest-k-lcci"
   ]
  },
  {
   "cell_type": "code",
   "execution_count": 10,
   "metadata": {},
   "outputs": [
    {
     "name": "stdout",
     "output_type": "stream",
     "text": [
      "[1, 2, 3, 4]\n"
     ]
    }
   ],
   "source": [
    "#     5\n",
    "#  3     2\n",
    "#1   0  1  0\n",
    "# 5 3 2 1 0 1 0\n",
    "# i leftchild = 2i+1 rightchild 2i+2\n",
    "# i parent (i-1)//2 \n",
    "# 逻辑结构是tree，物理结构是list\n",
    "\n",
    "# 何昌源code：\n",
    "def heapify(arr,n,i):\n",
    "    largest=i\n",
    "    l=2*i+1\n",
    "    r=2*i+2\n",
    "    if l<n and arr[i]>arr[l]:\n",
    "        largest=l\n",
    "    if r<n and arr[largest]>arr[r]:\n",
    "        largest=r\n",
    "    if largest!=i:\n",
    "        arr[i],arr[largest]=arr[largest],arr[i]        \n",
    "        heapify(arr,n,largest)\n",
    "        \n",
    "def heapSort(arr,k):\n",
    "    count=0\n",
    "    n=len(arr)\n",
    "    #构建一个大顶堆\n",
    "    for i in range(n//2+2,-1,-1):\n",
    "        heapify(arr,n,i)\n",
    "    #一个一个交换元素\n",
    "    for i in range(n-1,0,-1):\n",
    "        if count==k:\n",
    "            break\n",
    "        arr[i],arr[0]=arr[0],arr[i]\n",
    "        heapify(arr,i,0)\n",
    "        count+=1\n",
    "arr=[8,3,5,7,2,4,6,1]\n",
    "k=4\n",
    "heapSort(arr,k)\n",
    "print(arr[-k:])"
   ]
  },
  {
   "cell_type": "code",
   "execution_count": 17,
   "metadata": {},
   "outputs": [
    {
     "name": "stdout",
     "output_type": "stream",
     "text": [
      "[1, 4, 2, 10, 5, 6, 3]\n",
      "[1, 2, 3, 4]\n"
     ]
    }
   ],
   "source": [
    "# 默认小根堆，对所有值取相反数再push进去就可以实现大根堆\n",
    "import heapq as hp\n",
    "#    1\n",
    "#  4   2\n",
    "#10 5 6 3 \n",
    "\n",
    "#    -10\n",
    "# -5    -6\n",
    "#-4 -2 -1 -3\n",
    "ls=[]\n",
    "hp.heappush(ls,5)\n",
    "hp.heappush(ls,10)\n",
    "hp.heappush(ls,6)\n",
    "hp.heappush(ls,1)\n",
    "hp.heappush(ls,4)\n",
    "hp.heappush(ls,3)\n",
    "hp.heappush(ls,2)\n",
    "print(ls)\n",
    "print(hp.nsmallest(4,ls))\n",
    "# print(hp.nlargest(2,ls))\n",
    "# print(hp.heappop(ls))\n",
    "# print(hp.heappop(ls)) \n",
    "# print(hp.heappop(ls)) \n",
    "\n"
   ]
  },
  {
   "cell_type": "code",
   "execution_count": 16,
   "metadata": {},
   "outputs": [
    {
     "name": "stdout",
     "output_type": "stream",
     "text": [
      "2\n",
      "[3, 4, 6, 10, 5]\n"
     ]
    }
   ],
   "source": [
    "print(hp.heappop(ls)) \n",
    "print(ls)\n",
    "#       2\n",
    "#    4      3 \n",
    "# 10  5  6\n"
   ]
  },
  {
   "cell_type": "code",
   "execution_count": null,
   "metadata": {},
   "outputs": [],
   "source": [
    "arr=[8,3,5,7,2,4,6,1]\n",
    "k = 4\n",
    "res = hp.nsmallest(4,arr)\n",
    "res"
   ]
  },
  {
   "cell_type": "code",
   "execution_count": 31,
   "metadata": {},
   "outputs": [],
   "source": [
    "#大根堆自定义法：\n",
    "\n",
    "class Maxheap(object):\n",
    "    def __init__(self, maxsize):\n",
    "        self.maxsize = maxsize #堆的大小\n",
    "        self._elements = [0] * maxsize #初始化堆\n",
    "        self._count = 0  #索引\n",
    " \n",
    "    def push(self, value):\n",
    "        if self._count >= self.maxsize:\n",
    "            raise Exception('full')\n",
    "        self._elements[self._count] = value #放到末尾\n",
    "        self._count += 1 #索引加一，这是当前的下一个索引\n",
    "        self._siftup(self._count - 1) #siftup将当前索引值维护到堆的位置\n",
    " \n",
    "    def pop(self):\n",
    "        if self._count <= 0:\n",
    "            raise Exception('empty')\n",
    "        value = self._elements.pop(0) #记录堆顶值\n",
    "        self._count-=1 \n",
    "        # self._elements[0] = self._elements[self._count] #末尾移到堆顶\n",
    "        self._siftdown(0)  #从上到下维护堆\n",
    "        return value\n",
    " \n",
    "    def _siftup(self, index):\n",
    "        if index > 0:\n",
    "            parent = (index - 1) // 2 #当前索引的父索引\n",
    "            if self._elements[index] > self._elements[parent]: #当前值大于父，需要替换\n",
    "                self._elements[index], self._elements[parent] = self._elements[parent], self._elements[index]\n",
    "                self._siftup(parent) #加入的值换到了父索引位置，继续向上看是不是比上一层的父更大\n",
    " \n",
    "    def _siftdown(self, index):\n",
    "        left = index * 2 + 1  #左子树索引\n",
    "        right = index * 2 + 2  #右子树索引\n",
    "        new_index = index  #用一个新索引，后面观察需不需要换\n",
    "        if right < self._count:  #有左右子树的情况\n",
    "            if self._elements[left] <= self._elements[index] and self._elements[right] <= self._elements[index]:  #当前比左右都大，不用操作\n",
    "                pass\n",
    "            else:\n",
    "                if self._elements[left] >= self._elements[right]:\n",
    "                    new_index = left #左边更大，且左边大于当前，准备用左边跟当前索引换\n",
    "                else:\n",
    "                    new_index = right\n",
    "        elif left < self._count: #只有左子树\n",
    "            if self._elements[left] >= self._elements[index]:\n",
    "                new_index = left\n",
    "        if new_index != index:  #需要换\n",
    "            self._elements[new_index], self._elements[index] = self._elements[index], self._elements[new_index]\n",
    "            self._siftdown(new_index)\n",
    "\n",
    "\n"
   ]
  },
  {
   "cell_type": "code",
   "execution_count": 34,
   "metadata": {},
   "outputs": [
    {
     "name": "stdout",
     "output_type": "stream",
     "text": [
      "[9, 8, 6, 7, 2, 5, 4, 0, 3, 1]\n",
      "[8, 6, 7, 2, 5, 4, 0, 3, 1]\n",
      "[7, 6, 2, 5, 4, 0, 3, 1]\n",
      "[6, 2, 5, 4, 0, 3, 1]\n",
      "[5, 3, 4, 0, 2, 1]\n",
      "[4, 3, 0, 2, 1]\n",
      "[3, 0, 2, 1]\n",
      "[2, 0, 1]\n",
      "[1, 0]\n",
      "[0]\n",
      "[]\n",
      "[9, 8, 7, 6, 5, 4, 3, 2, 1, 0]\n"
     ]
    }
   ],
   "source": [
    "#测试自定义大根堆代码\n",
    "import random\n",
    "seq = list(range(10))\n",
    "random.shuffle(seq)\n",
    "heap = Maxheap(len(seq))\n",
    "for i in seq:\n",
    "    heap.push(i)\n",
    "print(heap._elements)\n",
    "\n",
    "res = []\n",
    "for i in range(10):\n",
    "    res.append(heap.pop())\n",
    "    print(heap._elements)\n",
    "    \n",
    "# print(heap._elements)\n",
    "print(res)"
   ]
  }
 ],
 "metadata": {
  "kernelspec": {
   "display_name": "Python 3.9.12 ('base')",
   "language": "python",
   "name": "python3"
  },
  "language_info": {
   "codemirror_mode": {
    "name": "ipython",
    "version": 3
   },
   "file_extension": ".py",
   "mimetype": "text/x-python",
   "name": "python",
   "nbconvert_exporter": "python",
   "pygments_lexer": "ipython3",
   "version": "3.9.12"
  },
  "orig_nbformat": 4,
  "vscode": {
   "interpreter": {
    "hash": "a4dded33d7e5587329f3b5bd298582320440e731ec97d683ac8324bdf803f54d"
   }
  }
 },
 "nbformat": 4,
 "nbformat_minor": 2
}
