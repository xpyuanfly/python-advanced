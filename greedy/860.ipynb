{
 "cells": [
  {
   "cell_type": "markdown",
   "metadata": {},
   "source": [
    "在柠檬水摊上，每一杯柠檬水的售价为 5 美元。\n",
    "顾客排队购买你的产品，（按账单 bills 支付的顺序）一次购买一杯。\n",
    "每位顾客只买一杯柠檬水，然后向你付 5 美元、10 美元或 20 美元。你必须给每个顾客正确找零，也就是说净交易是每位顾客向你支付 5 美元。\n",
    "注意，一开始你手头没有任何零钱。\n",
    "如果你能给每位顾客正确找零，返回 true ，否则返回 false"
   ]
  },
  {
   "cell_type": "code",
   "execution_count": 7,
   "metadata": {},
   "outputs": [
    {
     "name": "stdout",
     "output_type": "stream",
     "text": [
      "True\n"
     ]
    }
   ],
   "source": [
    "\n",
    "def lemonadeChange(bills):\n",
    "    five = 0\n",
    "    ten = 0\n",
    "    for bill in bills:\n",
    "        if bill == 5:\n",
    "            five += 1\n",
    "        elif bill == 10:\n",
    "            if five == 0:\n",
    "                return False\n",
    "            five -= 1\n",
    "            ten += 1\n",
    "        elif bill == 20:\n",
    "            if five > 0 and ten > 0:\n",
    "                five -= 1\n",
    "                ten -= 1\n",
    "            elif five >= 3:\n",
    "                five -= 3\n",
    "            else:\n",
    "                return False\n",
    "    return True\n",
    "\n",
    "print(lemonadeChange([5, 5, 5, 10, 20, 10 ]))\n"
   ]
  }
 ],
 "metadata": {
  "kernelspec": {
   "display_name": "Python 3.8.13 ('base')",
   "language": "python",
   "name": "python3"
  },
  "language_info": {
   "name": "python",
   "version": "3.8.13"
  },
  "orig_nbformat": 4,
  "vscode": {
   "interpreter": {
    "hash": "ca091608d44dc08bfc212ab9efe45736a1dc0fc5d2c0d0a9cccce5866f8fffa4"
   }
  }
 },
 "nbformat": 4,
 "nbformat_minor": 2
}
