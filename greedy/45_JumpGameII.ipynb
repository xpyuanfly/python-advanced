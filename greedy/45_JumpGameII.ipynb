{
 "cells": [
  {
   "cell_type": "markdown",
   "metadata": {},
   "source": [
    "给你一个非负整数数组 nums ，你最初位于数组的第一个位置。\n",
    "\n",
    "数组中的每个元素代表你在该位置可以跳跃的最大长度。\n",
    "\n",
    "你的目标是使用最少的跳跃次数到达数组的最后一个位置。\n",
    "\n",
    "假设你总是可以到达数组的最后一个位置。\n",
    "\n",
    " \n",
    "\n",
    "示例 1:\n",
    "\n",
    "输入: nums = [2,3,1,1,4]\n",
    "输出: 2\n",
    "解释: 跳到最后一个位置的最小跳跃数是 2。\n",
    "     从下标为 0 跳到下标为 1 的位置，跳 1 步，然后跳 3 步到达数组的最后一个位置。\n",
    "示例 2:\n",
    "\n",
    "输入: nums = [2,3,0,1,4]\n",
    "输出: 2\n",
    " \n",
    "\n",
    "来源：力扣（LeetCode）\n",
    "链接：https://leetcode.cn/problems/jump-game-ii"
   ]
  },
  {
   "cell_type": "code",
   "execution_count": 2,
   "metadata": {},
   "outputs": [
    {
     "data": {
      "text/plain": [
       "2"
      ]
     },
     "execution_count": 2,
     "metadata": {},
     "output_type": "execute_result"
    }
   ],
   "source": [
    "class Solution(object):\n",
    "    def jump(self, nums):\n",
    "        \"\"\" When you can reach position i, find the next longest distance you can reach.\n",
    "\n",
    "        Once we can reach position i, we can find the next longest distance by iterate all\n",
    "        the position before position i.\n",
    "\n",
    "        Of course, you can think it as a BFS problem.\n",
    "        Where nodes in level i are all the nodes that can be reached in i-1th jump.\n",
    "        For more explnation, goto:\n",
    "        https://discuss.leetcode.com/topic/3191/o-n-bfs-solution\n",
    "        \"\"\"\n",
    "        if len(nums) == 1:\n",
    "            return 0\n",
    "\n",
    "        last = nums[0]\n",
    "        step = 1\n",
    "        index = 1\n",
    "        while last < len(nums) - 1:\n",
    "            max_distance = 0\n",
    "            while index <= last:\n",
    "                if nums[index] + index > max_distance:\n",
    "                    max_distance = nums[index] + index\n",
    "                index += 1\n",
    "\n",
    "            last = max_distance\n",
    "            step += 1\n",
    "\n",
    "        return step\n",
    "\n",
    "\"\"\"\n",
    "[0]\n",
    "[2,5,0,3]\n",
    "[2,3,1,1,4]\n",
    "[3,1,8,1,1,1,1,1,5]\n",
    "\"\"\"\n",
    "\n",
    "\n",
    "Solution().jump([3,1,8,1,1,1,1,1,5])"
   ]
  },
  {
   "cell_type": "markdown",
   "metadata": {},
   "source": []
  }
 ],
 "metadata": {
  "kernelspec": {
   "display_name": "Python 3.8.13 ('base')",
   "language": "python",
   "name": "python3"
  },
  "language_info": {
   "codemirror_mode": {
    "name": "ipython",
    "version": 3
   },
   "file_extension": ".py",
   "mimetype": "text/x-python",
   "name": "python",
   "nbconvert_exporter": "python",
   "pygments_lexer": "ipython3",
   "version": "3.8.13"
  },
  "orig_nbformat": 4,
  "vscode": {
   "interpreter": {
    "hash": "ca091608d44dc08bfc212ab9efe45736a1dc0fc5d2c0d0a9cccce5866f8fffa4"
   }
  }
 },
 "nbformat": 4,
 "nbformat_minor": 2
}
