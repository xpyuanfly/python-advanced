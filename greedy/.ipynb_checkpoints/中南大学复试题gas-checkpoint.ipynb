{
 "cells": [
  {
   "cell_type": "code",
   "execution_count": 1,
   "metadata": {},
   "outputs": [
    {
     "name": "stdout",
     "output_type": "stream",
     "text": [
      "加油次数：4\n",
      "加油站位置：[1, 2, 3, 4, 5, 1, 6, 6]\n",
      "加油位置：[2, 3, 5, 6]\n"
     ]
    }
   ],
   "source": [
    "'''\n",
    "来源：http://www.pipioj.online/problem.php?id=1016\n",
    "\n",
    "Q3加油站:\n",
    "一辆汽车加满油后可行驶n公里。旅途中有若干加油站。设计一个有效算法,指出应在哪些加油站停靠加油,使沿途加油次数最少。\n",
    "请对于给定的n和k个加油站位置，计算最少加油次数。\n",
    "输入:输入包含多组测试用例。\n",
    "对于每一组数据，其第1行有2个正整数n（1≤n≤5000）和k（1≤k≤5000）。表示汽车加满油后可行驶n公里，且旅途中有k个加油站。\n",
    "接下来的1行中，有k+1个整数，表示第k个加油站与第k-1个加油站之间的距离。\n",
    "第0个加油站表示出发地，汽车已加满油。第k+1个加油站表示目的地。\n",
    "输出:数据输出一行。如果所对应的输入数据数据可以到达，将计算的最少加油次数输出。如果无法到达目的地，则输出“NoSolution”。\n",
    "样例输入\n",
    "7 7\n",
    "1 2 3 4 5 1 6 6 \n",
    "样例输出\n",
    "4\n",
    "'''\n",
    "fulloil = 7\n",
    "n = fulloil\n",
    "ls = [1, 2, 3, 4, 5, 1, 6, 6]\n",
    "count = 0\n",
    "\n",
    "def oiling():\n",
    "    global n\n",
    "    global count\n",
    "    global fulloil\n",
    "    n = fulloil\n",
    "    count += 1\n",
    "\n",
    "oiling_position = []\n",
    "\n",
    "for i in range(len(ls)):\n",
    "    if fulloil < ls[i]:\n",
    "        print(\"到达不了，n:{}<ls[{}]:{}\".format(n, i, ls[i]))\n",
    "        break\n",
    "\n",
    "    if n < ls[i]:\n",
    "        oiling()\n",
    "        oiling_position.append(i-1)\n",
    "    n -= ls[i]\n",
    "\n",
    "print(\"加油次数：{}\".format(count))\n",
    "print(\"加油站位置：{}\".format(ls))\n",
    "print(\"加油位置：{}\".format(oiling_position))"
   ]
  },
  {
   "cell_type": "code",
   "execution_count": 2,
   "metadata": {},
   "outputs": [
    {
     "data": {
      "text/plain": [
       "1"
      ]
     },
     "execution_count": 2,
     "metadata": {},
     "output_type": "execute_result"
    }
   ],
   "source": [
    "import torch\n",
    "torch.cuda.device_count()"
   ]
  },
  {
   "cell_type": "code",
   "execution_count": null,
   "metadata": {},
   "outputs": [],
   "source": []
  }
 ],
 "metadata": {
  "kernelspec": {
   "display_name": "Python 3.8.13 ('base')",
   "language": "python",
   "name": "python3"
  },
  "language_info": {
   "codemirror_mode": {
    "name": "ipython",
    "version": 3
   },
   "file_extension": ".py",
   "mimetype": "text/x-python",
   "name": "python",
   "nbconvert_exporter": "python",
   "pygments_lexer": "ipython3",
   "version": "3.8.13"
  },
  "vscode": {
   "interpreter": {
    "hash": "ca091608d44dc08bfc212ab9efe45736a1dc0fc5d2c0d0a9cccce5866f8fffa4"
   }
  }
 },
 "nbformat": 4,
 "nbformat_minor": 4
}
