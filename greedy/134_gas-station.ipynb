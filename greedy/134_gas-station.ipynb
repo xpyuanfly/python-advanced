{
 "cells": [
  {
   "cell_type": "markdown",
   "metadata": {},
   "source": [
    "在一条环路上有 n 个加油站，其中第 i 个加油站有汽油 gas[i] 升。\n",
    "\n",
    "你有一辆油箱容量无限的的汽车，从第 i 个加油站开往第 i+1 个加油站需要消耗汽油 cost[i] 升。你从其中的一个加油站出发，开始时油箱为空。\n",
    "\n",
    "给定两个整数数组 gas 和 cost ，如果你可以绕环路行驶一周，则返回出发时加油站的编号，否则返回 -1 。如果存在解，则 保证 它是 唯一 的。\n",
    "\n",
    "示例 1:\n",
    "\n",
    "输入: gas = [1,2,3,4,5], cost = [3,4,5,1,2]\n",
    "\n",
    "输出: 3\n",
    "\n",
    "解释:\n",
    "从 3 号加油站(索引为 3 处)出发，可获得 4 升汽油。此时油箱有 = 0 + 4 = 4 升汽油\n",
    "开往 4 号加油站，此时油箱有 4 - 1 + 5 = 8 升汽油\n",
    "开往 0 号加油站，此时油箱有 8 - 2 + 1 = 7 升汽油\n",
    "开往 1 号加油站，此时油箱有 7 - 3 + 2 = 6 升汽油\n",
    "开往 2 号加油站，此时油箱有 6 - 4 + 3 = 5 升汽油\n",
    "开往 3 号加油站，你需要消耗 5 升汽油，正好足够你返回到 3 号加油站。\n",
    "因此，3 可为起始索引。\n",
    "示例 2:\n",
    "\n",
    "输入: gas = [2,3,4], cost = [3,4,3]\n",
    "\n",
    "输出: -1\n",
    "\n",
    "解释:\n",
    "你不能从 0 号或 1 号加油站出发，因为没有足够的汽油可以让你行驶到下一个加油站。\n",
    "我们从 2 号加油站出发，可以获得 4 升汽油。 此时油箱有 = 0 + 4 = 4 升汽油\n",
    "开往 0 号加油站，此时油箱有 4 - 3 + 2 = 3 升汽油\n",
    "开往 1 号加油站，此时油箱有 3 - 3 + 3 = 3 升汽油\n",
    "你无法返回 2 号加油站，因为返程需要消耗 4 升汽油，但是你的油箱只有 3 升汽油。\n",
    "因此，无论怎样，你都不可能绕环路行驶一周。\n",
    "\n",
    "来源：力扣（LeetCode）\n",
    "链接：https://leetcode.cn/problems/gas-station"
   ]
  },
  {
   "cell_type": "code",
   "execution_count": 2,
   "metadata": {},
   "outputs": [
    {
     "data": {
      "text/plain": [
       "1"
      ]
     },
     "execution_count": 2,
     "metadata": {},
     "output_type": "execute_result"
    }
   ],
   "source": [
    "class Solution(object):\n",
    "    \"\"\"\n",
    "    Consider we start at gas station i, and until j we firstly run out of gas.\n",
    "\n",
    "    That's say remain(i,j) = R(i) + ... + R(j) < 0, R(i) >= 0, R(j) < 0\n",
    "    and remain(i, m) >= 0, where i =< m < j,\n",
    "    We assume R(k) = gas(k) - cost(k) here.\n",
    "\n",
    "    Further more, we can make sure remain(m+1, k) < 0.\n",
    "    Just because remain(i,j) < 0 and remain(i, m) >= 0.\n",
    "    So, next we just need to start from index k+1.\n",
    "\n",
    "    So, firstly find all the (i,j) pairs, but just need to record the last j.\n",
    "    Then if there is an unique(it's guaranteed) solution, it must be (j+1)\n",
    "    \"\"\"\n",
    "    def canCompleteCircuit(self, gas, cost):\n",
    "        station_num = len(gas)\n",
    "        mark_station = -1\n",
    "        all_remain = 0\n",
    "        remain_gas = 0\n",
    "        for i in range(station_num):\n",
    "            all_remain += (gas[i]-cost[i])\n",
    "            remain_gas += (gas[i]-cost[i])\n",
    "            if remain_gas < 0:\n",
    "                mark_station = i\n",
    "                remain_gas = 0\n",
    "\n",
    "        if all_remain >= 0:\n",
    "            return (mark_station + 1) % station_num\n",
    "        else:\n",
    "            return -1\n",
    "\n",
    "        return -1\n",
    "\n",
    "\"\"\"\n",
    "[4]\n",
    "[5]\n",
    "[1,10,2,3,4,5,6]\n",
    "[2,4,3,4,5,6,7]\n",
    "[1,2,3,4,5,6,10]\n",
    "[1,2,2,3,4,15,4]\n",
    "[2,0,1,2,3,4,0]\n",
    "[0,1,0,0,0,0,11]\n",
    "\"\"\"\n",
    "Solution().canCompleteCircuit([1,10,2,3,4,5,6],[2,4,3,4,5,6,7])\n"
   ]
  }
 ],
 "metadata": {
  "kernelspec": {
   "display_name": "Python 3.9.12 ('base')",
   "language": "python",
   "name": "python3"
  },
  "language_info": {
   "codemirror_mode": {
    "name": "ipython",
    "version": 3
   },
   "file_extension": ".py",
   "mimetype": "text/x-python",
   "name": "python",
   "nbconvert_exporter": "python",
   "pygments_lexer": "ipython3",
   "version": "3.9.12"
  },
  "orig_nbformat": 4,
  "vscode": {
   "interpreter": {
    "hash": "a4dded33d7e5587329f3b5bd298582320440e731ec97d683ac8324bdf803f54d"
   }
  }
 },
 "nbformat": 4,
 "nbformat_minor": 2
}
