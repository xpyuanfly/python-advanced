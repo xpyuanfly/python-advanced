{
 "cells": [
  {
   "cell_type": "markdown",
   "metadata": {},
   "source": [
    "给定一个非负整数数组 nums ，你最初位于数组的 第一个下标 。\n",
    "\n",
    "数组中的每个元素代表你在该位置可以跳跃的最大长度。\n",
    "\n",
    "判断你是否能够到达最后一个下标。\n",
    "\n",
    " \n",
    "\n",
    "示例 1：\n",
    "\n",
    "输入：nums = [2,3,1,1,4]\n",
    "输出：true\n",
    "解释：可以先跳 1 步，从下标 0 到达下标 1, 然后再从下标 1 跳 3 步到达最后一个下标。\n",
    "示例 2：\n",
    "\n",
    "输入：nums = [3,2,1,0,4]\n",
    "输出：false\n",
    "解释：无论怎样，总会到达下标为 3 的位置。但该下标的最大跳跃长度是 0 ， 所以永远不可能到达最后一个下标。\n",
    " \n",
    "\n",
    "来源：力扣（LeetCode）\n",
    "链接：https://leetcode.cn/problems/jump-game"
   ]
  },
  {
   "cell_type": "code",
   "execution_count": 2,
   "metadata": {},
   "outputs": [
    {
     "data": {
      "text/plain": [
       "True"
      ]
     },
     "execution_count": 2,
     "metadata": {},
     "output_type": "execute_result"
    }
   ],
   "source": [
    "class Solution(object):  \n",
    "    def canJump(self, nums):\n",
    "        \"\"\"\n",
    "        The main idea is to see if current element can be\n",
    "        reached by previous max jump.\n",
    "        If not, return false. If true, renew the max jump.\n",
    "        \"\"\"\n",
    "        length = len(nums)\n",
    "        index, max_distance = 0, nums[0]\n",
    "\n",
    "        while index < length:\n",
    "            # Prune here.\n",
    "            if max_distance >= length - 1:\n",
    "                return True\n",
    "\n",
    "            if max_distance >= index:\n",
    "                max_distance = max(max_distance, index + nums[index])\n",
    "            else:\n",
    "                # Current position cannot be reached.\n",
    "                return False\n",
    "            index += 1\n",
    "\n",
    "        return True\n",
    "\n",
    "\"\"\"\n",
    "[0]\n",
    "[2,5,0,3]\n",
    "[2,3,1,1,4]\n",
    "[3,1,8,1,1,1,1,1,5]\n",
    "\"\"\"\n",
    "\n",
    "\n",
    "Solution().canJump([3,1,8,1,1,1,1,1,5])"
   ]
  },
  {
   "cell_type": "markdown",
   "metadata": {},
   "source": []
  }
 ],
 "metadata": {
  "kernelspec": {
   "display_name": "Python 3.9.12 ('base')",
   "language": "python",
   "name": "python3"
  },
  "language_info": {
   "codemirror_mode": {
    "name": "ipython",
    "version": 3
   },
   "file_extension": ".py",
   "mimetype": "text/x-python",
   "name": "python",
   "nbconvert_exporter": "python",
   "pygments_lexer": "ipython3",
   "version": "3.9.12"
  },
  "orig_nbformat": 4,
  "vscode": {
   "interpreter": {
    "hash": "a4dded33d7e5587329f3b5bd298582320440e731ec97d683ac8324bdf803f54d"
   }
  }
 },
 "nbformat": 4,
 "nbformat_minor": 2
}
