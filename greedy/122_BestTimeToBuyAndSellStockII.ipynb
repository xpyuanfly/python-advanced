{
 "cells": [
  {
   "cell_type": "markdown",
   "metadata": {},
   "source": [
    "给你一个整数数组 prices ，其中 prices[i] 表示某支股票第 i 天的价格。\n",
    "\n",
    "在每一天，你可以决定是否购买和/或出售股票。你在任何时候 最多 只能持有 一股 股票。你也可以先购买，然后在 同一天 出售。\n",
    "\n",
    "返回 你能获得的 最大 利润 。\n",
    "\n",
    " \n",
    "\n",
    "示例 1：\n",
    "\n",
    "输入：prices = [7,1,5,3,6,4]\n",
    "\n",
    "输出：7\n",
    "\n",
    "解释：在第 2 天（股票价格 = 1）的时候买入，在第 3 天（股票价格 = 5）的时候卖出, 这笔交易所能获得利润 = 5 - 1 = 4 。\n",
    "     随后，在第 4 天（股票价格 = 3）的时候买入，在第 5 天（股票价格 = 6）的时候卖出, 这笔交易所能获得利润 = 6 - 3 = 3 。\n",
    "     总利润为 4 + 3 = 7 。\n",
    "示例 2：\n",
    "\n",
    "输入：prices = [1,2,3,4,5]\n",
    "\n",
    "输出：4\n",
    "\n",
    "解释：在第 1 天（股票价格 = 1）的时候买入，在第 5 天 （股票价格 = 5）的时候卖出, 这笔交易所能获得利润 = 5 - 1 = 4 。\n",
    "     总利润为 4 。\n",
    "示例 3：\n",
    "\n",
    "输入：prices = [7,6,4,3,1]\n",
    "\n",
    "输出：0\n",
    "\n",
    "解释：在这种情况下, 交易无法获得正利润，所以不参与交易可以获得最大利润，最大利润为 0 。 \n",
    "\n",
    "来源：力扣（LeetCode）\n",
    "链接：https://leetcode.cn/problems/best-time-to-buy-and-sell-stock-ii"
   ]
  },
  {
   "cell_type": "code",
   "execution_count": 1,
   "metadata": {},
   "outputs": [
    {
     "data": {
      "text/plain": [
       "31"
      ]
     },
     "execution_count": 1,
     "metadata": {},
     "output_type": "execute_result"
    }
   ],
   "source": [
    "class Solution(object):\n",
    "    \"\"\" As long as there is a price gap, we gain a profit.\n",
    "    \"\"\"\n",
    "    def maxProfit(self, prices):\n",
    "        max_profit = 0\n",
    "        for i in range(1, len(prices)):\n",
    "            diff = prices[i] - prices[i - 1]\n",
    "            if diff > 0:\n",
    "                max_profit += diff\n",
    "        return max_profit\n",
    "\n",
    "\"\"\"\n",
    "[]\n",
    "[3,4,5,6,2,4]\n",
    "[6,5,4,3,2,1]\n",
    "[1,2,3,4,3,2,1,9,11,2,20]\n",
    "\"\"\"\n",
    "Solution().maxProfit([1,2,3,4,3,2,1,9,11,2,20])"
   ]
  }
 ],
 "metadata": {
  "kernelspec": {
   "display_name": "Python 3.8.13 ('base')",
   "language": "python",
   "name": "python3"
  },
  "language_info": {
   "codemirror_mode": {
    "name": "ipython",
    "version": 3
   },
   "file_extension": ".py",
   "mimetype": "text/x-python",
   "name": "python",
   "nbconvert_exporter": "python",
   "pygments_lexer": "ipython3",
   "version": "3.8.13"
  },
  "orig_nbformat": 4,
  "vscode": {
   "interpreter": {
    "hash": "ca091608d44dc08bfc212ab9efe45736a1dc0fc5d2c0d0a9cccce5866f8fffa4"
   }
  }
 },
 "nbformat": 4,
 "nbformat_minor": 2
}
