{
 "cells": [
  {
   "cell_type": "markdown",
   "metadata": {},
   "source": [
    "汽车从起点出发驶向目的地，该目的地位于出发位置东面 target 英里处。\n",
    "\n",
    "沿途有加油站，每个 station[i] 代表一个加油站，它位于出发位置东面 station[i][0] 英里处，并且有 station[i][1] 升汽油。\n",
    "\n",
    "假设汽车油箱的容量是无限的，其中最初有 startFuel 升燃料。它每行驶 1 英里就会用掉 1 升汽油。\n",
    "\n",
    "当汽车到达加油站时，它可能停下来加油，将所有汽油从加油站转移到汽车中。\n",
    "\n",
    "为了到达目的地，汽车所必要的最低加油次数是多少？如果无法到达目的地，则返回 -1 。\n",
    "\n",
    "注意：如果汽车到达加油站时剩余燃料为 0，它仍然可以在那里加油。如果汽车到达目的地时剩余燃料为 0，仍然认为它已经到达目的地。\n",
    "\n",
    "示例 1：\n",
    "\n",
    "输入：target = 1, startFuel = 1, stations = []\n",
    "\n",
    "输出：0\n",
    "\n",
    "解释：我们可以在不加油的情况下到达目的地。\n",
    "\n",
    "示例 2：\n",
    "\n",
    "输入：target = 100, startFuel = 1, stations = [[10,100]]\n",
    "\n",
    "输出：-1\n",
    "\n",
    "解释：我们无法抵达目的地，甚至无法到达第一个加油站。\n",
    "\n",
    "示例 3：\n",
    "\n",
    "输入：target = 100, startFuel = 10, stations = [[10,60],[20,30],[30,30],[60,40]]\n",
    "\n",
    "输出：2\n",
    "\n",
    "解释：\n",
    "我们出发时有 10 升燃料。\n",
    "我们开车来到距起点 10 英里处的加油站，消耗 10 升燃料。将汽油从 0 升加到 60 升。\n",
    "然后，我们从 10 英里处的加油站开到 60 英里处的加油站（消耗 50 升燃料），\n",
    "并将汽油从 10 升加到 50 升。然后我们开车抵达目的地。\n",
    "我们沿途在1两个加油站停靠，所以返回 2 。\n",
    " \n",
    "\n",
    "来源：力扣（LeetCode）\n",
    "链接：https://leetcode.cn/problems/minimum-number-of-refueling-stops"
   ]
  },
  {
   "cell_type": "markdown",
   "metadata": {},
   "source": [
    "为什么当没油时选最大的那个加油站的油来加，而不需要管那个最大加油站离当前位置已经过了多少距离。\n",
    "\n",
    "如果有个加油站有1000的油，离当前位置的距离是900， 还有个加油站有500的油，但离当前位置的距离只有1，\n",
    "\n",
    "那么为什么前者贡献值比后者贡献值大呢？\n",
    "\n",
    "如果你迷糊了困惑了，说明你还没弄懂。\n",
    "\n",
    "如果你会了但没想到过这个问题，说明你还没悟透。\n",
    "\n",
    "如果你不知道怎么说，说明你还不能成为一名教师。"
   ]
  },
  {
   "cell_type": "code",
   "execution_count": null,
   "metadata": {},
   "outputs": [],
   "source": [
    "#何家伟code\n",
    "import heapq\n",
    "\n",
    "target = 100\n",
    "startFuel = 10\n",
    "stations = [[10,60],[20,30],[30,30],[60,40]]\n",
    "\n",
    "trunk = []\n",
    "carFuel = startFuel\n",
    "i = 0\n",
    "\n",
    "stations.append([target,0])\n",
    "for distance,stationFuel in stations:\n",
    "    while carFuel<distance:\n",
    "        if trunk:\n",
    "            carFuel += -heapq.heappop(trunk)\n",
    "            i += 1\n",
    "        else:\n",
    "            print(-1)\n",
    "            break\n",
    "    heapq.heappush(trunk,-stationFuel)\n",
    "print(i)"
   ]
  }
 ],
 "metadata": {
  "kernelspec": {
   "display_name": "Python 3.8.13 ('base')",
   "language": "python",
   "name": "python3"
  },
  "language_info": {
   "codemirror_mode": {
    "name": "ipython",
    "version": 3
   },
   "file_extension": ".py",
   "mimetype": "text/x-python",
   "name": "python",
   "nbconvert_exporter": "python",
   "pygments_lexer": "ipython3",
   "version": "3.8.13"
  },
  "orig_nbformat": 4,
  "vscode": {
   "interpreter": {
    "hash": "ca091608d44dc08bfc212ab9efe45736a1dc0fc5d2c0d0a9cccce5866f8fffa4"
   }
  }
 },
 "nbformat": 4,
 "nbformat_minor": 2
}
