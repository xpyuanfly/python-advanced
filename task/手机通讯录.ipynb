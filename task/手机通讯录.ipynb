{
 "cells": [
  {
   "cell_type": "code",
   "execution_count": 5,
   "metadata": {},
   "outputs": [
    {
     "name": "stdout",
     "output_type": "stream",
     "text": [
      "罗毅扬0  13970849590\n",
      "以上为通过电话关键词查找到的姓名与电话:9590\n",
      "罗毅扬0  13970849590\n",
      "罗毅扬1  13970849591\n",
      "罗毅扬2  13970849592\n",
      "罗毅扬3  13970849593\n",
      "罗毅扬4  13970849594\n",
      "以上为通过姓名查找到的电话:罗毅扬\n",
      "罗毅扬0  13970849590\n",
      "罗毅扬1  13970849591\n",
      "罗毅扬2  13970849592\n",
      "罗毅扬3  13970849593\n",
      "罗毅扬4  13970849594\n",
      "以上为通过首字母查找到的电话:LYY\n",
      "罗毅扬0  13970849590\n",
      "罗毅扬1  13970849591\n",
      "罗毅扬2  13970849592\n",
      "罗毅扬3  13970849593\n",
      "罗毅扬4  13970849594\n",
      "以上为通过拼音查找到的电话:luoyi\n"
     ]
    }
   ],
   "source": [
    "#简单的模糊搜索手机通讯录\n",
    "from xpinyin import Pinyin\n",
    "class contack(object):\n",
    "    def __init__(self):\n",
    "        self.name = []\n",
    "        self.number = []\n",
    "        self.Sname = []\n",
    "        self.Pname = []\n",
    "    def add(self,Name,Number):\n",
    "        self.name.append(Name)\n",
    "        self.number.append(Number)\n",
    "        self.Sname.append(''.join([x[0].upper() for x in (Pinyin().get_pinyin(Name).split('-'))]))\n",
    "        self.Pname.append(''.join(Pinyin().get_pinyin(Name).split('-')))\n",
    "    def NumberFind(self,PartNumber):\n",
    "        for i in range(len(self.number)):\n",
    "            if self.number[i].__contains__(PartNumber):\n",
    "                print(self.name[i] + '  ' +self.number[i])\n",
    "        print('以上为通过电话关键词查找到的姓名与电话:'+ PartNumber)\n",
    "    def NameFind(self,Name):\n",
    "        for i in range(len(self.name)):\n",
    "            if self.name[i].__contains__(Name):\n",
    "                print(self.name[i] + '  ' +self.number[i])\n",
    "        print('以上为通过姓名查找到的电话:'+ Name)\n",
    "    def SNameFind(self,SName):\n",
    "        for i in range(len(self.Sname)):\n",
    "            if self.Sname[i].__contains__(SName):\n",
    "                print(self.name[i] + '  ' +self.number[i])\n",
    "        print('以上为通过首字母查找到的电话:'+ SName)\n",
    "    def PNameFind(self,PName):\n",
    "        for i in range(len(self.Pname)):\n",
    "            if self.Pname[i].__contains__(PName):\n",
    "                print(self.name[i] + '  ' +self.number[i])\n",
    "        print('以上为通过拼音查找到的电话:'+ PName)\n",
    "        \n",
    "        \n",
    "contackAll = contack()\n",
    "for i in range(5):\n",
    "    contackAll.add('罗毅扬'+str(i),'1397084959'+str(i))\n",
    "contackAll.NumberFind('9590')\n",
    "contackAll.NameFind('罗毅扬')\n",
    "contackAll.SNameFind('LYY')\n",
    "contackAll.PNameFind('luoyi')\n",
    "\n"
   ]
  },
  {
   "cell_type": "code",
   "execution_count": 6,
   "metadata": {},
   "outputs": [
    {
     "ename": "ModuleNotFoundError",
     "evalue": "No module named 'pypinyin'",
     "output_type": "error",
     "traceback": [
      "\u001b[0;31m---------------------------------------------------------------------------\u001b[0m",
      "\u001b[0;31mModuleNotFoundError\u001b[0m                       Traceback (most recent call last)",
      "\u001b[1;32m/mnt/d/jupyter_run/python-advanced/task/手机通讯录.ipynb Cell 3\u001b[0m in \u001b[0;36m<cell line: 2>\u001b[0;34m()\u001b[0m\n\u001b[1;32m      <a href='vscode-notebook-cell://ssh-remote%2Bschedule.biyecheck.cn/mnt/d/jupyter_run/python-advanced/task/%E6%89%8B%E6%9C%BA%E9%80%9A%E8%AE%AF%E5%BD%95.ipynb#W1sdnNjb2RlLXJlbW90ZQ%3D%3D?line=0'>1</a>\u001b[0m \u001b[39mimport\u001b[39;00m \u001b[39mre\u001b[39;00m\n\u001b[0;32m----> <a href='vscode-notebook-cell://ssh-remote%2Bschedule.biyecheck.cn/mnt/d/jupyter_run/python-advanced/task/%E6%89%8B%E6%9C%BA%E9%80%9A%E8%AE%AF%E5%BD%95.ipynb#W1sdnNjb2RlLXJlbW90ZQ%3D%3D?line=1'>2</a>\u001b[0m \u001b[39mimport\u001b[39;00m \u001b[39mpypinyin\u001b[39;00m\n\u001b[1;32m      <a href='vscode-notebook-cell://ssh-remote%2Bschedule.biyecheck.cn/mnt/d/jupyter_run/python-advanced/task/%E6%89%8B%E6%9C%BA%E9%80%9A%E8%AE%AF%E5%BD%95.ipynb#W1sdnNjb2RlLXJlbW90ZQ%3D%3D?line=4'>5</a>\u001b[0m \u001b[39mclass\u001b[39;00m \u001b[39mperson\u001b[39;00m(\u001b[39mobject\u001b[39m):\n\u001b[1;32m      <a href='vscode-notebook-cell://ssh-remote%2Bschedule.biyecheck.cn/mnt/d/jupyter_run/python-advanced/task/%E6%89%8B%E6%9C%BA%E9%80%9A%E8%AE%AF%E5%BD%95.ipynb#W1sdnNjb2RlLXJlbW90ZQ%3D%3D?line=5'>6</a>\u001b[0m     \u001b[39mdef\u001b[39;00m \u001b[39m__init__\u001b[39m(\u001b[39mself\u001b[39m, telno, name):\n",
      "\u001b[0;31mModuleNotFoundError\u001b[0m: No module named 'pypinyin'"
     ]
    }
   ],
   "source": [
    "import re\n",
    "import pypinyin\n",
    "\n",
    "\n",
    "class person(object):\n",
    "    def __init__(self, telno, name):\n",
    "        self.telno = telno\n",
    "        self.name = name\n",
    "        self.quanping = pypinyin.lazy_pinyin(name)\n",
    "        self.shouxie = ''.join(pypinyin.lazy_pinyin(name, style=pypinyin.Style.FIRST_LETTER))\n",
    "\n",
    "    def search(self, input_str):\n",
    "        pattern = re.compile(input_str)\n",
    "        return self if bool(pattern.search(str(self.telno))) or bool(pattern.search(self.name)) or bool(list(filter(lambda x:pattern.search(x) !=None, self.quanping))) or bool(pattern.search(self.shouxie)) else None\n",
    "\n",
    "    def __repr__(self):\n",
    "        return \"name:{},telno:{}\".format(self.name, self.telno)\n",
    "\n",
    "\n",
    "if __name__ == \"__main__\":\n",
    "    ls = [person(13973300737, '张三'), person(15173300737, '李四三')]\n",
    "    input_str = input(\"搜索：\")\n",
    "    res = []\n",
    "    for p in ls:\n",
    "        res.append(p.search(input_str))\n",
    "    print(res)"
   ]
  }
 ],
 "metadata": {
  "kernelspec": {
   "display_name": "Python 3.8.13 ('base')",
   "language": "python",
   "name": "python3"
  },
  "language_info": {
   "codemirror_mode": {
    "name": "ipython",
    "version": 3
   },
   "file_extension": ".py",
   "mimetype": "text/x-python",
   "name": "python",
   "nbconvert_exporter": "python",
   "pygments_lexer": "ipython3",
   "version": "3.8.13"
  },
  "orig_nbformat": 4,
  "vscode": {
   "interpreter": {
    "hash": "ca091608d44dc08bfc212ab9efe45736a1dc0fc5d2c0d0a9cccce5866f8fffa4"
   }
  }
 },
 "nbformat": 4,
 "nbformat_minor": 2
}
